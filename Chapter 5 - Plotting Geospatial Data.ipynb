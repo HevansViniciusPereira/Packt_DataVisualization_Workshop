{
 "cells": [
  {
   "cell_type": "markdown",
   "id": "strange-jamaica",
   "metadata": {},
   "source": [
    "# Plotting Poaching Density Using Dot Density and Histograms"
   ]
  },
  {
   "cell_type": "code",
   "execution_count": 1,
   "id": "premium-inquiry",
   "metadata": {},
   "outputs": [],
   "source": [
    "# import packages\n",
    "import pandas as pd\n",
    "import geoplotlib\n",
    "from geoplotlib.utils import read_csv\n",
    "import warnings\n",
    "warnings.filterwarnings('ignore')"
   ]
  },
  {
   "cell_type": "code",
   "execution_count": 2,
   "id": "available-counter",
   "metadata": {},
   "outputs": [
    {
     "data": {
      "text/plain": [
       "DataAccessObject(['id_report', 'date_report', 'description', 'created_date', 'lat', 'lon'] x 268)"
      ]
     },
     "execution_count": 2,
     "metadata": {},
     "output_type": "execute_result"
    }
   ],
   "source": [
    "# load the data\n",
    "df = read_csv('Datasets/poaching_points_cleaned.csv')\n",
    "df"
   ]
  },
  {
   "cell_type": "code",
   "execution_count": 3,
   "id": "different-butler",
   "metadata": {},
   "outputs": [
    {
     "data": {
      "text/html": [
       "<div>\n",
       "<style scoped>\n",
       "    .dataframe tbody tr th:only-of-type {\n",
       "        vertical-align: middle;\n",
       "    }\n",
       "\n",
       "    .dataframe tbody tr th {\n",
       "        vertical-align: top;\n",
       "    }\n",
       "\n",
       "    .dataframe thead th {\n",
       "        text-align: right;\n",
       "    }\n",
       "</style>\n",
       "<table border=\"1\" class=\"dataframe\">\n",
       "  <thead>\n",
       "    <tr style=\"text-align: right;\">\n",
       "      <th></th>\n",
       "      <th>id_report</th>\n",
       "      <th>date_report</th>\n",
       "      <th>description</th>\n",
       "      <th>created_date</th>\n",
       "      <th>lat</th>\n",
       "      <th>lon</th>\n",
       "    </tr>\n",
       "  </thead>\n",
       "  <tbody>\n",
       "    <tr>\n",
       "      <th>0</th>\n",
       "      <td>138</td>\n",
       "      <td>01/01/2005 12:00:00 AM</td>\n",
       "      <td>Poaching incident</td>\n",
       "      <td>2005/01/01 12:00:00 AM</td>\n",
       "      <td>-7.049359</td>\n",
       "      <td>34.841440</td>\n",
       "    </tr>\n",
       "    <tr>\n",
       "      <th>1</th>\n",
       "      <td>4</td>\n",
       "      <td>01/20/2005 12:00:00 AM</td>\n",
       "      <td>Poaching incident</td>\n",
       "      <td>2005/01/20 12:00:00 AM</td>\n",
       "      <td>-7.650840</td>\n",
       "      <td>34.480010</td>\n",
       "    </tr>\n",
       "    <tr>\n",
       "      <th>2</th>\n",
       "      <td>43</td>\n",
       "      <td>01/20/2005 12:00:00 AM</td>\n",
       "      <td>Poaching incident</td>\n",
       "      <td>2005/02/20 12:00:00 AM</td>\n",
       "      <td>-7.843202</td>\n",
       "      <td>34.005704</td>\n",
       "    </tr>\n",
       "    <tr>\n",
       "      <th>3</th>\n",
       "      <td>98</td>\n",
       "      <td>01/20/2005 12:00:00 AM</td>\n",
       "      <td>Poaching incident</td>\n",
       "      <td>2005/02/21 12:00:00 AM</td>\n",
       "      <td>-7.745846</td>\n",
       "      <td>33.948526</td>\n",
       "    </tr>\n",
       "    <tr>\n",
       "      <th>4</th>\n",
       "      <td>141</td>\n",
       "      <td>01/20/2005 12:00:00 AM</td>\n",
       "      <td>Poaching incident</td>\n",
       "      <td>2005/02/22 12:00:00 AM</td>\n",
       "      <td>-7.876673</td>\n",
       "      <td>33.690167</td>\n",
       "    </tr>\n",
       "  </tbody>\n",
       "</table>\n",
       "</div>"
      ],
      "text/plain": [
       "   id_report             date_report        description  \\\n",
       "0        138  01/01/2005 12:00:00 AM  Poaching incident   \n",
       "1          4  01/20/2005 12:00:00 AM  Poaching incident   \n",
       "2         43  01/20/2005 12:00:00 AM  Poaching incident   \n",
       "3         98  01/20/2005 12:00:00 AM  Poaching incident   \n",
       "4        141  01/20/2005 12:00:00 AM  Poaching incident   \n",
       "\n",
       "             created_date       lat        lon  \n",
       "0  2005/01/01 12:00:00 AM -7.049359  34.841440  \n",
       "1  2005/01/20 12:00:00 AM -7.650840  34.480010  \n",
       "2  2005/02/20 12:00:00 AM -7.843202  34.005704  \n",
       "3  2005/02/21 12:00:00 AM -7.745846  33.948526  \n",
       "4  2005/02/22 12:00:00 AM -7.876673  33.690167  "
      ]
     },
     "execution_count": 3,
     "metadata": {},
     "output_type": "execute_result"
    }
   ],
   "source": [
    "# load the data as a pandas dataframe\n",
    "data = pd.read_csv('Datasets/poaching_points_cleaned.csv')\n",
    "data.head()"
   ]
  },
  {
   "cell_type": "code",
   "execution_count": 4,
   "id": "tutorial-indiana",
   "metadata": {},
   "outputs": [],
   "source": [
    "# Plot each row of our dataset as a single point on the map using a dot density layer\n",
    "geoplotlib.dot(df)\n",
    "geoplotlib.show()"
   ]
  },
  {
   "cell_type": "code",
   "execution_count": 5,
   "id": "bacterial-aspect",
   "metadata": {},
   "outputs": [],
   "source": [
    "# Visualize the density\n",
    "geoplotlib.hist(df, binsize=20)\n",
    "geoplotlib.show()"
   ]
  },
  {
   "cell_type": "code",
   "execution_count": 6,
   "id": "developed-asthma",
   "metadata": {},
   "outputs": [],
   "source": [
    "# Create a Voronoi plot\n",
    "geoplotlib.voronoi(df, cmap='Blues_r', max_area=1e5, alpha=255)\n",
    "geoplotlib.show()"
   ]
  },
  {
   "cell_type": "markdown",
   "id": "proper-character",
   "metadata": {},
   "source": [
    "# Creating a Choropleth Plot with GeoJSON Data"
   ]
  },
  {
   "cell_type": "code",
   "execution_count": 7,
   "id": "incorporate-magazine",
   "metadata": {},
   "outputs": [],
   "source": [
    "import json\n",
    "from geoplotlib.colors import ColorMap\n",
    "from geoplotlib.utils import BoundingBox"
   ]
  },
  {
   "cell_type": "code",
   "execution_count": 8,
   "id": "filled-pickup",
   "metadata": {},
   "outputs": [
    {
     "name": "stdout",
     "output_type": "stream",
     "text": [
      "{\n",
      "    \"type\": \"Feature\",\n",
      "    \"properties\": {\n",
      "        \"GEO_ID\": \"0400000US05\",\n",
      "        \"STATE\": \"05\",\n",
      "        \"NAME\": \"Arkansas\",\n",
      "        \"LSAD\": \"\",\n",
      "        \"CENSUSAREA\": 52035.477\n",
      "    },\n",
      "    \"geometry\": {\n",
      "        \"type\": \"Polygon\",\n",
      "        \"coordinates\": [\n",
      "            -94.042964,\n",
      "            33.019219\n",
      "        ]\n",
      "    }\n",
      "}\n"
     ]
    }
   ],
   "source": [
    "# open the GeoJSON file and load it as a json object\n",
    "with open('Datasets/us_states.json') as data:\n",
    "    dataset = json.load(data)\n",
    "    \n",
    "    fourth_state = dataset.get('features')[3]\n",
    "    \n",
    "    # only showing one coordinate instead of all points\n",
    "    fourth_state['geometry']['coordinates'] = fourth_state['geometry']['coordinates'][0][0]\n",
    "    print(json.dumps(fourth_state, indent=4))"
   ]
  },
  {
   "cell_type": "code",
   "execution_count": 9,
   "id": "recent-stream",
   "metadata": {},
   "outputs": [
    {
     "name": "stdout",
     "output_type": "stream",
     "text": [
      "Number of states: 52\n",
      "['Alabama', 'Alaska', 'Arizona', 'Arkansas', 'California', 'Colorado', 'Connecticut', 'Delaware', 'District of Columbia', 'Florida', 'Georgia', 'Hawaii', 'Idaho', 'Illinois', 'Indiana', 'Iowa', 'Kansas', 'Kentucky', 'Louisiana', 'Maine', 'Maryland', 'Massachusetts', 'Michigan', 'Minnesota', 'Mississippi', 'Missouri', 'Montana', 'Nebraska', 'Nevada', 'New Hampshire', 'New Jersey', 'New Mexico', 'New York', 'North Carolina', 'North Dakota', 'Ohio', 'Oklahoma', 'Oregon', 'Pennsylvania', 'Rhode Island', 'South Carolina', 'South Dakota', 'Tennessee', 'Texas', 'Utah', 'Vermont', 'Virginia', 'Washington', 'West Virginia', 'Wisconsin', 'Wyoming', 'Puerto Rico']\n"
     ]
    }
   ],
   "source": [
    "# Extract the names of all the states of the USA from the dataset\n",
    "with open('Datasets/us_states.json') as data:\n",
    "    dataset = json.load(data)\n",
    "    \n",
    "    states = [feature['properties']['NAME'] for feature in dataset.get('features')]\n",
    "    \n",
    "    print('Number of states:', len(states))\n",
    "    print(states)"
   ]
  },
  {
   "cell_type": "code",
   "execution_count": 10,
   "id": "early-faith",
   "metadata": {},
   "outputs": [],
   "source": [
    "# Create a GeoJSON plot using the geojson()\n",
    "geoplotlib.geojson('Datasets/us_states.json')\n",
    "geoplotlib.show()"
   ]
  },
  {
   "cell_type": "code",
   "execution_count": 11,
   "id": "protected-uruguay",
   "metadata": {},
   "outputs": [],
   "source": [
    "# Rather than assigning a single value to each state, we want the darkness to represent the number of census areas\n",
    "cmap = ColorMap('Reds', alpha=255, levels=10)\n",
    "\n",
    "def get_color(properties):\n",
    "    return cmap.to_color(properties['SENSUSAREA'], maxvalue=300000, scale='lin')"
   ]
  },
  {
   "cell_type": "code",
   "execution_count": 12,
   "id": "digital-mauritius",
   "metadata": {},
   "outputs": [
    {
     "name": "stderr",
     "output_type": "stream",
     "text": [
      "Traceback (most recent call last):\n",
      "  File \"C:\\Users\\Hevans\\Anaconda3\\lib\\site-packages\\geoplotlib\\__init__.py\", line 32, in _runapp\n",
      "    app.start()\n",
      "  File \"C:\\Users\\Hevans\\Anaconda3\\lib\\site-packages\\geoplotlib\\core.py\", line 367, in start\n",
      "    l.invalidate(self.proj)\n",
      "  File \"C:\\Users\\Hevans\\Anaconda3\\lib\\site-packages\\geoplotlib\\layers.py\", line 974, in invalidate\n",
      "    self.painter.set_color(self.color(feature['properties']))\n",
      "  File \"<ipython-input-11-d22f7b83fda0>\", line 5, in get_color\n",
      "    return cmap.to_color(properties['SENSUSAREA'], maxvalue=300000, scale='lin')\n",
      "KeyError: 'SENSUSAREA'\n"
     ]
    }
   ],
   "source": [
    "# visualize the different states\n",
    "geoplotlib.geojson('Datasets/us_states.json', fill=True, color=get_color)\n",
    "geoplotlib.geojson('Datasets/us_states.json', fill=False, color=[0, 0, 0, 255])\n",
    "geoplotlib.set_bbox(BoundingBox.USA)\n",
    "geoplotlib.show()"
   ]
  },
  {
   "cell_type": "code",
   "execution_count": 13,
   "id": "fifty-stability",
   "metadata": {},
   "outputs": [
    {
     "name": "stderr",
     "output_type": "stream",
     "text": [
      "Traceback (most recent call last):\n",
      "  File \"C:\\Users\\Hevans\\Anaconda3\\lib\\site-packages\\geoplotlib\\__init__.py\", line 32, in _runapp\n",
      "    app.start()\n",
      "  File \"C:\\Users\\Hevans\\Anaconda3\\lib\\site-packages\\geoplotlib\\core.py\", line 367, in start\n",
      "    l.invalidate(self.proj)\n",
      "  File \"C:\\Users\\Hevans\\Anaconda3\\lib\\site-packages\\geoplotlib\\layers.py\", line 974, in invalidate\n",
      "    self.painter.set_color(self.color(feature['properties']))\n",
      "  File \"<ipython-input-11-d22f7b83fda0>\", line 5, in get_color\n",
      "    return cmap.to_color(properties['SENSUSAREA'], maxvalue=300000, scale='lin')\n",
      "KeyError: 'SENSUSAREA'\n"
     ]
    }
   ],
   "source": [
    "# use the f_tooltip argument to provide a tooltip displaying\n",
    "# the name and census area value of the state currently hovered over\n",
    "geoplotlib.geojson('Datasets/us_states.json', fill=True, color=get_color, f_tooltip=lambda properties: properties['NAME'] + ' - Census Areas: ' + str(properties['CENSUSAREA']))\n",
    "geoplotlib.geojson('Datasets/us_states.json', fill=False, color=[0, 0, 0, 255])\n",
    "geoplotlib.set_bbox(BoundingBox.USA)\n",
    "geoplotlib.show()"
   ]
  },
  {
   "cell_type": "markdown",
   "id": "perceived-window",
   "metadata": {},
   "source": [
    "# Visually Comparing Different Tile Providers"
   ]
  },
  {
   "cell_type": "code",
   "execution_count": 14,
   "id": "altered-james",
   "metadata": {},
   "outputs": [],
   "source": [
    "# Display the map with the default tile provider\n",
    "geoplotlib.show()"
   ]
  },
  {
   "cell_type": "code",
   "execution_count": 15,
   "id": "genuine-company",
   "metadata": {},
   "outputs": [],
   "source": [
    "# Use the tiles_provider method and provide the 'darkmatter' tiles\n",
    "geoplotlib.tiles_provider('darkmatter')\n",
    "geoplotlib.show()"
   ]
  },
  {
   "cell_type": "code",
   "execution_count": 16,
   "id": "printable-organizer",
   "metadata": {},
   "outputs": [],
   "source": [
    "# Use the attribution element of the tiles_provider argument object to provide a custom attribution\n",
    "geoplotlib.tiles_provider({\n",
    "    'url': lambda zoom, xtile, ytile: 'http://a.tile.openstreetmap.fr/hot/%d/%d/%d.png' % \n",
    "      (zoom, xtile, ytile),\n",
    "    'tiles_dir': 'custom_tiles',\n",
    "    'attribution': 'Custom Tiles Provider – Humanitarian map style'\n",
    "})\n",
    "geoplotlib.show()"
   ]
  },
  {
   "cell_type": "markdown",
   "id": "occupational-question",
   "metadata": {},
   "source": [
    "# Plotting the Movement of an Aircraft with a Custom Layer"
   ]
  },
  {
   "cell_type": "code",
   "execution_count": 17,
   "id": "german-blocking",
   "metadata": {},
   "outputs": [],
   "source": [
    "import pandas as pd"
   ]
  },
  {
   "cell_type": "code",
   "execution_count": 18,
   "id": "polish-turkey",
   "metadata": {},
   "outputs": [
    {
     "data": {
      "text/html": [
       "<div>\n",
       "<style scoped>\n",
       "    .dataframe tbody tr th:only-of-type {\n",
       "        vertical-align: middle;\n",
       "    }\n",
       "\n",
       "    .dataframe tbody tr th {\n",
       "        vertical-align: top;\n",
       "    }\n",
       "\n",
       "    .dataframe thead th {\n",
       "        text-align: right;\n",
       "    }\n",
       "</style>\n",
       "<table border=\"1\" class=\"dataframe\">\n",
       "  <thead>\n",
       "    <tr style=\"text-align: right;\">\n",
       "      <th></th>\n",
       "      <th>hex_ident</th>\n",
       "      <th>altitude(feet)</th>\n",
       "      <th>latitude</th>\n",
       "      <th>longitude</th>\n",
       "      <th>date</th>\n",
       "      <th>time</th>\n",
       "      <th>angle</th>\n",
       "      <th>distance(nauticalmile)</th>\n",
       "      <th>squawk</th>\n",
       "      <th>ground_speed(knotph)</th>\n",
       "      <th>track</th>\n",
       "      <th>callsign</th>\n",
       "    </tr>\n",
       "  </thead>\n",
       "  <tbody>\n",
       "    <tr>\n",
       "      <th>0</th>\n",
       "      <td>40631C</td>\n",
       "      <td>14525</td>\n",
       "      <td>53.65947</td>\n",
       "      <td>-1.43819</td>\n",
       "      <td>2017/09/11</td>\n",
       "      <td>17:02:06.418</td>\n",
       "      <td>-120.77</td>\n",
       "      <td>11.27</td>\n",
       "      <td>6276.0</td>\n",
       "      <td>299.0</td>\n",
       "      <td>283.0</td>\n",
       "      <td>NaN</td>\n",
       "    </tr>\n",
       "    <tr>\n",
       "      <th>1</th>\n",
       "      <td>40631C</td>\n",
       "      <td>14525</td>\n",
       "      <td>53.65956</td>\n",
       "      <td>-1.43921</td>\n",
       "      <td>2017/09/11</td>\n",
       "      <td>17:02:06.875</td>\n",
       "      <td>-120.64</td>\n",
       "      <td>11.30</td>\n",
       "      <td>6276.0</td>\n",
       "      <td>299.0</td>\n",
       "      <td>283.0</td>\n",
       "      <td>NaN</td>\n",
       "    </tr>\n",
       "    <tr>\n",
       "      <th>2</th>\n",
       "      <td>40631C</td>\n",
       "      <td>14500</td>\n",
       "      <td>53.65979</td>\n",
       "      <td>-1.44066</td>\n",
       "      <td>2017/09/11</td>\n",
       "      <td>17:02:07.342</td>\n",
       "      <td>-120.43</td>\n",
       "      <td>11.32</td>\n",
       "      <td>6276.0</td>\n",
       "      <td>299.0</td>\n",
       "      <td>283.0</td>\n",
       "      <td>EZY63BT</td>\n",
       "    </tr>\n",
       "    <tr>\n",
       "      <th>3</th>\n",
       "      <td>40631C</td>\n",
       "      <td>14475</td>\n",
       "      <td>53.66025</td>\n",
       "      <td>-1.44447</td>\n",
       "      <td>2017/09/11</td>\n",
       "      <td>17:02:09.238</td>\n",
       "      <td>-119.94</td>\n",
       "      <td>11.40</td>\n",
       "      <td>6276.0</td>\n",
       "      <td>299.0</td>\n",
       "      <td>283.0</td>\n",
       "      <td>EZY63BT</td>\n",
       "    </tr>\n",
       "    <tr>\n",
       "      <th>4</th>\n",
       "      <td>40631C</td>\n",
       "      <td>14475</td>\n",
       "      <td>53.66044</td>\n",
       "      <td>-1.44591</td>\n",
       "      <td>2017/09/11</td>\n",
       "      <td>17:02:09.825</td>\n",
       "      <td>-119.75</td>\n",
       "      <td>11.43</td>\n",
       "      <td>6276.0</td>\n",
       "      <td>299.0</td>\n",
       "      <td>283.0</td>\n",
       "      <td>EZY63BT</td>\n",
       "    </tr>\n",
       "  </tbody>\n",
       "</table>\n",
       "</div>"
      ],
      "text/plain": [
       "  hex_ident  altitude(feet)  latitude  longitude        date          time  \\\n",
       "0    40631C           14525  53.65947   -1.43819  2017/09/11  17:02:06.418   \n",
       "1    40631C           14525  53.65956   -1.43921  2017/09/11  17:02:06.875   \n",
       "2    40631C           14500  53.65979   -1.44066  2017/09/11  17:02:07.342   \n",
       "3    40631C           14475  53.66025   -1.44447  2017/09/11  17:02:09.238   \n",
       "4    40631C           14475  53.66044   -1.44591  2017/09/11  17:02:09.825   \n",
       "\n",
       "    angle  distance(nauticalmile)  squawk  ground_speed(knotph)  track  \\\n",
       "0 -120.77                   11.27  6276.0                 299.0  283.0   \n",
       "1 -120.64                   11.30  6276.0                 299.0  283.0   \n",
       "2 -120.43                   11.32  6276.0                 299.0  283.0   \n",
       "3 -119.94                   11.40  6276.0                 299.0  283.0   \n",
       "4 -119.75                   11.43  6276.0                 299.0  283.0   \n",
       "\n",
       "   callsign  \n",
       "0       NaN  \n",
       "1       NaN  \n",
       "2  EZY63BT   \n",
       "3  EZY63BT   \n",
       "4  EZY63BT   "
      ]
     },
     "execution_count": 18,
     "metadata": {},
     "output_type": "execute_result"
    }
   ],
   "source": [
    "# load the data\n",
    "dataset = pd.read_csv('Datasets/flight_tracking.csv')\n",
    "dataset.head()"
   ]
  },
  {
   "cell_type": "code",
   "execution_count": 19,
   "id": "competitive-racing",
   "metadata": {},
   "outputs": [],
   "source": [
    "# Rename the latitude and longitude columns to lat and lon\n",
    "dataset = dataset.rename(index=str, columns={'latitude':'lat', 'longitude':'lon'})"
   ]
  },
  {
   "cell_type": "code",
   "execution_count": 20,
   "id": "inside-treaty",
   "metadata": {},
   "outputs": [],
   "source": [
    "# Combine date and time into a timestamp\n",
    "from datetime import datetime\n",
    "def to_epoch(date, time):\n",
    "    try:\n",
    "        timestamp = round(datetime.strptime('{} {}'.format(date, time), '%Y/%m/%d %H:%M:%S.%f').timestamp())\n",
    "        return timestamp\n",
    "    except ValueError:\n",
    "        return round(datetime.strptime('2017/09/11 17:02:06.418', '%Y/%m/%d %H:%M:%S.%f').timestamp())"
   ]
  },
  {
   "cell_type": "code",
   "execution_count": 21,
   "id": "lined-bracket",
   "metadata": {},
   "outputs": [],
   "source": [
    "# create a new column called timestamp that holds the Unix timestamp\n",
    "dataset['timestamp'] = dataset.apply(lambda x: to_epoch(x['date'], x['time']), axis=1)"
   ]
  },
  {
   "cell_type": "code",
   "execution_count": 22,
   "id": "secure-pacific",
   "metadata": {},
   "outputs": [],
   "source": [
    "# filter the dataset for all the elements that are in the mentioned \n",
    "# time range and use each element of the filtered list to display it on the map\n",
    "from geoplotlib.layers import BaseLayer\n",
    "from geoplotlib.core import BatchPainter\n",
    "from geoplotlib.colors import colorbrewer\n",
    "from geoplotlib.utils import epoch_to_str, BoundingBox"
   ]
  },
  {
   "cell_type": "code",
   "execution_count": 23,
   "id": "broadband-powell",
   "metadata": {},
   "outputs": [],
   "source": [
    "class TrackLayer(BaseLayer):\n",
    "    def __init__(self, dataset, bbox=BoundingBox.WORLD):\n",
    "        self.data = dataset\n",
    "        self.cmap = colorbrewer(self.data['hex_ident'], alpha=200)\n",
    "        self.time = self.data['timestamp'].min()\n",
    "        self.painter = BatchPainter()\n",
    "        self.view = bbox\n",
    "    def draw(self, proj, mouse_x, mouse_y, ui_manager):\n",
    "        self.painter = BatchPainter()\n",
    "        df = self.data.where((self.data['timestamp'] > self.time) \n",
    "\t\t\t      & (self.data['timestamp'] <= self.time + 180))\n",
    "        for element in set(df['hex_ident']):\n",
    "            grp = df.where(df['hex_ident'] == element)\n",
    "            self.painter.set_color(self.cmap[element])\n",
    "            x, y = proj.lonlat_to_screen(grp['lon'], grp['lat'])\n",
    "            self.painter.points(x, y, 15, rounded=True)\n",
    "        self.time += 1\n",
    "        if self.time > self.data['timestamp'].max():\n",
    "            self.time = self.data['timestamp'].min()\n",
    "        self.painter.batch_draw()\n",
    "        ui_manager.info('Current timestamp: {}'.format(epoch_to_str(self.time)))\n",
    "       \n",
    "    # bounding box that gets used when the layer is created\n",
    "    def bbox(self):\n",
    "        return self.view"
   ]
  },
  {
   "cell_type": "code",
   "execution_count": 24,
   "id": "pressed-future",
   "metadata": {},
   "outputs": [],
   "source": [
    "# Define a custom BoundingBox that focuses our view on this area\n",
    "leeds_bbox = BoundingBox(north=53.8074, west=-3, south=53.7074 , east=0)"
   ]
  },
  {
   "cell_type": "code",
   "execution_count": 25,
   "id": "computational-tucson",
   "metadata": {},
   "outputs": [],
   "source": [
    "# convert any pandas DataFrame into a DataAccessObject class\n",
    "from geoplotlib.utils import DataAccessObject\n",
    "data = DataAccessObject(dataset)\n",
    "geoplotlib.add_layer(TrackLayer(data, bbox=leeds_bbox))\n",
    "geoplotlib.show()"
   ]
  }
 ],
 "metadata": {
  "kernelspec": {
   "display_name": "Python 3",
   "language": "python",
   "name": "python3"
  },
  "language_info": {
   "codemirror_mode": {
    "name": "ipython",
    "version": 3
   },
   "file_extension": ".py",
   "mimetype": "text/x-python",
   "name": "python",
   "nbconvert_exporter": "python",
   "pygments_lexer": "ipython3",
   "version": "3.7.7"
  }
 },
 "nbformat": 4,
 "nbformat_minor": 5
}
