{
 "cells": [
  {
   "cell_type": "markdown",
   "id": "toxic-princess",
   "metadata": {},
   "source": [
    "# Using NumPy to Compute the Mean, Median, Variance, and Standard Deviation of a Dataset"
   ]
  },
  {
   "cell_type": "markdown",
   "id": "beautiful-cooper",
   "metadata": {},
   "source": [
    "<b> Import NumPy </b>"
   ]
  },
  {
   "cell_type": "code",
   "execution_count": 1,
   "id": "cardiovascular-highlight",
   "metadata": {},
   "outputs": [],
   "source": [
    "import numpy as np"
   ]
  },
  {
   "cell_type": "markdown",
   "id": "flying-catalyst",
   "metadata": {},
   "source": [
    "<b> Load the normal_distribution.csv dataset </b>"
   ]
  },
  {
   "cell_type": "code",
   "execution_count": 2,
   "id": "attempted-charity",
   "metadata": {},
   "outputs": [
    {
     "data": {
      "text/plain": [
       "array([[ 99.14931546, 104.03852715, 107.43534677,  97.85230675,\n",
       "         98.74986914,  98.80833412,  96.81964892,  98.56783189],\n",
       "       [ 92.02628776,  97.10439252,  99.32066924,  97.24584816,\n",
       "         92.9267508 ,  92.65657752, 105.7197853 , 101.23162942],\n",
       "       [ 95.66253664,  95.17750125,  90.93318132, 110.18889465,\n",
       "         98.80084371, 105.95297652,  98.37481387, 106.54654286],\n",
       "       [ 91.37294597, 100.96781394, 100.40118279, 113.42090475,\n",
       "        105.48508838,  91.6604946 , 106.1472841 ,  95.08715803],\n",
       "       [101.20862522, 103.5730309 , 100.28690912, 105.85269352,\n",
       "         93.37126331, 108.57980357, 100.79478953,  94.20019732],\n",
       "       [102.80387079,  98.29687616,  93.24376389,  97.24130034,\n",
       "         89.03452725,  96.2832753 , 104.60344836, 101.13442416],\n",
       "       [106.71751618, 102.97585605,  98.45723272, 100.72418901,\n",
       "        106.39798503,  95.46493436,  94.35373179, 106.83273763],\n",
       "       [ 96.02548256, 102.82360856, 106.47551845, 101.34745901,\n",
       "        102.45651798,  98.74767493,  97.57544275,  92.5748759 ],\n",
       "       [105.30350449,  92.87730812, 103.19258339, 104.40518318,\n",
       "        101.29326772, 100.85447132, 101.2226037 , 106.03868807],\n",
       "       [110.44484313,  93.87155456, 101.5363647 ,  97.65393524,\n",
       "         92.75048583, 101.72074646,  96.96851209, 103.29147111],\n",
       "       [101.3514185 , 100.37372248, 106.6471081 , 100.61742813,\n",
       "        105.0320535 ,  99.35999981,  98.87007532,  95.85284217],\n",
       "       [ 97.21315663, 107.02874163, 102.17642112,  96.74630281,\n",
       "         95.93799169, 102.62384733, 105.07475277,  97.59572169],\n",
       "       [ 95.65982034, 107.22482426, 107.19119932, 102.93039474,\n",
       "         85.98839623,  95.19184343,  91.32093303, 102.35313953],\n",
       "       [100.39303522,  92.0108226 ,  97.75887636,  93.18884302,\n",
       "        100.44940274, 108.09423367,  96.50342927,  99.58664719],\n",
       "       [103.1521596 , 109.40523174,  93.83969256,  99.95827854,\n",
       "        101.83462816,  99.69982772, 103.05289628, 103.93383957],\n",
       "       [106.11454989,  88.80221141,  94.5081787 ,  94.59300658,\n",
       "        101.08830521,  96.34622848,  96.89244283,  98.07122664],\n",
       "       [ 96.78266211,  99.84251605, 104.03478031, 106.57052697,\n",
       "        105.13668343, 105.37011896,  99.07551254, 104.15899829],\n",
       "       [101.86186193, 103.61720152,  99.57859892,  99.4889538 ,\n",
       "        103.05541444,  98.65912661,  98.72774132, 104.70526438],\n",
       "       [ 97.49594839,  96.59385486, 104.63817694, 102.55198606,\n",
       "        105.86078488,  96.5937781 ,  93.04610867,  99.92159953],\n",
       "       [ 96.76814836,  91.6779221 , 101.79132774, 101.20773355,\n",
       "         98.29243952, 101.83845792,  97.94046856, 102.20618501],\n",
       "       [106.89005002, 106.57364584, 102.26648279, 107.40064604,\n",
       "         99.94318168, 103.40412146, 106.38276709,  98.00253006],\n",
       "       [ 99.80873105, 101.63973121, 106.46476468, 110.43976681,\n",
       "        100.69156231,  99.99579473, 101.32113654,  94.76253572],\n",
       "       [ 96.10020311,  94.57421727, 100.80409326, 105.02389857,\n",
       "         98.61325194,  95.62359311,  97.99762409, 103.83852459],\n",
       "       [ 94.11176915,  99.62387832, 104.51786419,  97.62787811,\n",
       "         93.97853495,  98.75108352, 106.05042487, 100.07721494]])"
      ]
     },
     "execution_count": 2,
     "metadata": {},
     "output_type": "execute_result"
    }
   ],
   "source": [
    "dataset = np.genfromtxt('Datasets/normal_distribution.csv', delimiter=',')\n",
    "dataset"
   ]
  },
  {
   "cell_type": "markdown",
   "id": "dependent-transmission",
   "metadata": {},
   "source": [
    "<b> Print a subset of the first two rows of the dataset </b>"
   ]
  },
  {
   "cell_type": "code",
   "execution_count": 3,
   "id": "middle-batman",
   "metadata": {},
   "outputs": [
    {
     "data": {
      "text/plain": [
       "array([[ 99.14931546, 104.03852715, 107.43534677,  97.85230675,\n",
       "         98.74986914,  98.80833412,  96.81964892,  98.56783189],\n",
       "       [ 92.02628776,  97.10439252,  99.32066924,  97.24584816,\n",
       "         92.9267508 ,  92.65657752, 105.7197853 , 101.23162942]])"
      ]
     },
     "execution_count": 3,
     "metadata": {},
     "output_type": "execute_result"
    }
   ],
   "source": [
    "dataset[:2, :]"
   ]
  },
  {
   "cell_type": "markdown",
   "id": "northern-lounge",
   "metadata": {},
   "source": [
    "<b> Load the dataset and calculate the mean of the third row </b>"
   ]
  },
  {
   "cell_type": "code",
   "execution_count": 4,
   "id": "nonprofit-technology",
   "metadata": {},
   "outputs": [
    {
     "data": {
      "text/plain": [
       "100.20466135250001"
      ]
     },
     "execution_count": 4,
     "metadata": {},
     "output_type": "execute_result"
    }
   ],
   "source": [
    "np.mean(dataset[2])"
   ]
  },
  {
   "cell_type": "markdown",
   "id": "auburn-fashion",
   "metadata": {},
   "source": [
    "<b> Index the last element of an ndarray </b>"
   ]
  },
  {
   "cell_type": "code",
   "execution_count": 5,
   "id": "speaking-banner",
   "metadata": {},
   "outputs": [
    {
     "data": {
      "text/plain": [
       "100.4404927375"
      ]
     },
     "execution_count": 5,
     "metadata": {},
     "output_type": "execute_result"
    }
   ],
   "source": [
    "np.mean(dataset[:, -1])"
   ]
  },
  {
   "cell_type": "markdown",
   "id": "funky-thompson",
   "metadata": {},
   "source": [
    "<b> Get a submatrix of the first three elements of every row of the first three columns </b>"
   ]
  },
  {
   "cell_type": "code",
   "execution_count": 6,
   "id": "blond-dimension",
   "metadata": {},
   "outputs": [
    {
     "data": {
      "text/plain": [
       "97.87197312333333"
      ]
     },
     "execution_count": 6,
     "metadata": {},
     "output_type": "execute_result"
    }
   ],
   "source": [
    "np.mean(dataset[0:3, 0:3])"
   ]
  },
  {
   "cell_type": "markdown",
   "id": "hairy-alarm",
   "metadata": {},
   "source": [
    "<b> Calculate the median for the last row of the dataset </b>"
   ]
  },
  {
   "cell_type": "code",
   "execution_count": 7,
   "id": "regulated-daily",
   "metadata": {},
   "outputs": [
    {
     "data": {
      "text/plain": [
       "99.34233100624999"
      ]
     },
     "execution_count": 7,
     "metadata": {},
     "output_type": "execute_result"
    }
   ],
   "source": [
    "np.mean(dataset[-1, :])"
   ]
  },
  {
   "cell_type": "markdown",
   "id": "graduate-elevation",
   "metadata": {},
   "source": [
    "<b> Use reverse indexing to define a range to get the last three columns </b>"
   ]
  },
  {
   "cell_type": "code",
   "execution_count": 8,
   "id": "defined-possession",
   "metadata": {},
   "outputs": [
    {
     "data": {
      "text/plain": [
       "99.96791031722222"
      ]
     },
     "execution_count": 8,
     "metadata": {},
     "output_type": "execute_result"
    }
   ],
   "source": [
    "np.mean(dataset[:, -3:])"
   ]
  },
  {
   "cell_type": "markdown",
   "id": "wrong-template",
   "metadata": {},
   "source": [
    "<b> Aggregate the values along an axis to calculate the rows </b>"
   ]
  },
  {
   "cell_type": "code",
   "execution_count": 9,
   "id": "combined-killer",
   "metadata": {},
   "outputs": [
    {
     "data": {
      "text/plain": [
       "array([ 98.77910163,  97.17512034,  98.58782879, 100.68449836,\n",
       "       101.00170737,  97.76908825, 101.85002253, 100.04756697,\n",
       "       102.24292555,  99.59514997, 100.4955753 ,  99.8860714 ,\n",
       "        99.00647994,  98.67276177, 102.44376222,  96.61933565,\n",
       "       104.0968893 , 100.72023043,  98.70877396,  99.75008654,\n",
       "       104.89344428, 101.00634942,  98.30543801,  99.18748092])"
      ]
     },
     "execution_count": 9,
     "metadata": {},
     "output_type": "execute_result"
    }
   ],
   "source": [
    "np.median(dataset, axis=1)"
   ]
  },
  {
   "cell_type": "markdown",
   "id": "painful-alfred",
   "metadata": {},
   "source": [
    "<b> Calculate the variance for each column </b>"
   ]
  },
  {
   "cell_type": "code",
   "execution_count": 10,
   "id": "built-eugene",
   "metadata": {},
   "outputs": [
    {
     "data": {
      "text/plain": [
       "array([23.64757465, 29.78886109, 20.50542011, 26.03204443, 28.38853175,\n",
       "       19.09960817, 17.67291174, 16.17923204])"
      ]
     },
     "execution_count": 10,
     "metadata": {},
     "output_type": "execute_result"
    }
   ],
   "source": [
    "np.var(dataset, axis=0)"
   ]
  },
  {
   "cell_type": "markdown",
   "id": "polyphonic-junction",
   "metadata": {},
   "source": [
    "<b> Calculate the variance of the intersection of the last two rows and the first two columns </b>"
   ]
  },
  {
   "cell_type": "code",
   "execution_count": 11,
   "id": "front-inside",
   "metadata": {},
   "outputs": [
    {
     "data": {
      "text/plain": [
       "4.674691991769191"
      ]
     },
     "execution_count": 11,
     "metadata": {},
     "output_type": "execute_result"
    }
   ],
   "source": [
    "np.var(dataset[-2:, :2])"
   ]
  },
  {
   "cell_type": "markdown",
   "id": "metric-source",
   "metadata": {},
   "source": [
    "<b> Calculate the standard deviation for the dataset </b>"
   ]
  },
  {
   "cell_type": "code",
   "execution_count": 12,
   "id": "sticky-endorsement",
   "metadata": {},
   "outputs": [
    {
     "data": {
      "text/plain": [
       "4.838197554269257"
      ]
     },
     "execution_count": 12,
     "metadata": {},
     "output_type": "execute_result"
    }
   ],
   "source": [
    "np.std(dataset)"
   ]
  },
  {
   "cell_type": "markdown",
   "id": "extra-store",
   "metadata": {},
   "source": [
    "# Forest Fire Size and Temperature Analysis"
   ]
  },
  {
   "cell_type": "markdown",
   "id": "administrative-python",
   "metadata": {},
   "source": [
    "We will use pandas features to derive some insights from a forest fire dataset. We will get the mean size of forest fires, what the largest recorded fire in our dataset is, and whether the amount of forest fires grows proportionally to the temperature in each month."
   ]
  },
  {
   "cell_type": "markdown",
   "id": "entertaining-perfume",
   "metadata": {},
   "source": [
    "Our forest fires dataset has the following structure:\n",
    "\n",
    "    X: X-axis spatial coordinate within the Montesinho park map: 1 to 9\n",
    "    Y: Y-axis spatial coordinate within the Montesinho park map: 2 to 9\n",
    "    month: Month of the year: 'jan' to 'dec'\n",
    "    day: Day of the week: 'mon' to 'sun'\n",
    "    FFMC: FFMC index from the FWI system: 18.7 to 96.20\n",
    "    DMC: DMC index from the FWI system: 1.1 to 291.3\n",
    "    DC: DC index from the FWI system: 7.9 to 860.6\n",
    "    ISI: ISI index from the FWI system: 0.0 to 56.10\n",
    "    temp: Temperature in degrees Celsius: 2.2 to 33.30\n",
    "    RH: Relative humidity in %: 15.0 to 100\n",
    "    wind: Wind speed in km/h: 0.40 to 9.40\n",
    "    rain: Outside rain in mm/m2: 0.0 to 6.4\n",
    "    area: The burned area of the forest (in ha): 0.00 to 1090.84"
   ]
  },
  {
   "cell_type": "markdown",
   "id": "metallic-bridal",
   "metadata": {},
   "source": [
    "<b> Import pandas </b>"
   ]
  },
  {
   "cell_type": "code",
   "execution_count": 13,
   "id": "heated-growing",
   "metadata": {},
   "outputs": [],
   "source": [
    "import pandas as pd"
   ]
  },
  {
   "cell_type": "markdown",
   "id": "impressive-generator",
   "metadata": {},
   "source": [
    "<b> Load the forestfires.csv dataset </b>"
   ]
  },
  {
   "cell_type": "code",
   "execution_count": 14,
   "id": "fundamental-symposium",
   "metadata": {},
   "outputs": [],
   "source": [
    "dataset = pd.read_csv('Datasets/forestfires.csv')"
   ]
  },
  {
   "cell_type": "markdown",
   "id": "caring-patio",
   "metadata": {},
   "source": [
    "<b> Print the first two rows of the dataset to get a feeling for its structure </b>"
   ]
  },
  {
   "cell_type": "code",
   "execution_count": 15,
   "id": "discrete-football",
   "metadata": {},
   "outputs": [
    {
     "data": {
      "text/html": [
       "<div>\n",
       "<style scoped>\n",
       "    .dataframe tbody tr th:only-of-type {\n",
       "        vertical-align: middle;\n",
       "    }\n",
       "\n",
       "    .dataframe tbody tr th {\n",
       "        vertical-align: top;\n",
       "    }\n",
       "\n",
       "    .dataframe thead th {\n",
       "        text-align: right;\n",
       "    }\n",
       "</style>\n",
       "<table border=\"1\" class=\"dataframe\">\n",
       "  <thead>\n",
       "    <tr style=\"text-align: right;\">\n",
       "      <th></th>\n",
       "      <th>X</th>\n",
       "      <th>Y</th>\n",
       "      <th>month</th>\n",
       "      <th>day</th>\n",
       "      <th>FFMC</th>\n",
       "      <th>DMC</th>\n",
       "      <th>DC</th>\n",
       "      <th>ISI</th>\n",
       "      <th>temp</th>\n",
       "      <th>RH</th>\n",
       "      <th>wind</th>\n",
       "      <th>rain</th>\n",
       "      <th>area</th>\n",
       "    </tr>\n",
       "  </thead>\n",
       "  <tbody>\n",
       "    <tr>\n",
       "      <th>0</th>\n",
       "      <td>7</td>\n",
       "      <td>5</td>\n",
       "      <td>mar</td>\n",
       "      <td>fri</td>\n",
       "      <td>86.2</td>\n",
       "      <td>26.2</td>\n",
       "      <td>94.3</td>\n",
       "      <td>5.1</td>\n",
       "      <td>8.2</td>\n",
       "      <td>51</td>\n",
       "      <td>6.7</td>\n",
       "      <td>0.0</td>\n",
       "      <td>0.0</td>\n",
       "    </tr>\n",
       "    <tr>\n",
       "      <th>1</th>\n",
       "      <td>7</td>\n",
       "      <td>4</td>\n",
       "      <td>oct</td>\n",
       "      <td>tue</td>\n",
       "      <td>90.6</td>\n",
       "      <td>35.4</td>\n",
       "      <td>669.1</td>\n",
       "      <td>6.7</td>\n",
       "      <td>18.0</td>\n",
       "      <td>33</td>\n",
       "      <td>0.9</td>\n",
       "      <td>0.0</td>\n",
       "      <td>0.0</td>\n",
       "    </tr>\n",
       "  </tbody>\n",
       "</table>\n",
       "</div>"
      ],
      "text/plain": [
       "   X  Y month  day  FFMC   DMC     DC  ISI  temp  RH  wind  rain  area\n",
       "0  7  5   mar  fri  86.2  26.2   94.3  5.1   8.2  51   6.7   0.0   0.0\n",
       "1  7  4   oct  tue  90.6  35.4  669.1  6.7  18.0  33   0.9   0.0   0.0"
      ]
     },
     "execution_count": 15,
     "metadata": {},
     "output_type": "execute_result"
    }
   ],
   "source": [
    "dataset.head(2)"
   ]
  },
  {
   "cell_type": "markdown",
   "id": "moral-number",
   "metadata": {},
   "source": [
    "<b> Filter the dataset so that it only contains entries that have an area larger than 0 </b>"
   ]
  },
  {
   "cell_type": "code",
   "execution_count": 16,
   "id": "mounted-mustang",
   "metadata": {},
   "outputs": [
    {
     "data": {
      "text/html": [
       "<div>\n",
       "<style scoped>\n",
       "    .dataframe tbody tr th:only-of-type {\n",
       "        vertical-align: middle;\n",
       "    }\n",
       "\n",
       "    .dataframe tbody tr th {\n",
       "        vertical-align: top;\n",
       "    }\n",
       "\n",
       "    .dataframe thead th {\n",
       "        text-align: right;\n",
       "    }\n",
       "</style>\n",
       "<table border=\"1\" class=\"dataframe\">\n",
       "  <thead>\n",
       "    <tr style=\"text-align: right;\">\n",
       "      <th></th>\n",
       "      <th>X</th>\n",
       "      <th>Y</th>\n",
       "      <th>month</th>\n",
       "      <th>day</th>\n",
       "      <th>FFMC</th>\n",
       "      <th>DMC</th>\n",
       "      <th>DC</th>\n",
       "      <th>ISI</th>\n",
       "      <th>temp</th>\n",
       "      <th>RH</th>\n",
       "      <th>wind</th>\n",
       "      <th>rain</th>\n",
       "      <th>area</th>\n",
       "    </tr>\n",
       "  </thead>\n",
       "  <tbody>\n",
       "    <tr>\n",
       "      <th>138</th>\n",
       "      <td>9</td>\n",
       "      <td>9</td>\n",
       "      <td>jul</td>\n",
       "      <td>tue</td>\n",
       "      <td>85.8</td>\n",
       "      <td>48.3</td>\n",
       "      <td>313.4</td>\n",
       "      <td>3.9</td>\n",
       "      <td>18.0</td>\n",
       "      <td>42</td>\n",
       "      <td>2.7</td>\n",
       "      <td>0.0</td>\n",
       "      <td>0.36</td>\n",
       "    </tr>\n",
       "    <tr>\n",
       "      <th>139</th>\n",
       "      <td>1</td>\n",
       "      <td>4</td>\n",
       "      <td>sep</td>\n",
       "      <td>tue</td>\n",
       "      <td>91.0</td>\n",
       "      <td>129.5</td>\n",
       "      <td>692.6</td>\n",
       "      <td>7.0</td>\n",
       "      <td>21.7</td>\n",
       "      <td>38</td>\n",
       "      <td>2.2</td>\n",
       "      <td>0.0</td>\n",
       "      <td>0.43</td>\n",
       "    </tr>\n",
       "    <tr>\n",
       "      <th>140</th>\n",
       "      <td>2</td>\n",
       "      <td>5</td>\n",
       "      <td>sep</td>\n",
       "      <td>mon</td>\n",
       "      <td>90.9</td>\n",
       "      <td>126.5</td>\n",
       "      <td>686.5</td>\n",
       "      <td>7.0</td>\n",
       "      <td>21.9</td>\n",
       "      <td>39</td>\n",
       "      <td>1.8</td>\n",
       "      <td>0.0</td>\n",
       "      <td>0.47</td>\n",
       "    </tr>\n",
       "    <tr>\n",
       "      <th>141</th>\n",
       "      <td>1</td>\n",
       "      <td>2</td>\n",
       "      <td>aug</td>\n",
       "      <td>wed</td>\n",
       "      <td>95.5</td>\n",
       "      <td>99.9</td>\n",
       "      <td>513.3</td>\n",
       "      <td>13.2</td>\n",
       "      <td>23.3</td>\n",
       "      <td>31</td>\n",
       "      <td>4.5</td>\n",
       "      <td>0.0</td>\n",
       "      <td>0.55</td>\n",
       "    </tr>\n",
       "    <tr>\n",
       "      <th>142</th>\n",
       "      <td>8</td>\n",
       "      <td>6</td>\n",
       "      <td>aug</td>\n",
       "      <td>fri</td>\n",
       "      <td>90.1</td>\n",
       "      <td>108.0</td>\n",
       "      <td>529.8</td>\n",
       "      <td>12.5</td>\n",
       "      <td>21.2</td>\n",
       "      <td>51</td>\n",
       "      <td>8.9</td>\n",
       "      <td>0.0</td>\n",
       "      <td>0.61</td>\n",
       "    </tr>\n",
       "  </tbody>\n",
       "</table>\n",
       "</div>"
      ],
      "text/plain": [
       "     X  Y month  day  FFMC    DMC     DC   ISI  temp  RH  wind  rain  area\n",
       "138  9  9   jul  tue  85.8   48.3  313.4   3.9  18.0  42   2.7   0.0  0.36\n",
       "139  1  4   sep  tue  91.0  129.5  692.6   7.0  21.7  38   2.2   0.0  0.43\n",
       "140  2  5   sep  mon  90.9  126.5  686.5   7.0  21.9  39   1.8   0.0  0.47\n",
       "141  1  2   aug  wed  95.5   99.9  513.3  13.2  23.3  31   4.5   0.0  0.55\n",
       "142  8  6   aug  fri  90.1  108.0  529.8  12.5  21.2  51   8.9   0.0  0.61"
      ]
     },
     "execution_count": 16,
     "metadata": {},
     "output_type": "execute_result"
    }
   ],
   "source": [
    "area_dataset = dataset[dataset['area'] > 0]\n",
    "area_dataset.head()"
   ]
  },
  {
   "cell_type": "markdown",
   "id": "eastern-heart",
   "metadata": {},
   "source": [
    "<b> Get the mean, min, max, and std of the area column </b>"
   ]
  },
  {
   "cell_type": "code",
   "execution_count": 17,
   "id": "secondary-river",
   "metadata": {},
   "outputs": [
    {
     "data": {
      "text/plain": [
       "24.60018518518518"
      ]
     },
     "execution_count": 17,
     "metadata": {},
     "output_type": "execute_result"
    }
   ],
   "source": [
    "area_dataset['area'].mean()"
   ]
  },
  {
   "cell_type": "code",
   "execution_count": 18,
   "id": "artistic-arrow",
   "metadata": {},
   "outputs": [
    {
     "data": {
      "text/plain": [
       "0.09"
      ]
     },
     "execution_count": 18,
     "metadata": {},
     "output_type": "execute_result"
    }
   ],
   "source": [
    "area_dataset['area'].min()"
   ]
  },
  {
   "cell_type": "code",
   "execution_count": 19,
   "id": "satellite-agriculture",
   "metadata": {},
   "outputs": [
    {
     "data": {
      "text/plain": [
       "1090.84"
      ]
     },
     "execution_count": 19,
     "metadata": {},
     "output_type": "execute_result"
    }
   ],
   "source": [
    "area_dataset['area'].max()"
   ]
  },
  {
   "cell_type": "code",
   "execution_count": 20,
   "id": "seasonal-latino",
   "metadata": {},
   "outputs": [
    {
     "data": {
      "text/plain": [
       "86.50163460412125"
      ]
     },
     "execution_count": 20,
     "metadata": {},
     "output_type": "execute_result"
    }
   ],
   "source": [
    "area_dataset['area'].std()"
   ]
  },
  {
   "cell_type": "markdown",
   "id": "stylish-image",
   "metadata": {},
   "source": [
    "<b> Sort the filtered dataset using the area column and print the last 20 entries </b>"
   ]
  },
  {
   "cell_type": "code",
   "execution_count": 21,
   "id": "reliable-services",
   "metadata": {},
   "outputs": [
    {
     "data": {
      "text/html": [
       "<div>\n",
       "<style scoped>\n",
       "    .dataframe tbody tr th:only-of-type {\n",
       "        vertical-align: middle;\n",
       "    }\n",
       "\n",
       "    .dataframe tbody tr th {\n",
       "        vertical-align: top;\n",
       "    }\n",
       "\n",
       "    .dataframe thead th {\n",
       "        text-align: right;\n",
       "    }\n",
       "</style>\n",
       "<table border=\"1\" class=\"dataframe\">\n",
       "  <thead>\n",
       "    <tr style=\"text-align: right;\">\n",
       "      <th></th>\n",
       "      <th>X</th>\n",
       "      <th>Y</th>\n",
       "      <th>month</th>\n",
       "      <th>day</th>\n",
       "      <th>FFMC</th>\n",
       "      <th>DMC</th>\n",
       "      <th>DC</th>\n",
       "      <th>ISI</th>\n",
       "      <th>temp</th>\n",
       "      <th>RH</th>\n",
       "      <th>wind</th>\n",
       "      <th>rain</th>\n",
       "      <th>area</th>\n",
       "    </tr>\n",
       "  </thead>\n",
       "  <tbody>\n",
       "    <tr>\n",
       "      <th>469</th>\n",
       "      <td>6</td>\n",
       "      <td>3</td>\n",
       "      <td>apr</td>\n",
       "      <td>sun</td>\n",
       "      <td>91.0</td>\n",
       "      <td>14.6</td>\n",
       "      <td>25.6</td>\n",
       "      <td>12.3</td>\n",
       "      <td>13.7</td>\n",
       "      <td>33</td>\n",
       "      <td>9.4</td>\n",
       "      <td>0.0</td>\n",
       "      <td>61.13</td>\n",
       "    </tr>\n",
       "    <tr>\n",
       "      <th>228</th>\n",
       "      <td>4</td>\n",
       "      <td>6</td>\n",
       "      <td>sep</td>\n",
       "      <td>sun</td>\n",
       "      <td>93.5</td>\n",
       "      <td>149.3</td>\n",
       "      <td>728.6</td>\n",
       "      <td>8.1</td>\n",
       "      <td>28.3</td>\n",
       "      <td>26</td>\n",
       "      <td>3.1</td>\n",
       "      <td>0.0</td>\n",
       "      <td>64.10</td>\n",
       "    </tr>\n",
       "    <tr>\n",
       "      <th>473</th>\n",
       "      <td>9</td>\n",
       "      <td>4</td>\n",
       "      <td>jun</td>\n",
       "      <td>sat</td>\n",
       "      <td>90.5</td>\n",
       "      <td>61.1</td>\n",
       "      <td>252.6</td>\n",
       "      <td>9.4</td>\n",
       "      <td>24.5</td>\n",
       "      <td>50</td>\n",
       "      <td>3.1</td>\n",
       "      <td>0.0</td>\n",
       "      <td>70.32</td>\n",
       "    </tr>\n",
       "    <tr>\n",
       "      <th>392</th>\n",
       "      <td>1</td>\n",
       "      <td>3</td>\n",
       "      <td>sep</td>\n",
       "      <td>sun</td>\n",
       "      <td>91.0</td>\n",
       "      <td>276.3</td>\n",
       "      <td>825.1</td>\n",
       "      <td>7.1</td>\n",
       "      <td>21.9</td>\n",
       "      <td>43</td>\n",
       "      <td>4.0</td>\n",
       "      <td>0.0</td>\n",
       "      <td>70.76</td>\n",
       "    </tr>\n",
       "    <tr>\n",
       "      <th>229</th>\n",
       "      <td>8</td>\n",
       "      <td>6</td>\n",
       "      <td>aug</td>\n",
       "      <td>sat</td>\n",
       "      <td>92.2</td>\n",
       "      <td>81.8</td>\n",
       "      <td>480.8</td>\n",
       "      <td>11.9</td>\n",
       "      <td>16.4</td>\n",
       "      <td>43</td>\n",
       "      <td>4.0</td>\n",
       "      <td>0.0</td>\n",
       "      <td>71.30</td>\n",
       "    </tr>\n",
       "    <tr>\n",
       "      <th>457</th>\n",
       "      <td>1</td>\n",
       "      <td>4</td>\n",
       "      <td>aug</td>\n",
       "      <td>wed</td>\n",
       "      <td>91.7</td>\n",
       "      <td>191.4</td>\n",
       "      <td>635.9</td>\n",
       "      <td>7.8</td>\n",
       "      <td>19.9</td>\n",
       "      <td>50</td>\n",
       "      <td>4.0</td>\n",
       "      <td>0.0</td>\n",
       "      <td>82.75</td>\n",
       "    </tr>\n",
       "    <tr>\n",
       "      <th>293</th>\n",
       "      <td>7</td>\n",
       "      <td>6</td>\n",
       "      <td>jul</td>\n",
       "      <td>tue</td>\n",
       "      <td>93.1</td>\n",
       "      <td>180.4</td>\n",
       "      <td>430.8</td>\n",
       "      <td>11.0</td>\n",
       "      <td>26.9</td>\n",
       "      <td>28</td>\n",
       "      <td>5.4</td>\n",
       "      <td>0.0</td>\n",
       "      <td>86.45</td>\n",
       "    </tr>\n",
       "    <tr>\n",
       "      <th>230</th>\n",
       "      <td>4</td>\n",
       "      <td>4</td>\n",
       "      <td>sep</td>\n",
       "      <td>wed</td>\n",
       "      <td>92.9</td>\n",
       "      <td>133.3</td>\n",
       "      <td>699.6</td>\n",
       "      <td>9.2</td>\n",
       "      <td>26.4</td>\n",
       "      <td>21</td>\n",
       "      <td>4.5</td>\n",
       "      <td>0.0</td>\n",
       "      <td>88.49</td>\n",
       "    </tr>\n",
       "    <tr>\n",
       "      <th>231</th>\n",
       "      <td>1</td>\n",
       "      <td>5</td>\n",
       "      <td>sep</td>\n",
       "      <td>sun</td>\n",
       "      <td>93.5</td>\n",
       "      <td>149.3</td>\n",
       "      <td>728.6</td>\n",
       "      <td>8.1</td>\n",
       "      <td>27.8</td>\n",
       "      <td>27</td>\n",
       "      <td>3.1</td>\n",
       "      <td>0.0</td>\n",
       "      <td>95.18</td>\n",
       "    </tr>\n",
       "    <tr>\n",
       "      <th>232</th>\n",
       "      <td>6</td>\n",
       "      <td>4</td>\n",
       "      <td>sep</td>\n",
       "      <td>tue</td>\n",
       "      <td>91.0</td>\n",
       "      <td>129.5</td>\n",
       "      <td>692.6</td>\n",
       "      <td>7.0</td>\n",
       "      <td>18.7</td>\n",
       "      <td>43</td>\n",
       "      <td>2.7</td>\n",
       "      <td>0.0</td>\n",
       "      <td>103.39</td>\n",
       "    </tr>\n",
       "    <tr>\n",
       "      <th>233</th>\n",
       "      <td>9</td>\n",
       "      <td>4</td>\n",
       "      <td>sep</td>\n",
       "      <td>tue</td>\n",
       "      <td>84.4</td>\n",
       "      <td>73.4</td>\n",
       "      <td>671.9</td>\n",
       "      <td>3.2</td>\n",
       "      <td>24.3</td>\n",
       "      <td>36</td>\n",
       "      <td>3.1</td>\n",
       "      <td>0.0</td>\n",
       "      <td>105.66</td>\n",
       "    </tr>\n",
       "    <tr>\n",
       "      <th>234</th>\n",
       "      <td>4</td>\n",
       "      <td>5</td>\n",
       "      <td>sep</td>\n",
       "      <td>sat</td>\n",
       "      <td>92.5</td>\n",
       "      <td>121.1</td>\n",
       "      <td>674.4</td>\n",
       "      <td>8.6</td>\n",
       "      <td>17.7</td>\n",
       "      <td>25</td>\n",
       "      <td>3.1</td>\n",
       "      <td>0.0</td>\n",
       "      <td>154.88</td>\n",
       "    </tr>\n",
       "    <tr>\n",
       "      <th>377</th>\n",
       "      <td>2</td>\n",
       "      <td>2</td>\n",
       "      <td>aug</td>\n",
       "      <td>sat</td>\n",
       "      <td>93.7</td>\n",
       "      <td>231.1</td>\n",
       "      <td>715.1</td>\n",
       "      <td>8.4</td>\n",
       "      <td>21.9</td>\n",
       "      <td>42</td>\n",
       "      <td>2.2</td>\n",
       "      <td>0.0</td>\n",
       "      <td>174.63</td>\n",
       "    </tr>\n",
       "    <tr>\n",
       "      <th>420</th>\n",
       "      <td>8</td>\n",
       "      <td>8</td>\n",
       "      <td>aug</td>\n",
       "      <td>wed</td>\n",
       "      <td>91.7</td>\n",
       "      <td>191.4</td>\n",
       "      <td>635.9</td>\n",
       "      <td>7.8</td>\n",
       "      <td>26.2</td>\n",
       "      <td>36</td>\n",
       "      <td>4.5</td>\n",
       "      <td>0.0</td>\n",
       "      <td>185.76</td>\n",
       "    </tr>\n",
       "    <tr>\n",
       "      <th>235</th>\n",
       "      <td>8</td>\n",
       "      <td>6</td>\n",
       "      <td>aug</td>\n",
       "      <td>sun</td>\n",
       "      <td>91.4</td>\n",
       "      <td>142.4</td>\n",
       "      <td>601.4</td>\n",
       "      <td>10.6</td>\n",
       "      <td>19.6</td>\n",
       "      <td>41</td>\n",
       "      <td>5.8</td>\n",
       "      <td>0.0</td>\n",
       "      <td>196.48</td>\n",
       "    </tr>\n",
       "    <tr>\n",
       "      <th>236</th>\n",
       "      <td>2</td>\n",
       "      <td>2</td>\n",
       "      <td>sep</td>\n",
       "      <td>sat</td>\n",
       "      <td>92.5</td>\n",
       "      <td>121.1</td>\n",
       "      <td>674.4</td>\n",
       "      <td>8.6</td>\n",
       "      <td>18.2</td>\n",
       "      <td>46</td>\n",
       "      <td>1.8</td>\n",
       "      <td>0.0</td>\n",
       "      <td>200.94</td>\n",
       "    </tr>\n",
       "    <tr>\n",
       "      <th>237</th>\n",
       "      <td>1</td>\n",
       "      <td>2</td>\n",
       "      <td>sep</td>\n",
       "      <td>tue</td>\n",
       "      <td>91.0</td>\n",
       "      <td>129.5</td>\n",
       "      <td>692.6</td>\n",
       "      <td>7.0</td>\n",
       "      <td>18.8</td>\n",
       "      <td>40</td>\n",
       "      <td>2.2</td>\n",
       "      <td>0.0</td>\n",
       "      <td>212.88</td>\n",
       "    </tr>\n",
       "    <tr>\n",
       "      <th>479</th>\n",
       "      <td>7</td>\n",
       "      <td>4</td>\n",
       "      <td>jul</td>\n",
       "      <td>mon</td>\n",
       "      <td>89.2</td>\n",
       "      <td>103.9</td>\n",
       "      <td>431.6</td>\n",
       "      <td>6.4</td>\n",
       "      <td>22.6</td>\n",
       "      <td>57</td>\n",
       "      <td>4.9</td>\n",
       "      <td>0.0</td>\n",
       "      <td>278.53</td>\n",
       "    </tr>\n",
       "    <tr>\n",
       "      <th>415</th>\n",
       "      <td>8</td>\n",
       "      <td>6</td>\n",
       "      <td>aug</td>\n",
       "      <td>thu</td>\n",
       "      <td>94.8</td>\n",
       "      <td>222.4</td>\n",
       "      <td>698.6</td>\n",
       "      <td>13.9</td>\n",
       "      <td>27.5</td>\n",
       "      <td>27</td>\n",
       "      <td>4.9</td>\n",
       "      <td>0.0</td>\n",
       "      <td>746.28</td>\n",
       "    </tr>\n",
       "    <tr>\n",
       "      <th>238</th>\n",
       "      <td>6</td>\n",
       "      <td>5</td>\n",
       "      <td>sep</td>\n",
       "      <td>sat</td>\n",
       "      <td>92.5</td>\n",
       "      <td>121.1</td>\n",
       "      <td>674.4</td>\n",
       "      <td>8.6</td>\n",
       "      <td>25.1</td>\n",
       "      <td>27</td>\n",
       "      <td>4.0</td>\n",
       "      <td>0.0</td>\n",
       "      <td>1090.84</td>\n",
       "    </tr>\n",
       "  </tbody>\n",
       "</table>\n",
       "</div>"
      ],
      "text/plain": [
       "     X  Y month  day  FFMC    DMC     DC   ISI  temp  RH  wind  rain     area\n",
       "469  6  3   apr  sun  91.0   14.6   25.6  12.3  13.7  33   9.4   0.0    61.13\n",
       "228  4  6   sep  sun  93.5  149.3  728.6   8.1  28.3  26   3.1   0.0    64.10\n",
       "473  9  4   jun  sat  90.5   61.1  252.6   9.4  24.5  50   3.1   0.0    70.32\n",
       "392  1  3   sep  sun  91.0  276.3  825.1   7.1  21.9  43   4.0   0.0    70.76\n",
       "229  8  6   aug  sat  92.2   81.8  480.8  11.9  16.4  43   4.0   0.0    71.30\n",
       "457  1  4   aug  wed  91.7  191.4  635.9   7.8  19.9  50   4.0   0.0    82.75\n",
       "293  7  6   jul  tue  93.1  180.4  430.8  11.0  26.9  28   5.4   0.0    86.45\n",
       "230  4  4   sep  wed  92.9  133.3  699.6   9.2  26.4  21   4.5   0.0    88.49\n",
       "231  1  5   sep  sun  93.5  149.3  728.6   8.1  27.8  27   3.1   0.0    95.18\n",
       "232  6  4   sep  tue  91.0  129.5  692.6   7.0  18.7  43   2.7   0.0   103.39\n",
       "233  9  4   sep  tue  84.4   73.4  671.9   3.2  24.3  36   3.1   0.0   105.66\n",
       "234  4  5   sep  sat  92.5  121.1  674.4   8.6  17.7  25   3.1   0.0   154.88\n",
       "377  2  2   aug  sat  93.7  231.1  715.1   8.4  21.9  42   2.2   0.0   174.63\n",
       "420  8  8   aug  wed  91.7  191.4  635.9   7.8  26.2  36   4.5   0.0   185.76\n",
       "235  8  6   aug  sun  91.4  142.4  601.4  10.6  19.6  41   5.8   0.0   196.48\n",
       "236  2  2   sep  sat  92.5  121.1  674.4   8.6  18.2  46   1.8   0.0   200.94\n",
       "237  1  2   sep  tue  91.0  129.5  692.6   7.0  18.8  40   2.2   0.0   212.88\n",
       "479  7  4   jul  mon  89.2  103.9  431.6   6.4  22.6  57   4.9   0.0   278.53\n",
       "415  8  6   aug  thu  94.8  222.4  698.6  13.9  27.5  27   4.9   0.0   746.28\n",
       "238  6  5   sep  sat  92.5  121.1  674.4   8.6  25.1  27   4.0   0.0  1090.84"
      ]
     },
     "execution_count": 21,
     "metadata": {},
     "output_type": "execute_result"
    }
   ],
   "source": [
    "area_dataset.sort_values(by=['area']).tail(20)"
   ]
  },
  {
   "cell_type": "markdown",
   "id": "embedded-witch",
   "metadata": {},
   "source": [
    "<b> Get the median of the area column and visually compare it to the mean value</b>"
   ]
  },
  {
   "cell_type": "code",
   "execution_count": 22,
   "id": "sporting-investment",
   "metadata": {},
   "outputs": [
    {
     "data": {
      "text/plain": [
       "6.37"
      ]
     },
     "execution_count": 22,
     "metadata": {},
     "output_type": "execute_result"
    }
   ],
   "source": [
    "area_dataset['area'].median()"
   ]
  },
  {
   "cell_type": "code",
   "execution_count": 23,
   "id": "primary-syracuse",
   "metadata": {},
   "outputs": [
    {
     "name": "stdout",
     "output_type": "stream",
     "text": [
      "The median of area column is 6.37 and the mean of area columns is 24.60018518518518\n"
     ]
    }
   ],
   "source": [
    "print(f'The median of area column is {area_dataset[\"area\"].median()} and the mean of area columns is {area_dataset[\"area\"].mean()}')"
   ]
  },
  {
   "cell_type": "markdown",
   "id": "remarkable-desperate",
   "metadata": {},
   "source": [
    "<b> Get a list of unique values from the month column of the dataset </b>"
   ]
  },
  {
   "cell_type": "code",
   "execution_count": 24,
   "id": "pending-chick",
   "metadata": {},
   "outputs": [
    {
     "data": {
      "text/plain": [
       "array(['mar', 'oct', 'aug', 'sep', 'apr', 'jun', 'jul', 'feb', 'jan',\n",
       "       'dec', 'may', 'nov'], dtype=object)"
      ]
     },
     "execution_count": 24,
     "metadata": {},
     "output_type": "execute_result"
    }
   ],
   "source": [
    "months = dataset['month'].unique()\n",
    "months"
   ]
  },
  {
   "cell_type": "markdown",
   "id": "fleet-template",
   "metadata": {},
   "source": [
    "<b> Get the number of entries for the month of March </b>"
   ]
  },
  {
   "cell_type": "code",
   "execution_count": 25,
   "id": "dedicated-force",
   "metadata": {},
   "outputs": [
    {
     "data": {
      "text/plain": [
       "54"
      ]
     },
     "execution_count": 25,
     "metadata": {},
     "output_type": "execute_result"
    }
   ],
   "source": [
    "dataset[dataset['month'] == 'mar'].shape[0]"
   ]
  },
  {
   "cell_type": "markdown",
   "id": "applied-requirement",
   "metadata": {},
   "source": [
    "<b> Iterate over all the months, filter our dataset for the rows containing the given month, and calculate the mean temperature. Print a statement with the number of fires, the mean temperature, and the month </b>"
   ]
  },
  {
   "cell_type": "code",
   "execution_count": 26,
   "id": "considered-attendance",
   "metadata": {},
   "outputs": [
    {
     "name": "stdout",
     "output_type": "stream",
     "text": [
      "mar\n",
      "Mean temperature: 13.1\n",
      "Fires in mar: 54\n",
      "\n",
      "oct\n",
      "Mean temperature: 17.1\n",
      "Fires in oct: 15\n",
      "\n",
      "aug\n",
      "Mean temperature: 21.6\n",
      "Fires in aug: 184\n",
      "\n",
      "sep\n",
      "Mean temperature: 19.6\n",
      "Fires in sep: 172\n",
      "\n",
      "apr\n",
      "Mean temperature: 12.0\n",
      "Fires in apr: 9\n",
      "\n",
      "jun\n",
      "Mean temperature: 20.5\n",
      "Fires in jun: 17\n",
      "\n",
      "jul\n",
      "Mean temperature: 22.1\n",
      "Fires in jul: 32\n",
      "\n",
      "feb\n",
      "Mean temperature: 9.6\n",
      "Fires in feb: 20\n",
      "\n",
      "jan\n",
      "Mean temperature: 5.2\n",
      "Fires in jan: 2\n",
      "\n",
      "dec\n",
      "Mean temperature: 4.5\n",
      "Fires in dec: 9\n",
      "\n",
      "may\n",
      "Mean temperature: 14.7\n",
      "Fires in may: 2\n",
      "\n",
      "nov\n",
      "Mean temperature: 11.8\n",
      "Fires in nov: 1\n",
      "\n"
     ]
    }
   ],
   "source": [
    "for month in months:\n",
    "    df = dataset[dataset['month'] == month]\n",
    "    print(month)\n",
    "    print(f'Mean temperature: {round(df[\"temp\"].mean(), 1)}')\n",
    "    print(f'Fires in {month}: {df.shape[0]}\\n')"
   ]
  }
 ],
 "metadata": {
  "kernelspec": {
   "display_name": "Python 3",
   "language": "python",
   "name": "python3"
  },
  "language_info": {
   "codemirror_mode": {
    "name": "ipython",
    "version": 3
   },
   "file_extension": ".py",
   "mimetype": "text/x-python",
   "name": "python",
   "nbconvert_exporter": "python",
   "pygments_lexer": "ipython3",
   "version": "3.7.7"
  }
 },
 "nbformat": 4,
 "nbformat_minor": 5
}
