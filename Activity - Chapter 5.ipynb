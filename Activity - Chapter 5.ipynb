{
 "cells": [
  {
   "cell_type": "markdown",
   "id": "grateful-process",
   "metadata": {},
   "source": [
    "# Plotting Geospatial Data on a Map"
   ]
  },
  {
   "cell_type": "markdown",
   "id": "legendary-genesis",
   "metadata": {},
   "source": [
    "<b> Import the dependencies and load the world_cities_pop.csv dataset </b>"
   ]
  },
  {
   "cell_type": "code",
   "execution_count": 1,
   "id": "intermediate-bermuda",
   "metadata": {},
   "outputs": [],
   "source": [
    "import pandas as pd\n",
    "import numpy as np\n",
    "import geoplotlib"
   ]
  },
  {
   "cell_type": "code",
   "execution_count": 2,
   "id": "intended-sport",
   "metadata": {},
   "outputs": [
    {
     "data": {
      "text/html": [
       "<div>\n",
       "<style scoped>\n",
       "    .dataframe tbody tr th:only-of-type {\n",
       "        vertical-align: middle;\n",
       "    }\n",
       "\n",
       "    .dataframe tbody tr th {\n",
       "        vertical-align: top;\n",
       "    }\n",
       "\n",
       "    .dataframe thead th {\n",
       "        text-align: right;\n",
       "    }\n",
       "</style>\n",
       "<table border=\"1\" class=\"dataframe\">\n",
       "  <thead>\n",
       "    <tr style=\"text-align: right;\">\n",
       "      <th></th>\n",
       "      <th>Country</th>\n",
       "      <th>City</th>\n",
       "      <th>AccentCity</th>\n",
       "      <th>Region</th>\n",
       "      <th>Population</th>\n",
       "      <th>Latitude</th>\n",
       "      <th>Longitude</th>\n",
       "    </tr>\n",
       "  </thead>\n",
       "  <tbody>\n",
       "    <tr>\n",
       "      <th>0</th>\n",
       "      <td>ad</td>\n",
       "      <td>aixas</td>\n",
       "      <td>Aixàs</td>\n",
       "      <td>06</td>\n",
       "      <td>NaN</td>\n",
       "      <td>42.483333</td>\n",
       "      <td>1.466667</td>\n",
       "    </tr>\n",
       "    <tr>\n",
       "      <th>1</th>\n",
       "      <td>ad</td>\n",
       "      <td>aixirivali</td>\n",
       "      <td>Aixirivali</td>\n",
       "      <td>06</td>\n",
       "      <td>NaN</td>\n",
       "      <td>42.466667</td>\n",
       "      <td>1.500000</td>\n",
       "    </tr>\n",
       "    <tr>\n",
       "      <th>2</th>\n",
       "      <td>ad</td>\n",
       "      <td>aixirivall</td>\n",
       "      <td>Aixirivall</td>\n",
       "      <td>06</td>\n",
       "      <td>NaN</td>\n",
       "      <td>42.466667</td>\n",
       "      <td>1.500000</td>\n",
       "    </tr>\n",
       "    <tr>\n",
       "      <th>3</th>\n",
       "      <td>ad</td>\n",
       "      <td>aixirvall</td>\n",
       "      <td>Aixirvall</td>\n",
       "      <td>06</td>\n",
       "      <td>NaN</td>\n",
       "      <td>42.466667</td>\n",
       "      <td>1.500000</td>\n",
       "    </tr>\n",
       "    <tr>\n",
       "      <th>4</th>\n",
       "      <td>ad</td>\n",
       "      <td>aixovall</td>\n",
       "      <td>Aixovall</td>\n",
       "      <td>06</td>\n",
       "      <td>NaN</td>\n",
       "      <td>42.466667</td>\n",
       "      <td>1.483333</td>\n",
       "    </tr>\n",
       "  </tbody>\n",
       "</table>\n",
       "</div>"
      ],
      "text/plain": [
       "  Country        City  AccentCity Region  Population   Latitude  Longitude\n",
       "0      ad       aixas       Aixàs     06         NaN  42.483333   1.466667\n",
       "1      ad  aixirivali  Aixirivali     06         NaN  42.466667   1.500000\n",
       "2      ad  aixirivall  Aixirivall     06         NaN  42.466667   1.500000\n",
       "3      ad   aixirvall   Aixirvall     06         NaN  42.466667   1.500000\n",
       "4      ad    aixovall    Aixovall     06         NaN  42.466667   1.483333"
      ]
     },
     "execution_count": 2,
     "metadata": {},
     "output_type": "execute_result"
    }
   ],
   "source": [
    "df = pd.read_csv('Datasets/world_cities_pop.csv', dtype={'Region':np.str})\n",
    "df.head()"
   ]
  },
  {
   "cell_type": "markdown",
   "id": "encouraging-instrument",
   "metadata": {},
   "source": [
    "<b> List all the datatypes that are present in it and verify that they are correct </b>"
   ]
  },
  {
   "cell_type": "code",
   "execution_count": 3,
   "id": "greatest-mediterranean",
   "metadata": {},
   "outputs": [
    {
     "data": {
      "text/plain": [
       "Country        object\n",
       "City           object\n",
       "AccentCity     object\n",
       "Region         object\n",
       "Population    float64\n",
       "Latitude      float64\n",
       "Longitude     float64\n",
       "dtype: object"
      ]
     },
     "execution_count": 3,
     "metadata": {},
     "output_type": "execute_result"
    }
   ],
   "source": [
    "df.dtypes"
   ]
  },
  {
   "cell_type": "code",
   "execution_count": 4,
   "id": "varied-relief",
   "metadata": {},
   "outputs": [
    {
     "name": "stdout",
     "output_type": "stream",
     "text": [
      "(3173958, 7)\n"
     ]
    }
   ],
   "source": [
    "print(df.shape)"
   ]
  },
  {
   "cell_type": "code",
   "execution_count": 5,
   "id": "respected-arthritis",
   "metadata": {},
   "outputs": [],
   "source": [
    "df['lat'] = df['Latitude']\n",
    "df['lon'] = df['Longitude']"
   ]
  },
  {
   "cell_type": "markdown",
   "id": "quarterly-gasoline",
   "metadata": {},
   "source": [
    "<b> Plot the data points on a dot density plot </b>"
   ]
  },
  {
   "cell_type": "code",
   "execution_count": 6,
   "id": "anticipated-representative",
   "metadata": {},
   "outputs": [],
   "source": [
    "geoplotlib.dot(df)\n",
    "geoplotlib.show()"
   ]
  },
  {
   "cell_type": "markdown",
   "id": "increasing-machinery",
   "metadata": {},
   "source": [
    "<b> Use the agg method of pandas to get the average number of cities per country </b>"
   ]
  },
  {
   "cell_type": "code",
   "execution_count": 7,
   "id": "optional-electricity",
   "metadata": {},
   "outputs": [
    {
     "data": {
      "text/plain": [
       "Country\n",
       "ad       92\n",
       "ae      446\n",
       "af    88749\n",
       "ag      183\n",
       "ai       42\n",
       "      ...  \n",
       "yt      122\n",
       "za    12693\n",
       "zm    13027\n",
       "zr    23012\n",
       "zw     1341\n",
       "Length: 234, dtype: int64"
      ]
     },
     "execution_count": 7,
     "metadata": {},
     "output_type": "execute_result"
    }
   ],
   "source": [
    "df.groupby(['Country']).size()"
   ]
  },
  {
   "cell_type": "code",
   "execution_count": 8,
   "id": "systematic-ratio",
   "metadata": {},
   "outputs": [
    {
     "data": {
      "text/plain": [
       "13563.923076923076"
      ]
     },
     "execution_count": 8,
     "metadata": {},
     "output_type": "execute_result"
    }
   ],
   "source": [
    "df.groupby(['Country']).size().agg('mean')"
   ]
  },
  {
   "cell_type": "markdown",
   "id": "about-empty",
   "metadata": {},
   "source": [
    "<b> Obtain the number of cities per country (the first 20 entries) and extract the countries that have a population of greater than zero </b>"
   ]
  },
  {
   "cell_type": "code",
   "execution_count": 9,
   "id": "banner-ranch",
   "metadata": {},
   "outputs": [
    {
     "data": {
      "text/html": [
       "<div>\n",
       "<style scoped>\n",
       "    .dataframe tbody tr th:only-of-type {\n",
       "        vertical-align: middle;\n",
       "    }\n",
       "\n",
       "    .dataframe tbody tr th {\n",
       "        vertical-align: top;\n",
       "    }\n",
       "\n",
       "    .dataframe thead th {\n",
       "        text-align: right;\n",
       "    }\n",
       "</style>\n",
       "<table border=\"1\" class=\"dataframe\">\n",
       "  <thead>\n",
       "    <tr style=\"text-align: right;\">\n",
       "      <th></th>\n",
       "      <th>Country</th>\n",
       "      <th>City</th>\n",
       "      <th>AccentCity</th>\n",
       "      <th>Region</th>\n",
       "      <th>Population</th>\n",
       "      <th>Latitude</th>\n",
       "      <th>Longitude</th>\n",
       "      <th>lat</th>\n",
       "      <th>lon</th>\n",
       "    </tr>\n",
       "  </thead>\n",
       "  <tbody>\n",
       "    <tr>\n",
       "      <th>6</th>\n",
       "      <td>ad</td>\n",
       "      <td>andorra la vella</td>\n",
       "      <td>Andorra la Vella</td>\n",
       "      <td>07</td>\n",
       "      <td>20430.0</td>\n",
       "      <td>42.500000</td>\n",
       "      <td>1.516667</td>\n",
       "      <td>42.500000</td>\n",
       "      <td>1.516667</td>\n",
       "    </tr>\n",
       "    <tr>\n",
       "      <th>20</th>\n",
       "      <td>ad</td>\n",
       "      <td>canillo</td>\n",
       "      <td>Canillo</td>\n",
       "      <td>02</td>\n",
       "      <td>3292.0</td>\n",
       "      <td>42.566667</td>\n",
       "      <td>1.600000</td>\n",
       "      <td>42.566667</td>\n",
       "      <td>1.600000</td>\n",
       "    </tr>\n",
       "    <tr>\n",
       "      <th>32</th>\n",
       "      <td>ad</td>\n",
       "      <td>encamp</td>\n",
       "      <td>Encamp</td>\n",
       "      <td>03</td>\n",
       "      <td>11224.0</td>\n",
       "      <td>42.533333</td>\n",
       "      <td>1.583333</td>\n",
       "      <td>42.533333</td>\n",
       "      <td>1.583333</td>\n",
       "    </tr>\n",
       "    <tr>\n",
       "      <th>49</th>\n",
       "      <td>ad</td>\n",
       "      <td>la massana</td>\n",
       "      <td>La Massana</td>\n",
       "      <td>04</td>\n",
       "      <td>7211.0</td>\n",
       "      <td>42.550000</td>\n",
       "      <td>1.516667</td>\n",
       "      <td>42.550000</td>\n",
       "      <td>1.516667</td>\n",
       "    </tr>\n",
       "    <tr>\n",
       "      <th>53</th>\n",
       "      <td>ad</td>\n",
       "      <td>les escaldes</td>\n",
       "      <td>Les Escaldes</td>\n",
       "      <td>08</td>\n",
       "      <td>15854.0</td>\n",
       "      <td>42.500000</td>\n",
       "      <td>1.533333</td>\n",
       "      <td>42.500000</td>\n",
       "      <td>1.533333</td>\n",
       "    </tr>\n",
       "  </tbody>\n",
       "</table>\n",
       "</div>"
      ],
      "text/plain": [
       "   Country              City        AccentCity Region  Population   Latitude  \\\n",
       "6       ad  andorra la vella  Andorra la Vella     07     20430.0  42.500000   \n",
       "20      ad           canillo           Canillo     02      3292.0  42.566667   \n",
       "32      ad            encamp            Encamp     03     11224.0  42.533333   \n",
       "49      ad        la massana        La Massana     04      7211.0  42.550000   \n",
       "53      ad      les escaldes      Les Escaldes     08     15854.0  42.500000   \n",
       "\n",
       "    Longitude        lat       lon  \n",
       "6    1.516667  42.500000  1.516667  \n",
       "20   1.600000  42.566667  1.600000  \n",
       "32   1.583333  42.533333  1.583333  \n",
       "49   1.516667  42.550000  1.516667  \n",
       "53   1.533333  42.500000  1.533333  "
      ]
     },
     "execution_count": 9,
     "metadata": {},
     "output_type": "execute_result"
    }
   ],
   "source": [
    "df_with_pop = df[df['Population'] > 0]\n",
    "df_with_pop.head()"
   ]
  },
  {
   "cell_type": "code",
   "execution_count": 10,
   "id": "literary-complexity",
   "metadata": {},
   "outputs": [
    {
     "name": "stdout",
     "output_type": "stream",
     "text": [
      "(47980, 9)\n"
     ]
    }
   ],
   "source": [
    "print(df_with_pop.shape)"
   ]
  },
  {
   "cell_type": "code",
   "execution_count": 11,
   "id": "infinite-retrieval",
   "metadata": {},
   "outputs": [
    {
     "name": "stdout",
     "output_type": "stream",
     "text": [
      "Total of cities: 3173958\n",
      "Cities with population: 47980\n"
     ]
    }
   ],
   "source": [
    "print(f'Total of cities: {df.shape[0]}')\n",
    "print(f'Cities with population: {df_with_pop.shape[0]}')"
   ]
  },
  {
   "cell_type": "markdown",
   "id": "approximate-thumb",
   "metadata": {},
   "source": [
    "<b> Plot the remaining data on a dot plot </b>"
   ]
  },
  {
   "cell_type": "code",
   "execution_count": 12,
   "id": "adapted-break",
   "metadata": {},
   "outputs": [],
   "source": [
    "geoplotlib.dot(df_with_pop)\n",
    "geoplotlib.show()"
   ]
  },
  {
   "cell_type": "markdown",
   "id": "failing-plastic",
   "metadata": {},
   "source": [
    "<b> Filter your remaining data for cities with a population of greater than 100,000 </b>"
   ]
  },
  {
   "cell_type": "code",
   "execution_count": 13,
   "id": "thousand-bearing",
   "metadata": {},
   "outputs": [],
   "source": [
    "df_with_pop = df_with_pop[df_with_pop['Population'] > 100000]"
   ]
  },
  {
   "cell_type": "code",
   "execution_count": 14,
   "id": "bound-lounge",
   "metadata": {},
   "outputs": [
    {
     "name": "stdout",
     "output_type": "stream",
     "text": [
      "(3527, 9)\n"
     ]
    }
   ],
   "source": [
    "print(df_with_pop.shape)"
   ]
  },
  {
   "cell_type": "code",
   "execution_count": 15,
   "id": "surprised-bottle",
   "metadata": {},
   "outputs": [
    {
     "name": "stdout",
     "output_type": "stream",
     "text": [
      "There are 3527 cities with more than 100,000 people\n"
     ]
    }
   ],
   "source": [
    "print(f'There are {df_with_pop.shape[0]} cities with more than 100,000 people')"
   ]
  },
  {
   "cell_type": "code",
   "execution_count": 16,
   "id": "later-studio",
   "metadata": {},
   "outputs": [],
   "source": [
    "geoplotlib.dot(df_with_pop)\n",
    "geoplotlib.show()"
   ]
  },
  {
   "cell_type": "markdown",
   "id": "moving-silly",
   "metadata": {},
   "source": [
    "<b> To get a better understanding of the density of our data points on the map, use a Voronoi tessellation layer </b>"
   ]
  },
  {
   "cell_type": "code",
   "execution_count": 17,
   "id": "robust-biology",
   "metadata": {},
   "outputs": [],
   "source": [
    "geoplotlib.voronoi(df_with_pop, cmap='hot_r', max_area=1e3, alpha=255)\n",
    "geoplotlib.show()"
   ]
  },
  {
   "cell_type": "markdown",
   "id": "incomplete-protest",
   "metadata": {},
   "source": [
    "<b> Filter down the data even further to only cities in countries such as Germany and Great Britain </b>"
   ]
  },
  {
   "cell_type": "code",
   "execution_count": 18,
   "id": "rational-principal",
   "metadata": {},
   "outputs": [],
   "source": [
    "df_europe = df_with_pop[(df_with_pop['Country'] == 'de') | (df_with_pop['Country'] == 'gb')]"
   ]
  },
  {
   "cell_type": "code",
   "execution_count": 19,
   "id": "departmental-trial",
   "metadata": {},
   "outputs": [
    {
     "name": "stdout",
     "output_type": "stream",
     "text": [
      "There are 150 cities in Germany or GB with more than 100,000 people\n"
     ]
    }
   ],
   "source": [
    "print(f'There are {df_europe.shape[0]} cities in Germany or GB with more than 100,000 people')"
   ]
  },
  {
   "cell_type": "markdown",
   "id": "critical-packet",
   "metadata": {},
   "source": [
    "<b> Use a Delaunay triangulation layer to find the most densely populated areas </b>"
   ]
  },
  {
   "cell_type": "code",
   "execution_count": 20,
   "id": "chemical-indonesia",
   "metadata": {},
   "outputs": [],
   "source": [
    "geoplotlib.delaunay(df_europe, cmap='hot_r')\n",
    "geoplotlib.show()"
   ]
  },
  {
   "cell_type": "markdown",
   "id": "specialized-potato",
   "metadata": {},
   "source": [
    "# Visualizing City Density by the First Letter Using an Interactive Custom Layer"
   ]
  },
  {
   "cell_type": "markdown",
   "id": "defensive-yield",
   "metadata": {},
   "source": [
    "<b> Import the dependencies </b>"
   ]
  },
  {
   "cell_type": "code",
   "execution_count": 21,
   "id": "academic-reputation",
   "metadata": {},
   "outputs": [],
   "source": [
    "import numpy as np\n",
    "import pandas as pd\n",
    "import geoplotlib"
   ]
  },
  {
   "cell_type": "markdown",
   "id": "otherwise-constitutional",
   "metadata": {},
   "source": [
    "<b> Load the world_cities_pop.csv </b>"
   ]
  },
  {
   "cell_type": "code",
   "execution_count": 22,
   "id": "indoor-breeding",
   "metadata": {},
   "outputs": [
    {
     "data": {
      "text/html": [
       "<div>\n",
       "<style scoped>\n",
       "    .dataframe tbody tr th:only-of-type {\n",
       "        vertical-align: middle;\n",
       "    }\n",
       "\n",
       "    .dataframe tbody tr th {\n",
       "        vertical-align: top;\n",
       "    }\n",
       "\n",
       "    .dataframe thead th {\n",
       "        text-align: right;\n",
       "    }\n",
       "</style>\n",
       "<table border=\"1\" class=\"dataframe\">\n",
       "  <thead>\n",
       "    <tr style=\"text-align: right;\">\n",
       "      <th></th>\n",
       "      <th>Country</th>\n",
       "      <th>City</th>\n",
       "      <th>AccentCity</th>\n",
       "      <th>Region</th>\n",
       "      <th>Population</th>\n",
       "      <th>Latitude</th>\n",
       "      <th>Longitude</th>\n",
       "    </tr>\n",
       "  </thead>\n",
       "  <tbody>\n",
       "    <tr>\n",
       "      <th>0</th>\n",
       "      <td>ad</td>\n",
       "      <td>aixas</td>\n",
       "      <td>Aixàs</td>\n",
       "      <td>06</td>\n",
       "      <td>NaN</td>\n",
       "      <td>42.483333</td>\n",
       "      <td>1.466667</td>\n",
       "    </tr>\n",
       "    <tr>\n",
       "      <th>1</th>\n",
       "      <td>ad</td>\n",
       "      <td>aixirivali</td>\n",
       "      <td>Aixirivali</td>\n",
       "      <td>06</td>\n",
       "      <td>NaN</td>\n",
       "      <td>42.466667</td>\n",
       "      <td>1.500000</td>\n",
       "    </tr>\n",
       "    <tr>\n",
       "      <th>2</th>\n",
       "      <td>ad</td>\n",
       "      <td>aixirivall</td>\n",
       "      <td>Aixirivall</td>\n",
       "      <td>06</td>\n",
       "      <td>NaN</td>\n",
       "      <td>42.466667</td>\n",
       "      <td>1.500000</td>\n",
       "    </tr>\n",
       "    <tr>\n",
       "      <th>3</th>\n",
       "      <td>ad</td>\n",
       "      <td>aixirvall</td>\n",
       "      <td>Aixirvall</td>\n",
       "      <td>06</td>\n",
       "      <td>NaN</td>\n",
       "      <td>42.466667</td>\n",
       "      <td>1.500000</td>\n",
       "    </tr>\n",
       "    <tr>\n",
       "      <th>4</th>\n",
       "      <td>ad</td>\n",
       "      <td>aixovall</td>\n",
       "      <td>Aixovall</td>\n",
       "      <td>06</td>\n",
       "      <td>NaN</td>\n",
       "      <td>42.466667</td>\n",
       "      <td>1.483333</td>\n",
       "    </tr>\n",
       "  </tbody>\n",
       "</table>\n",
       "</div>"
      ],
      "text/plain": [
       "  Country        City  AccentCity Region  Population   Latitude  Longitude\n",
       "0      ad       aixas       Aixàs     06         NaN  42.483333   1.466667\n",
       "1      ad  aixirivali  Aixirivali     06         NaN  42.466667   1.500000\n",
       "2      ad  aixirivall  Aixirivall     06         NaN  42.466667   1.500000\n",
       "3      ad   aixirvall   Aixirvall     06         NaN  42.466667   1.500000\n",
       "4      ad    aixovall    Aixovall     06         NaN  42.466667   1.483333"
      ]
     },
     "execution_count": 22,
     "metadata": {},
     "output_type": "execute_result"
    }
   ],
   "source": [
    "dataset = pd.read_csv('Datasets/world_cities_pop.csv', dtype={'Region':np.str})\n",
    "dataset.head()"
   ]
  },
  {
   "cell_type": "markdown",
   "id": "hazardous-sarah",
   "metadata": {},
   "source": [
    "<b> Map the Latitude and Longitude columns to lat and lon </b>"
   ]
  },
  {
   "cell_type": "code",
   "execution_count": 23,
   "id": "first-forward",
   "metadata": {},
   "outputs": [],
   "source": [
    "dataset['lat'] = dataset['Latitude']\n",
    "dataset['lon'] = dataset['Longitude']"
   ]
  },
  {
   "cell_type": "markdown",
   "id": "capital-harvard",
   "metadata": {},
   "source": [
    "<b> Filter the dataset to only contain European cities </b>"
   ]
  },
  {
   "cell_type": "code",
   "execution_count": 24,
   "id": "fallen-basket",
   "metadata": {},
   "outputs": [],
   "source": [
    "# 2 letter country codes of europe without russia\n",
    "europe_country_codes = ['al', 'ad', 'at', 'by', 'be', 'ba', 'bg', 'hr', 'cy', 'cz', 'dk', 'ee', 'fo',\n",
    "                        'fi', 'fr', 'de', 'gi', 'gr', 'hu', 'is', 'ie', 'im', 'it', 'xk', 'lv', 'li',\n",
    "                        'lt', 'lu', 'mk', 'mt', 'md', 'mc', 'me', 'nl', 'no', 'pl', 'pt', 'ro', 'sm',\n",
    "                        'rs', 'sk', 'si', 'es', 'se', 'ch', 'ua', 'gb', 'va']"
   ]
  },
  {
   "cell_type": "markdown",
   "id": "cheap-explanation",
   "metadata": {},
   "source": [
    "<b> Compare the length of all data with the filtered data of Europe </b>"
   ]
  },
  {
   "cell_type": "code",
   "execution_count": 25,
   "id": "informed-parcel",
   "metadata": {},
   "outputs": [],
   "source": [
    "europe_dataset = dataset[dataset['Country'].isin(europe_country_codes)]"
   ]
  },
  {
   "cell_type": "code",
   "execution_count": 26,
   "id": "nasty-cross",
   "metadata": {},
   "outputs": [
    {
     "name": "stdout",
     "output_type": "stream",
     "text": [
      "Whole World Data 3173958\n",
      "Europe Data 682348\n"
     ]
    }
   ],
   "source": [
    "print('Whole World Data', len(dataset))\n",
    "print('Europe Data', len(europe_dataset))"
   ]
  },
  {
   "cell_type": "markdown",
   "id": "optimum-making",
   "metadata": {},
   "source": [
    "<b> Filter down the European dataset to get a dataset that only contains cities that start with the letter Z </b>"
   ]
  },
  {
   "cell_type": "code",
   "execution_count": 27,
   "id": "introductory-detroit",
   "metadata": {},
   "outputs": [],
   "source": [
    "cities_starting_z = europe_dataset[europe_dataset['AccentCity'].str.startswith('Z')]"
   ]
  },
  {
   "cell_type": "code",
   "execution_count": 28,
   "id": "private-iceland",
   "metadata": {},
   "outputs": [
    {
     "name": "stdout",
     "output_type": "stream",
     "text": [
      "Cities starting with Z: 13218\n"
     ]
    }
   ],
   "source": [
    "print('Cities starting with Z:', len(cities_starting_z))"
   ]
  },
  {
   "cell_type": "markdown",
   "id": "vulnerable-express",
   "metadata": {},
   "source": [
    "<b> Create a dot density plot with a tooltip that shows the country code and the name of the city separated by a - </b>"
   ]
  },
  {
   "cell_type": "code",
   "execution_count": 29,
   "id": "superb-belgium",
   "metadata": {},
   "outputs": [],
   "source": [
    "from geoplotlib.utils import DataAccessObject\n",
    "geoplotlib_data = DataAccessObject(cities_starting_z)\n",
    "geoplotlib.dot(geoplotlib_data, f_tooltip=lambda d: '{} - {}'.format(d['Country'].upper(), d['City']).title())\n",
    "geoplotlib.show()"
   ]
  },
  {
   "cell_type": "markdown",
   "id": "frequent-hardware",
   "metadata": {},
   "source": [
    "<b> Create a Voronoi plot with the same dataset that only contains cities that start with Z </b>"
   ]
  },
  {
   "cell_type": "code",
   "execution_count": 30,
   "id": "banned-complex",
   "metadata": {},
   "outputs": [],
   "source": [
    "geoplotlib.voronoi(cities_starting_z, cmap='Reds_r', max_area=1e5, alpha=50)\n",
    "geoplotlib.show()"
   ]
  },
  {
   "cell_type": "markdown",
   "id": "optional-treasure",
   "metadata": {},
   "source": [
    "<b> Create a custom layer that plots all the cities in Europe dataset that starts with the provided letter. Make it interactive so that by using the left and right arrow keys, we can switch between the letters </b>"
   ]
  },
  {
   "cell_type": "code",
   "execution_count": 31,
   "id": "aerial-tonight",
   "metadata": {},
   "outputs": [],
   "source": [
    "import pyglet\n",
    "import geoplotlib\n",
    "from geoplotlib.layers import BaseLayer\n",
    "from geoplotlib.core import BatchPainter\n",
    "from geoplotlib.utils import BoundingBox"
   ]
  },
  {
   "cell_type": "code",
   "execution_count": 32,
   "id": "acknowledged-province",
   "metadata": {},
   "outputs": [],
   "source": [
    "start_letters = ['A', 'B', 'C', 'D', 'E', 'F', 'G', 'H', 'I', 'H', 'K', 'L',\n",
    "                 'M', 'N', 'O', 'P', 'Q', 'R', 'S', 'T', 'U', 'V', 'W', 'X', 'Y', 'Z']"
   ]
  },
  {
   "cell_type": "code",
   "execution_count": 33,
   "id": "yellow-amsterdam",
   "metadata": {},
   "outputs": [],
   "source": [
    "class FilterLayer (BaseLayer):\n",
    "    def __init__(self, dataset, bbox=BoundingBox.WORLD):\n",
    "        self.data = dataset\n",
    "        self.start_letter = 0\n",
    "        self.view = bbox\n",
    "        \n",
    "    def invalidate(self, proj):\n",
    "        start_letter_data =  self.data[self.data['AccentCity'].str.startswith(start_letters[self.start_letter])]\n",
    "        \n",
    "        self.painter = BatchPainter()\n",
    "        x, y = proj.lonlat_to_screen(start_letter_data['lon'], start_letter_data['lat'])\n",
    "        self.painter.points(x, y, 2)\n",
    "        \n",
    "    def draw(self, proj, mouse_x, mouse_y, ui_manager):  \n",
    "        self.painter.batch_draw()\n",
    "        ui_manager.info('Displaying cities starting with {}'.format(start_letters[self.start_letter]))\n",
    "        \n",
    "    def on_key_release(self, key, modifiers):\n",
    "        if key == pyglet.window.key.RIGHT:\n",
    "            self.start_letter = (self.start_letter + 1) % len(start_letters)\n",
    "            return True\n",
    "        elif key == pyglet.window.key.LEFT:\n",
    "            self.start_letter = (self.start_letter - 1) % len(start_letters)\n",
    "            return True\n",
    "            \n",
    "        return False\n",
    "        \n",
    "    # bounding box that gets used when layer is created\n",
    "    def bbox(self):\n",
    "        return self.view"
   ]
  }
 ],
 "metadata": {
  "kernelspec": {
   "display_name": "Python 3",
   "language": "python",
   "name": "python3"
  },
  "language_info": {
   "codemirror_mode": {
    "name": "ipython",
    "version": 3
   },
   "file_extension": ".py",
   "mimetype": "text/x-python",
   "name": "python",
   "nbconvert_exporter": "python",
   "pygments_lexer": "ipython3",
   "version": "3.7.7"
  }
 },
 "nbformat": 4,
 "nbformat_minor": 5
}
