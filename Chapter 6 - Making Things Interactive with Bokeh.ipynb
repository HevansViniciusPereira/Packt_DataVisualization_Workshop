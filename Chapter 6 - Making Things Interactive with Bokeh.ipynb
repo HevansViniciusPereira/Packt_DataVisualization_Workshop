{
 "cells": [
  {
   "cell_type": "markdown",
   "id": "compound-sierra",
   "metadata": {},
   "source": [
    "# Plotting with Bokeh"
   ]
  },
  {
   "cell_type": "code",
   "execution_count": 1,
   "id": "sixth-overview",
   "metadata": {},
   "outputs": [],
   "source": [
    "# import packages\n",
    "import pandas as pd\n",
    "from bokeh.plotting import figure, show"
   ]
  },
  {
   "cell_type": "code",
   "execution_count": 2,
   "id": "metropolitan-suspect",
   "metadata": {},
   "outputs": [
    {
     "data": {
      "text/html": [
       "\n",
       "    <div class=\"bk-root\">\n",
       "        <a href=\"https://bokeh.org\" target=\"_blank\" class=\"bk-logo bk-logo-small bk-logo-notebook\"></a>\n",
       "        <span id=\"1001\">Loading BokehJS ...</span>\n",
       "    </div>"
      ]
     },
     "metadata": {},
     "output_type": "display_data"
    },
    {
     "data": {
      "application/javascript": [
       "\n",
       "(function(root) {\n",
       "  function now() {\n",
       "    return new Date();\n",
       "  }\n",
       "\n",
       "  var force = true;\n",
       "\n",
       "  if (typeof root._bokeh_onload_callbacks === \"undefined\" || force === true) {\n",
       "    root._bokeh_onload_callbacks = [];\n",
       "    root._bokeh_is_loading = undefined;\n",
       "  }\n",
       "\n",
       "  var JS_MIME_TYPE = 'application/javascript';\n",
       "  var HTML_MIME_TYPE = 'text/html';\n",
       "  var EXEC_MIME_TYPE = 'application/vnd.bokehjs_exec.v0+json';\n",
       "  var CLASS_NAME = 'output_bokeh rendered_html';\n",
       "\n",
       "  /**\n",
       "   * Render data to the DOM node\n",
       "   */\n",
       "  function render(props, node) {\n",
       "    var script = document.createElement(\"script\");\n",
       "    node.appendChild(script);\n",
       "  }\n",
       "\n",
       "  /**\n",
       "   * Handle when an output is cleared or removed\n",
       "   */\n",
       "  function handleClearOutput(event, handle) {\n",
       "    var cell = handle.cell;\n",
       "\n",
       "    var id = cell.output_area._bokeh_element_id;\n",
       "    var server_id = cell.output_area._bokeh_server_id;\n",
       "    // Clean up Bokeh references\n",
       "    if (id != null && id in Bokeh.index) {\n",
       "      Bokeh.index[id].model.document.clear();\n",
       "      delete Bokeh.index[id];\n",
       "    }\n",
       "\n",
       "    if (server_id !== undefined) {\n",
       "      // Clean up Bokeh references\n",
       "      var cmd = \"from bokeh.io.state import curstate; print(curstate().uuid_to_server['\" + server_id + \"'].get_sessions()[0].document.roots[0]._id)\";\n",
       "      cell.notebook.kernel.execute(cmd, {\n",
       "        iopub: {\n",
       "          output: function(msg) {\n",
       "            var id = msg.content.text.trim();\n",
       "            if (id in Bokeh.index) {\n",
       "              Bokeh.index[id].model.document.clear();\n",
       "              delete Bokeh.index[id];\n",
       "            }\n",
       "          }\n",
       "        }\n",
       "      });\n",
       "      // Destroy server and session\n",
       "      var cmd = \"import bokeh.io.notebook as ion; ion.destroy_server('\" + server_id + \"')\";\n",
       "      cell.notebook.kernel.execute(cmd);\n",
       "    }\n",
       "  }\n",
       "\n",
       "  /**\n",
       "   * Handle when a new output is added\n",
       "   */\n",
       "  function handleAddOutput(event, handle) {\n",
       "    var output_area = handle.output_area;\n",
       "    var output = handle.output;\n",
       "\n",
       "    // limit handleAddOutput to display_data with EXEC_MIME_TYPE content only\n",
       "    if ((output.output_type != \"display_data\") || (!output.data.hasOwnProperty(EXEC_MIME_TYPE))) {\n",
       "      return\n",
       "    }\n",
       "\n",
       "    var toinsert = output_area.element.find(\".\" + CLASS_NAME.split(' ')[0]);\n",
       "\n",
       "    if (output.metadata[EXEC_MIME_TYPE][\"id\"] !== undefined) {\n",
       "      toinsert[toinsert.length - 1].firstChild.textContent = output.data[JS_MIME_TYPE];\n",
       "      // store reference to embed id on output_area\n",
       "      output_area._bokeh_element_id = output.metadata[EXEC_MIME_TYPE][\"id\"];\n",
       "    }\n",
       "    if (output.metadata[EXEC_MIME_TYPE][\"server_id\"] !== undefined) {\n",
       "      var bk_div = document.createElement(\"div\");\n",
       "      bk_div.innerHTML = output.data[HTML_MIME_TYPE];\n",
       "      var script_attrs = bk_div.children[0].attributes;\n",
       "      for (var i = 0; i < script_attrs.length; i++) {\n",
       "        toinsert[toinsert.length - 1].firstChild.setAttribute(script_attrs[i].name, script_attrs[i].value);\n",
       "        toinsert[toinsert.length - 1].firstChild.textContent = bk_div.children[0].textContent\n",
       "      }\n",
       "      // store reference to server id on output_area\n",
       "      output_area._bokeh_server_id = output.metadata[EXEC_MIME_TYPE][\"server_id\"];\n",
       "    }\n",
       "  }\n",
       "\n",
       "  function register_renderer(events, OutputArea) {\n",
       "\n",
       "    function append_mime(data, metadata, element) {\n",
       "      // create a DOM node to render to\n",
       "      var toinsert = this.create_output_subarea(\n",
       "        metadata,\n",
       "        CLASS_NAME,\n",
       "        EXEC_MIME_TYPE\n",
       "      );\n",
       "      this.keyboard_manager.register_events(toinsert);\n",
       "      // Render to node\n",
       "      var props = {data: data, metadata: metadata[EXEC_MIME_TYPE]};\n",
       "      render(props, toinsert[toinsert.length - 1]);\n",
       "      element.append(toinsert);\n",
       "      return toinsert\n",
       "    }\n",
       "\n",
       "    /* Handle when an output is cleared or removed */\n",
       "    events.on('clear_output.CodeCell', handleClearOutput);\n",
       "    events.on('delete.Cell', handleClearOutput);\n",
       "\n",
       "    /* Handle when a new output is added */\n",
       "    events.on('output_added.OutputArea', handleAddOutput);\n",
       "\n",
       "    /**\n",
       "     * Register the mime type and append_mime function with output_area\n",
       "     */\n",
       "    OutputArea.prototype.register_mime_type(EXEC_MIME_TYPE, append_mime, {\n",
       "      /* Is output safe? */\n",
       "      safe: true,\n",
       "      /* Index of renderer in `output_area.display_order` */\n",
       "      index: 0\n",
       "    });\n",
       "  }\n",
       "\n",
       "  // register the mime type if in Jupyter Notebook environment and previously unregistered\n",
       "  if (root.Jupyter !== undefined) {\n",
       "    var events = require('base/js/events');\n",
       "    var OutputArea = require('notebook/js/outputarea').OutputArea;\n",
       "\n",
       "    if (OutputArea.prototype.mime_types().indexOf(EXEC_MIME_TYPE) == -1) {\n",
       "      register_renderer(events, OutputArea);\n",
       "    }\n",
       "  }\n",
       "\n",
       "  \n",
       "  if (typeof (root._bokeh_timeout) === \"undefined\" || force === true) {\n",
       "    root._bokeh_timeout = Date.now() + 5000;\n",
       "    root._bokeh_failed_load = false;\n",
       "  }\n",
       "\n",
       "  var NB_LOAD_WARNING = {'data': {'text/html':\n",
       "     \"<div style='background-color: #fdd'>\\n\"+\n",
       "     \"<p>\\n\"+\n",
       "     \"BokehJS does not appear to have successfully loaded. If loading BokehJS from CDN, this \\n\"+\n",
       "     \"may be due to a slow or bad network connection. Possible fixes:\\n\"+\n",
       "     \"</p>\\n\"+\n",
       "     \"<ul>\\n\"+\n",
       "     \"<li>re-rerun `output_notebook()` to attempt to load from CDN again, or</li>\\n\"+\n",
       "     \"<li>use INLINE resources instead, as so:</li>\\n\"+\n",
       "     \"</ul>\\n\"+\n",
       "     \"<code>\\n\"+\n",
       "     \"from bokeh.resources import INLINE\\n\"+\n",
       "     \"output_notebook(resources=INLINE)\\n\"+\n",
       "     \"</code>\\n\"+\n",
       "     \"</div>\"}};\n",
       "\n",
       "  function display_loaded() {\n",
       "    var el = document.getElementById(\"1001\");\n",
       "    if (el != null) {\n",
       "      el.textContent = \"BokehJS is loading...\";\n",
       "    }\n",
       "    if (root.Bokeh !== undefined) {\n",
       "      if (el != null) {\n",
       "        el.textContent = \"BokehJS \" + root.Bokeh.version + \" successfully loaded.\";\n",
       "      }\n",
       "    } else if (Date.now() < root._bokeh_timeout) {\n",
       "      setTimeout(display_loaded, 100)\n",
       "    }\n",
       "  }\n",
       "\n",
       "\n",
       "  function run_callbacks() {\n",
       "    try {\n",
       "      root._bokeh_onload_callbacks.forEach(function(callback) {\n",
       "        if (callback != null)\n",
       "          callback();\n",
       "      });\n",
       "    } finally {\n",
       "      delete root._bokeh_onload_callbacks\n",
       "    }\n",
       "    console.debug(\"Bokeh: all callbacks have finished\");\n",
       "  }\n",
       "\n",
       "  function load_libs(css_urls, js_urls, callback) {\n",
       "    if (css_urls == null) css_urls = [];\n",
       "    if (js_urls == null) js_urls = [];\n",
       "\n",
       "    root._bokeh_onload_callbacks.push(callback);\n",
       "    if (root._bokeh_is_loading > 0) {\n",
       "      console.debug(\"Bokeh: BokehJS is being loaded, scheduling callback at\", now());\n",
       "      return null;\n",
       "    }\n",
       "    if (js_urls == null || js_urls.length === 0) {\n",
       "      run_callbacks();\n",
       "      return null;\n",
       "    }\n",
       "    console.debug(\"Bokeh: BokehJS not loaded, scheduling load and callback at\", now());\n",
       "    root._bokeh_is_loading = css_urls.length + js_urls.length;\n",
       "\n",
       "    function on_load() {\n",
       "      root._bokeh_is_loading--;\n",
       "      if (root._bokeh_is_loading === 0) {\n",
       "        console.debug(\"Bokeh: all BokehJS libraries/stylesheets loaded\");\n",
       "        run_callbacks()\n",
       "      }\n",
       "    }\n",
       "\n",
       "    function on_error() {\n",
       "      console.error(\"failed to load \" + url);\n",
       "    }\n",
       "\n",
       "    for (var i = 0; i < css_urls.length; i++) {\n",
       "      var url = css_urls[i];\n",
       "      const element = document.createElement(\"link\");\n",
       "      element.onload = on_load;\n",
       "      element.onerror = on_error;\n",
       "      element.rel = \"stylesheet\";\n",
       "      element.type = \"text/css\";\n",
       "      element.href = url;\n",
       "      console.debug(\"Bokeh: injecting link tag for BokehJS stylesheet: \", url);\n",
       "      document.body.appendChild(element);\n",
       "    }\n",
       "\n",
       "    const hashes = {\"https://cdn.bokeh.org/bokeh/release/bokeh-2.0.2.min.js\": \"ufR9RFnRs6lniiaFvtJziE0YeidtAgBRH6ux2oUItHw5WTvE1zuk9uzhUU/FJXDp\", \"https://cdn.bokeh.org/bokeh/release/bokeh-widgets-2.0.2.min.js\": \"8QM/PGWBT+IssZuRcDcjzwIh1mkOmJSoNMmyYDZbCfXJg3Ap1lEvdVgFuSAwhb/J\", \"https://cdn.bokeh.org/bokeh/release/bokeh-tables-2.0.2.min.js\": \"Jm8cH3Rg0P6UeZhVY5cLy1WzKajUT9KImCY+76hEqrcJt59/d8GPvFHjCkYgnSIn\", \"https://cdn.bokeh.org/bokeh/release/bokeh-gl-2.0.2.min.js\": \"Ozhzj+SI7ywm74aOI/UajcWz+C0NjsPunEVyVIrxzYkB+jA+2tUw8x5xJCbVtK5I\"};\n",
       "\n",
       "    for (var i = 0; i < js_urls.length; i++) {\n",
       "      var url = js_urls[i];\n",
       "      var element = document.createElement('script');\n",
       "      element.onload = on_load;\n",
       "      element.onerror = on_error;\n",
       "      element.async = false;\n",
       "      element.src = url;\n",
       "      if (url in hashes) {\n",
       "        element.crossOrigin = \"anonymous\";\n",
       "        element.integrity = \"sha384-\" + hashes[url];\n",
       "      }\n",
       "      console.debug(\"Bokeh: injecting script tag for BokehJS library: \", url);\n",
       "      document.head.appendChild(element);\n",
       "    }\n",
       "  };\n",
       "\n",
       "  function inject_raw_css(css) {\n",
       "    const element = document.createElement(\"style\");\n",
       "    element.appendChild(document.createTextNode(css));\n",
       "    document.body.appendChild(element);\n",
       "  }\n",
       "\n",
       "  \n",
       "  var js_urls = [\"https://cdn.bokeh.org/bokeh/release/bokeh-2.0.2.min.js\", \"https://cdn.bokeh.org/bokeh/release/bokeh-widgets-2.0.2.min.js\", \"https://cdn.bokeh.org/bokeh/release/bokeh-tables-2.0.2.min.js\", \"https://cdn.bokeh.org/bokeh/release/bokeh-gl-2.0.2.min.js\"];\n",
       "  var css_urls = [];\n",
       "  \n",
       "\n",
       "  var inline_js = [\n",
       "    function(Bokeh) {\n",
       "      Bokeh.set_log_level(\"info\");\n",
       "    },\n",
       "    function(Bokeh) {\n",
       "    \n",
       "    \n",
       "    }\n",
       "  ];\n",
       "\n",
       "  function run_inline_js() {\n",
       "    \n",
       "    if (root.Bokeh !== undefined || force === true) {\n",
       "      \n",
       "    for (var i = 0; i < inline_js.length; i++) {\n",
       "      inline_js[i].call(root, root.Bokeh);\n",
       "    }\n",
       "    if (force === true) {\n",
       "        display_loaded();\n",
       "      }} else if (Date.now() < root._bokeh_timeout) {\n",
       "      setTimeout(run_inline_js, 100);\n",
       "    } else if (!root._bokeh_failed_load) {\n",
       "      console.log(\"Bokeh: BokehJS failed to load within specified timeout.\");\n",
       "      root._bokeh_failed_load = true;\n",
       "    } else if (force !== true) {\n",
       "      var cell = $(document.getElementById(\"1001\")).parents('.cell').data().cell;\n",
       "      cell.output_area.append_execute_result(NB_LOAD_WARNING)\n",
       "    }\n",
       "\n",
       "  }\n",
       "\n",
       "  if (root._bokeh_is_loading === 0) {\n",
       "    console.debug(\"Bokeh: BokehJS loaded, going straight to plotting\");\n",
       "    run_inline_js();\n",
       "  } else {\n",
       "    load_libs(css_urls, js_urls, function() {\n",
       "      console.debug(\"Bokeh: BokehJS plotting callback run at\", now());\n",
       "      run_inline_js();\n",
       "    });\n",
       "  }\n",
       "}(window));"
      ],
      "application/vnd.bokehjs_load.v0+json": "\n(function(root) {\n  function now() {\n    return new Date();\n  }\n\n  var force = true;\n\n  if (typeof root._bokeh_onload_callbacks === \"undefined\" || force === true) {\n    root._bokeh_onload_callbacks = [];\n    root._bokeh_is_loading = undefined;\n  }\n\n  \n\n  \n  if (typeof (root._bokeh_timeout) === \"undefined\" || force === true) {\n    root._bokeh_timeout = Date.now() + 5000;\n    root._bokeh_failed_load = false;\n  }\n\n  var NB_LOAD_WARNING = {'data': {'text/html':\n     \"<div style='background-color: #fdd'>\\n\"+\n     \"<p>\\n\"+\n     \"BokehJS does not appear to have successfully loaded. If loading BokehJS from CDN, this \\n\"+\n     \"may be due to a slow or bad network connection. Possible fixes:\\n\"+\n     \"</p>\\n\"+\n     \"<ul>\\n\"+\n     \"<li>re-rerun `output_notebook()` to attempt to load from CDN again, or</li>\\n\"+\n     \"<li>use INLINE resources instead, as so:</li>\\n\"+\n     \"</ul>\\n\"+\n     \"<code>\\n\"+\n     \"from bokeh.resources import INLINE\\n\"+\n     \"output_notebook(resources=INLINE)\\n\"+\n     \"</code>\\n\"+\n     \"</div>\"}};\n\n  function display_loaded() {\n    var el = document.getElementById(\"1001\");\n    if (el != null) {\n      el.textContent = \"BokehJS is loading...\";\n    }\n    if (root.Bokeh !== undefined) {\n      if (el != null) {\n        el.textContent = \"BokehJS \" + root.Bokeh.version + \" successfully loaded.\";\n      }\n    } else if (Date.now() < root._bokeh_timeout) {\n      setTimeout(display_loaded, 100)\n    }\n  }\n\n\n  function run_callbacks() {\n    try {\n      root._bokeh_onload_callbacks.forEach(function(callback) {\n        if (callback != null)\n          callback();\n      });\n    } finally {\n      delete root._bokeh_onload_callbacks\n    }\n    console.debug(\"Bokeh: all callbacks have finished\");\n  }\n\n  function load_libs(css_urls, js_urls, callback) {\n    if (css_urls == null) css_urls = [];\n    if (js_urls == null) js_urls = [];\n\n    root._bokeh_onload_callbacks.push(callback);\n    if (root._bokeh_is_loading > 0) {\n      console.debug(\"Bokeh: BokehJS is being loaded, scheduling callback at\", now());\n      return null;\n    }\n    if (js_urls == null || js_urls.length === 0) {\n      run_callbacks();\n      return null;\n    }\n    console.debug(\"Bokeh: BokehJS not loaded, scheduling load and callback at\", now());\n    root._bokeh_is_loading = css_urls.length + js_urls.length;\n\n    function on_load() {\n      root._bokeh_is_loading--;\n      if (root._bokeh_is_loading === 0) {\n        console.debug(\"Bokeh: all BokehJS libraries/stylesheets loaded\");\n        run_callbacks()\n      }\n    }\n\n    function on_error() {\n      console.error(\"failed to load \" + url);\n    }\n\n    for (var i = 0; i < css_urls.length; i++) {\n      var url = css_urls[i];\n      const element = document.createElement(\"link\");\n      element.onload = on_load;\n      element.onerror = on_error;\n      element.rel = \"stylesheet\";\n      element.type = \"text/css\";\n      element.href = url;\n      console.debug(\"Bokeh: injecting link tag for BokehJS stylesheet: \", url);\n      document.body.appendChild(element);\n    }\n\n    const hashes = {\"https://cdn.bokeh.org/bokeh/release/bokeh-2.0.2.min.js\": \"ufR9RFnRs6lniiaFvtJziE0YeidtAgBRH6ux2oUItHw5WTvE1zuk9uzhUU/FJXDp\", \"https://cdn.bokeh.org/bokeh/release/bokeh-widgets-2.0.2.min.js\": \"8QM/PGWBT+IssZuRcDcjzwIh1mkOmJSoNMmyYDZbCfXJg3Ap1lEvdVgFuSAwhb/J\", \"https://cdn.bokeh.org/bokeh/release/bokeh-tables-2.0.2.min.js\": \"Jm8cH3Rg0P6UeZhVY5cLy1WzKajUT9KImCY+76hEqrcJt59/d8GPvFHjCkYgnSIn\", \"https://cdn.bokeh.org/bokeh/release/bokeh-gl-2.0.2.min.js\": \"Ozhzj+SI7ywm74aOI/UajcWz+C0NjsPunEVyVIrxzYkB+jA+2tUw8x5xJCbVtK5I\"};\n\n    for (var i = 0; i < js_urls.length; i++) {\n      var url = js_urls[i];\n      var element = document.createElement('script');\n      element.onload = on_load;\n      element.onerror = on_error;\n      element.async = false;\n      element.src = url;\n      if (url in hashes) {\n        element.crossOrigin = \"anonymous\";\n        element.integrity = \"sha384-\" + hashes[url];\n      }\n      console.debug(\"Bokeh: injecting script tag for BokehJS library: \", url);\n      document.head.appendChild(element);\n    }\n  };\n\n  function inject_raw_css(css) {\n    const element = document.createElement(\"style\");\n    element.appendChild(document.createTextNode(css));\n    document.body.appendChild(element);\n  }\n\n  \n  var js_urls = [\"https://cdn.bokeh.org/bokeh/release/bokeh-2.0.2.min.js\", \"https://cdn.bokeh.org/bokeh/release/bokeh-widgets-2.0.2.min.js\", \"https://cdn.bokeh.org/bokeh/release/bokeh-tables-2.0.2.min.js\", \"https://cdn.bokeh.org/bokeh/release/bokeh-gl-2.0.2.min.js\"];\n  var css_urls = [];\n  \n\n  var inline_js = [\n    function(Bokeh) {\n      Bokeh.set_log_level(\"info\");\n    },\n    function(Bokeh) {\n    \n    \n    }\n  ];\n\n  function run_inline_js() {\n    \n    if (root.Bokeh !== undefined || force === true) {\n      \n    for (var i = 0; i < inline_js.length; i++) {\n      inline_js[i].call(root, root.Bokeh);\n    }\n    if (force === true) {\n        display_loaded();\n      }} else if (Date.now() < root._bokeh_timeout) {\n      setTimeout(run_inline_js, 100);\n    } else if (!root._bokeh_failed_load) {\n      console.log(\"Bokeh: BokehJS failed to load within specified timeout.\");\n      root._bokeh_failed_load = true;\n    } else if (force !== true) {\n      var cell = $(document.getElementById(\"1001\")).parents('.cell').data().cell;\n      cell.output_area.append_execute_result(NB_LOAD_WARNING)\n    }\n\n  }\n\n  if (root._bokeh_is_loading === 0) {\n    console.debug(\"Bokeh: BokehJS loaded, going straight to plotting\");\n    run_inline_js();\n  } else {\n    load_libs(css_urls, js_urls, function() {\n      console.debug(\"Bokeh: BokehJS plotting callback run at\", now());\n      run_inline_js();\n    });\n  }\n}(window));"
     },
     "metadata": {},
     "output_type": "display_data"
    }
   ],
   "source": [
    "# Import and call the output_notebook method from the io interface of Bokeh to display the plots inside a Jupyter\n",
    "from bokeh.io import output_notebook\n",
    "output_notebook()"
   ]
  },
  {
   "cell_type": "code",
   "execution_count": 3,
   "id": "peripheral-bristol",
   "metadata": {},
   "outputs": [
    {
     "data": {
      "text/html": [
       "<div>\n",
       "<style scoped>\n",
       "    .dataframe tbody tr th:only-of-type {\n",
       "        vertical-align: middle;\n",
       "    }\n",
       "\n",
       "    .dataframe tbody tr th {\n",
       "        vertical-align: top;\n",
       "    }\n",
       "\n",
       "    .dataframe thead th {\n",
       "        text-align: right;\n",
       "    }\n",
       "</style>\n",
       "<table border=\"1\" class=\"dataframe\">\n",
       "  <thead>\n",
       "    <tr style=\"text-align: right;\">\n",
       "      <th></th>\n",
       "      <th>Country Code</th>\n",
       "      <th>Indicator Name</th>\n",
       "      <th>Indicator Code</th>\n",
       "      <th>1960</th>\n",
       "      <th>1961</th>\n",
       "      <th>1962</th>\n",
       "      <th>1963</th>\n",
       "      <th>1964</th>\n",
       "      <th>1965</th>\n",
       "      <th>1966</th>\n",
       "      <th>...</th>\n",
       "      <th>2007</th>\n",
       "      <th>2008</th>\n",
       "      <th>2009</th>\n",
       "      <th>2010</th>\n",
       "      <th>2011</th>\n",
       "      <th>2012</th>\n",
       "      <th>2013</th>\n",
       "      <th>2014</th>\n",
       "      <th>2015</th>\n",
       "      <th>2016</th>\n",
       "    </tr>\n",
       "    <tr>\n",
       "      <th>Country Name</th>\n",
       "      <th></th>\n",
       "      <th></th>\n",
       "      <th></th>\n",
       "      <th></th>\n",
       "      <th></th>\n",
       "      <th></th>\n",
       "      <th></th>\n",
       "      <th></th>\n",
       "      <th></th>\n",
       "      <th></th>\n",
       "      <th></th>\n",
       "      <th></th>\n",
       "      <th></th>\n",
       "      <th></th>\n",
       "      <th></th>\n",
       "      <th></th>\n",
       "      <th></th>\n",
       "      <th></th>\n",
       "      <th></th>\n",
       "      <th></th>\n",
       "      <th></th>\n",
       "    </tr>\n",
       "  </thead>\n",
       "  <tbody>\n",
       "    <tr>\n",
       "      <th>Aruba</th>\n",
       "      <td>ABW</td>\n",
       "      <td>Population density (people per sq. km of land ...</td>\n",
       "      <td>EN.POP.DNST</td>\n",
       "      <td>NaN</td>\n",
       "      <td>307.972222</td>\n",
       "      <td>312.366667</td>\n",
       "      <td>314.983333</td>\n",
       "      <td>316.827778</td>\n",
       "      <td>318.666667</td>\n",
       "      <td>320.622222</td>\n",
       "      <td>...</td>\n",
       "      <td>562.322222</td>\n",
       "      <td>563.011111</td>\n",
       "      <td>563.422222</td>\n",
       "      <td>564.427778</td>\n",
       "      <td>566.311111</td>\n",
       "      <td>568.850000</td>\n",
       "      <td>571.783333</td>\n",
       "      <td>574.672222</td>\n",
       "      <td>577.161111</td>\n",
       "      <td>NaN</td>\n",
       "    </tr>\n",
       "    <tr>\n",
       "      <th>Andorra</th>\n",
       "      <td>AND</td>\n",
       "      <td>Population density (people per sq. km of land ...</td>\n",
       "      <td>EN.POP.DNST</td>\n",
       "      <td>NaN</td>\n",
       "      <td>30.587234</td>\n",
       "      <td>32.714894</td>\n",
       "      <td>34.914894</td>\n",
       "      <td>37.170213</td>\n",
       "      <td>39.470213</td>\n",
       "      <td>41.800000</td>\n",
       "      <td>...</td>\n",
       "      <td>180.591489</td>\n",
       "      <td>182.161702</td>\n",
       "      <td>181.859574</td>\n",
       "      <td>179.614894</td>\n",
       "      <td>175.161702</td>\n",
       "      <td>168.757447</td>\n",
       "      <td>161.493617</td>\n",
       "      <td>154.863830</td>\n",
       "      <td>149.942553</td>\n",
       "      <td>NaN</td>\n",
       "    </tr>\n",
       "    <tr>\n",
       "      <th>Afghanistan</th>\n",
       "      <td>AFG</td>\n",
       "      <td>Population density (people per sq. km of land ...</td>\n",
       "      <td>EN.POP.DNST</td>\n",
       "      <td>NaN</td>\n",
       "      <td>14.038148</td>\n",
       "      <td>14.312061</td>\n",
       "      <td>14.599692</td>\n",
       "      <td>14.901579</td>\n",
       "      <td>15.218206</td>\n",
       "      <td>15.545203</td>\n",
       "      <td>...</td>\n",
       "      <td>39.637202</td>\n",
       "      <td>40.634655</td>\n",
       "      <td>41.674005</td>\n",
       "      <td>42.830327</td>\n",
       "      <td>44.127634</td>\n",
       "      <td>45.533197</td>\n",
       "      <td>46.997059</td>\n",
       "      <td>48.444546</td>\n",
       "      <td>49.821649</td>\n",
       "      <td>NaN</td>\n",
       "    </tr>\n",
       "    <tr>\n",
       "      <th>Angola</th>\n",
       "      <td>AGO</td>\n",
       "      <td>Population density (people per sq. km of land ...</td>\n",
       "      <td>EN.POP.DNST</td>\n",
       "      <td>NaN</td>\n",
       "      <td>4.305195</td>\n",
       "      <td>4.384299</td>\n",
       "      <td>4.464433</td>\n",
       "      <td>4.544558</td>\n",
       "      <td>4.624228</td>\n",
       "      <td>4.703271</td>\n",
       "      <td>...</td>\n",
       "      <td>15.387749</td>\n",
       "      <td>15.915819</td>\n",
       "      <td>16.459536</td>\n",
       "      <td>17.020898</td>\n",
       "      <td>17.600302</td>\n",
       "      <td>18.196544</td>\n",
       "      <td>18.808215</td>\n",
       "      <td>19.433323</td>\n",
       "      <td>20.070565</td>\n",
       "      <td>NaN</td>\n",
       "    </tr>\n",
       "    <tr>\n",
       "      <th>Albania</th>\n",
       "      <td>ALB</td>\n",
       "      <td>Population density (people per sq. km of land ...</td>\n",
       "      <td>EN.POP.DNST</td>\n",
       "      <td>NaN</td>\n",
       "      <td>60.576642</td>\n",
       "      <td>62.456898</td>\n",
       "      <td>64.329234</td>\n",
       "      <td>66.209307</td>\n",
       "      <td>68.058066</td>\n",
       "      <td>69.874927</td>\n",
       "      <td>...</td>\n",
       "      <td>108.394781</td>\n",
       "      <td>107.566204</td>\n",
       "      <td>106.843759</td>\n",
       "      <td>106.314635</td>\n",
       "      <td>106.013869</td>\n",
       "      <td>105.848431</td>\n",
       "      <td>105.717226</td>\n",
       "      <td>105.607810</td>\n",
       "      <td>105.444051</td>\n",
       "      <td>NaN</td>\n",
       "    </tr>\n",
       "  </tbody>\n",
       "</table>\n",
       "<p>5 rows × 60 columns</p>\n",
       "</div>"
      ],
      "text/plain": [
       "             Country Code                                     Indicator Name  \\\n",
       "Country Name                                                                   \n",
       "Aruba                 ABW  Population density (people per sq. km of land ...   \n",
       "Andorra               AND  Population density (people per sq. km of land ...   \n",
       "Afghanistan           AFG  Population density (people per sq. km of land ...   \n",
       "Angola                AGO  Population density (people per sq. km of land ...   \n",
       "Albania               ALB  Population density (people per sq. km of land ...   \n",
       "\n",
       "             Indicator Code  1960        1961        1962        1963  \\\n",
       "Country Name                                                            \n",
       "Aruba           EN.POP.DNST   NaN  307.972222  312.366667  314.983333   \n",
       "Andorra         EN.POP.DNST   NaN   30.587234   32.714894   34.914894   \n",
       "Afghanistan     EN.POP.DNST   NaN   14.038148   14.312061   14.599692   \n",
       "Angola          EN.POP.DNST   NaN    4.305195    4.384299    4.464433   \n",
       "Albania         EN.POP.DNST   NaN   60.576642   62.456898   64.329234   \n",
       "\n",
       "                    1964        1965        1966  ...        2007        2008  \\\n",
       "Country Name                                      ...                           \n",
       "Aruba         316.827778  318.666667  320.622222  ...  562.322222  563.011111   \n",
       "Andorra        37.170213   39.470213   41.800000  ...  180.591489  182.161702   \n",
       "Afghanistan    14.901579   15.218206   15.545203  ...   39.637202   40.634655   \n",
       "Angola          4.544558    4.624228    4.703271  ...   15.387749   15.915819   \n",
       "Albania        66.209307   68.058066   69.874927  ...  108.394781  107.566204   \n",
       "\n",
       "                    2009        2010        2011        2012        2013  \\\n",
       "Country Name                                                               \n",
       "Aruba         563.422222  564.427778  566.311111  568.850000  571.783333   \n",
       "Andorra       181.859574  179.614894  175.161702  168.757447  161.493617   \n",
       "Afghanistan    41.674005   42.830327   44.127634   45.533197   46.997059   \n",
       "Angola         16.459536   17.020898   17.600302   18.196544   18.808215   \n",
       "Albania       106.843759  106.314635  106.013869  105.848431  105.717226   \n",
       "\n",
       "                    2014        2015  2016  \n",
       "Country Name                                \n",
       "Aruba         574.672222  577.161111   NaN  \n",
       "Andorra       154.863830  149.942553   NaN  \n",
       "Afghanistan    48.444546   49.821649   NaN  \n",
       "Angola         19.433323   20.070565   NaN  \n",
       "Albania       105.607810  105.444051   NaN  \n",
       "\n",
       "[5 rows x 60 columns]"
      ]
     },
     "execution_count": 3,
     "metadata": {},
     "output_type": "execute_result"
    }
   ],
   "source": [
    "# load the data\n",
    "dataset = pd.read_csv('Datasets/world_population.csv', index_col=0)\n",
    "dataset.head()"
   ]
  },
  {
   "cell_type": "code",
   "execution_count": 4,
   "id": "central-editor",
   "metadata": {},
   "outputs": [],
   "source": [
    "# Populate our x-axis and y-axis with some data extraction\n",
    "years = [year for year in dataset.columns if not year[0].isalpha()] \n",
    "de_vals = [dataset.loc[['Germany']][year] for year in years]"
   ]
  },
  {
   "cell_type": "code",
   "execution_count": 5,
   "id": "vulnerable-project",
   "metadata": {},
   "outputs": [
    {
     "data": {
      "text/html": [
       "\n",
       "\n",
       "\n",
       "\n",
       "\n",
       "\n",
       "  <div class=\"bk-root\" id=\"067b66ce-60a6-4b83-af3c-ec3e9ef9872d\" data-root-id=\"1002\"></div>\n"
      ]
     },
     "metadata": {},
     "output_type": "display_data"
    },
    {
     "data": {
      "application/javascript": [
       "(function(root) {\n",
       "  function embed_document(root) {\n",
       "    \n",
       "  var docs_json = {\"c5623f11-39aa-4978-8a3a-8d69209be43d\":{\"roots\":{\"references\":[{\"attributes\":{\"below\":[{\"id\":\"1013\"}],\"center\":[{\"id\":\"1016\"},{\"id\":\"1020\"},{\"id\":\"1046\"}],\"left\":[{\"id\":\"1017\"}],\"renderers\":[{\"id\":\"1038\"}],\"title\":{\"id\":\"1003\"},\"toolbar\":{\"id\":\"1028\"},\"x_range\":{\"id\":\"1005\"},\"x_scale\":{\"id\":\"1009\"},\"y_range\":{\"id\":\"1007\"},\"y_scale\":{\"id\":\"1011\"}},\"id\":\"1002\",\"subtype\":\"Figure\",\"type\":\"Plot\"},{\"attributes\":{\"data\":{\"x\":[\"1960\",\"1961\",\"1962\",\"1963\",\"1964\",\"1965\",\"1966\",\"1967\",\"1968\",\"1969\",\"1970\",\"1971\",\"1972\",\"1973\",\"1974\",\"1975\",\"1976\",\"1977\",\"1978\",\"1979\",\"1980\",\"1981\",\"1982\",\"1983\",\"1984\",\"1985\",\"1986\",\"1987\",\"1988\",\"1989\",\"1990\",\"1991\",\"1992\",\"1993\",\"1994\",\"1995\",\"1996\",\"1997\",\"1998\",\"1999\",\"2000\",\"2001\",\"2002\",\"2003\",\"2004\",\"2005\",\"2006\",\"2007\",\"2008\",\"2009\",\"2010\",\"2011\",\"2012\",\"2013\",\"2014\",\"2015\",\"2016\"],\"y\":[[\"NaN\"],[210.172806690917],[212.02928422077701],[214.00152665196302],[215.731495431501],[217.579970211669],[219.40340560822602],[220.40883338584499],[221.391212442357],[223.15378798728298],[223.897370606937],[224.308544095323],[225.384389768854],[226.095339844757],[226.183464612036],[225.341717984705],[224.377595737977],[223.870231718844],[223.675479047919],[223.774382035345],[224.239039899178],[224.580835218973],[224.367330220835],[223.77991579067998],[223.00771918769502],[222.50987597742997],[222.61173774811698],[222.953971300089],[223.826709248704],[225.564354251998],[227.517053819494],[229.18080944061],[230.930020336264],[232.45979319431703],[233.27417719343498],[233.96749069034698],[234.65247070955897],[235.022979515829],[235.07877772047402],[235.25773110206902],[235.596813297034],[236.027300085985],[236.45157083070598],[236.61642728132801],[236.592195429653],[236.464680582636],[236.225197866483],[235.94336191814602],[235.522178240542],[234.93963741717099],[234.60690822503398],[234.673149529493],[230.750625466231],[235.647997360418],[232.347793653526],[233.583362024445],[\"NaN\"]]},\"selected\":{\"id\":\"1054\"},\"selection_policy\":{\"id\":\"1055\"}},\"id\":\"1035\",\"type\":\"ColumnDataSource\"},{\"attributes\":{},\"id\":\"1043\",\"type\":\"BasicTickFormatter\"},{\"attributes\":{\"axis_label\":\"Population Density\",\"formatter\":{\"id\":\"1041\"},\"ticker\":{\"id\":\"1018\"}},\"id\":\"1017\",\"type\":\"LinearAxis\"},{\"attributes\":{\"items\":[{\"id\":\"1047\"}]},\"id\":\"1046\",\"type\":\"Legend\"},{\"attributes\":{},\"id\":\"1018\",\"type\":\"BasicTicker\"},{\"attributes\":{\"label\":{\"value\":\"Germany\"},\"renderers\":[{\"id\":\"1038\"}]},\"id\":\"1047\",\"type\":\"LegendItem\"},{\"attributes\":{\"axis\":{\"id\":\"1017\"},\"dimension\":1,\"ticker\":null},\"id\":\"1020\",\"type\":\"Grid\"},{\"attributes\":{\"active_drag\":\"auto\",\"active_inspect\":\"auto\",\"active_multi\":null,\"active_scroll\":\"auto\",\"active_tap\":\"auto\",\"tools\":[{\"id\":\"1021\"},{\"id\":\"1022\"},{\"id\":\"1023\"},{\"id\":\"1024\"},{\"id\":\"1025\"},{\"id\":\"1026\"}]},\"id\":\"1028\",\"type\":\"Toolbar\"},{\"attributes\":{\"line_color\":\"#1f77b4\",\"line_width\":2,\"x\":{\"field\":\"x\"},\"y\":{\"field\":\"y\"}},\"id\":\"1036\",\"type\":\"Line\"},{\"attributes\":{},\"id\":\"1041\",\"type\":\"BasicTickFormatter\"},{\"attributes\":{\"text\":\"Population Density of Germany\"},\"id\":\"1003\",\"type\":\"Title\"},{\"attributes\":{},\"id\":\"1007\",\"type\":\"DataRange1d\"},{\"attributes\":{},\"id\":\"1054\",\"type\":\"Selection\"},{\"attributes\":{\"bottom_units\":\"screen\",\"fill_alpha\":0.5,\"fill_color\":\"lightgrey\",\"left_units\":\"screen\",\"level\":\"overlay\",\"line_alpha\":1.0,\"line_color\":\"black\",\"line_dash\":[4,4],\"line_width\":2,\"render_mode\":\"css\",\"right_units\":\"screen\",\"top_units\":\"screen\"},\"id\":\"1027\",\"type\":\"BoxAnnotation\"},{\"attributes\":{},\"id\":\"1055\",\"type\":\"UnionRenderers\"},{\"attributes\":{},\"id\":\"1005\",\"type\":\"DataRange1d\"},{\"attributes\":{},\"id\":\"1021\",\"type\":\"PanTool\"},{\"attributes\":{},\"id\":\"1022\",\"type\":\"WheelZoomTool\"},{\"attributes\":{\"overlay\":{\"id\":\"1027\"}},\"id\":\"1023\",\"type\":\"BoxZoomTool\"},{\"attributes\":{},\"id\":\"1024\",\"type\":\"SaveTool\"},{\"attributes\":{\"data_source\":{\"id\":\"1035\"},\"glyph\":{\"id\":\"1036\"},\"hover_glyph\":null,\"muted_glyph\":null,\"nonselection_glyph\":{\"id\":\"1037\"},\"selection_glyph\":null,\"view\":{\"id\":\"1039\"}},\"id\":\"1038\",\"type\":\"GlyphRenderer\"},{\"attributes\":{\"axis_label\":\"Year\",\"formatter\":{\"id\":\"1043\"},\"ticker\":{\"id\":\"1014\"}},\"id\":\"1013\",\"type\":\"LinearAxis\"},{\"attributes\":{},\"id\":\"1026\",\"type\":\"HelpTool\"},{\"attributes\":{},\"id\":\"1009\",\"type\":\"LinearScale\"},{\"attributes\":{},\"id\":\"1025\",\"type\":\"ResetTool\"},{\"attributes\":{},\"id\":\"1011\",\"type\":\"LinearScale\"},{\"attributes\":{\"line_alpha\":0.1,\"line_color\":\"#1f77b4\",\"line_width\":2,\"x\":{\"field\":\"x\"},\"y\":{\"field\":\"y\"}},\"id\":\"1037\",\"type\":\"Line\"},{\"attributes\":{\"source\":{\"id\":\"1035\"}},\"id\":\"1039\",\"type\":\"CDSView\"},{\"attributes\":{\"axis\":{\"id\":\"1013\"},\"ticker\":null},\"id\":\"1016\",\"type\":\"Grid\"},{\"attributes\":{},\"id\":\"1014\",\"type\":\"BasicTicker\"}],\"root_ids\":[\"1002\"]},\"title\":\"Bokeh Application\",\"version\":\"2.0.2\"}};\n",
       "  var render_items = [{\"docid\":\"c5623f11-39aa-4978-8a3a-8d69209be43d\",\"root_ids\":[\"1002\"],\"roots\":{\"1002\":\"067b66ce-60a6-4b83-af3c-ec3e9ef9872d\"}}];\n",
       "  root.Bokeh.embed.embed_items_notebook(docs_json, render_items);\n",
       "\n",
       "  }\n",
       "  if (root.Bokeh !== undefined) {\n",
       "    embed_document(root);\n",
       "  } else {\n",
       "    var attempts = 0;\n",
       "    var timer = setInterval(function(root) {\n",
       "      if (root.Bokeh !== undefined) {\n",
       "        clearInterval(timer);\n",
       "        embed_document(root);\n",
       "      } else {\n",
       "        attempts++;\n",
       "        if (attempts > 100) {\n",
       "          clearInterval(timer);\n",
       "          console.log(\"Bokeh: ERROR: Unable to run BokehJS code because BokehJS library is missing\");\n",
       "        }\n",
       "      }\n",
       "    }, 10, root)\n",
       "  }\n",
       "})(window);"
      ],
      "application/vnd.bokehjs_exec.v0+json": ""
     },
     "metadata": {
      "application/vnd.bokehjs_exec.v0+json": {
       "id": "1002"
      }
     },
     "output_type": "display_data"
    }
   ],
   "source": [
    "# create a new plot by calling the Bokeh figure method\n",
    "plot = figure(title='Population Density of Germany',\n",
    "             x_axis_label='Year',\n",
    "             y_axis_label='Population Density')\n",
    "plot.line(years, de_vals, line_width=2, legend_label='Germany')\n",
    "show(plot)"
   ]
  },
  {
   "cell_type": "code",
   "execution_count": 6,
   "id": "valid-boutique",
   "metadata": {},
   "outputs": [],
   "source": [
    "# Now add another country\n",
    "ch_vals = [dataset.loc[['Switzerland']][year] for year in years]"
   ]
  },
  {
   "cell_type": "code",
   "execution_count": 7,
   "id": "tight-rwanda",
   "metadata": {},
   "outputs": [
    {
     "data": {
      "text/html": [
       "\n",
       "\n",
       "\n",
       "\n",
       "\n",
       "\n",
       "  <div class=\"bk-root\" id=\"fd1e0e1b-98b3-414c-a096-225893e5c02d\" data-root-id=\"1104\"></div>\n"
      ]
     },
     "metadata": {},
     "output_type": "display_data"
    },
    {
     "data": {
      "application/javascript": [
       "(function(root) {\n",
       "  function embed_document(root) {\n",
       "    \n",
       "  var docs_json = {\"6ea61f61-5fef-42bd-a6e2-6a8e09ced657\":{\"roots\":{\"references\":[{\"attributes\":{\"below\":[{\"id\":\"1115\"}],\"center\":[{\"id\":\"1118\"},{\"id\":\"1122\"},{\"id\":\"1148\"}],\"left\":[{\"id\":\"1119\"}],\"renderers\":[{\"id\":\"1140\"},{\"id\":\"1153\"},{\"id\":\"1167\"}],\"title\":{\"id\":\"1105\"},\"toolbar\":{\"id\":\"1130\"},\"x_range\":{\"id\":\"1107\"},\"x_scale\":{\"id\":\"1111\"},\"y_range\":{\"id\":\"1109\"},\"y_scale\":{\"id\":\"1113\"}},\"id\":\"1104\",\"subtype\":\"Figure\",\"type\":\"Plot\"},{\"attributes\":{},\"id\":\"1116\",\"type\":\"BasicTicker\"},{\"attributes\":{\"data_source\":{\"id\":\"1137\"},\"glyph\":{\"id\":\"1138\"},\"hover_glyph\":null,\"muted_glyph\":null,\"nonselection_glyph\":{\"id\":\"1139\"},\"selection_glyph\":null,\"view\":{\"id\":\"1141\"}},\"id\":\"1140\",\"type\":\"GlyphRenderer\"},{\"attributes\":{\"axis_label\":\"Population Density\",\"formatter\":{\"id\":\"1143\"},\"ticker\":{\"id\":\"1120\"}},\"id\":\"1119\",\"type\":\"LinearAxis\"},{\"attributes\":{},\"id\":\"1143\",\"type\":\"BasicTickFormatter\"},{\"attributes\":{},\"id\":\"1120\",\"type\":\"BasicTicker\"},{\"attributes\":{\"source\":{\"id\":\"1137\"}},\"id\":\"1141\",\"type\":\"CDSView\"},{\"attributes\":{\"axis\":{\"id\":\"1119\"},\"dimension\":1,\"ticker\":null},\"id\":\"1122\",\"type\":\"Grid\"},{\"attributes\":{\"label\":{\"value\":\"Switzerland\"},\"renderers\":[{\"id\":\"1153\"},{\"id\":\"1167\"}]},\"id\":\"1163\",\"type\":\"LegendItem\"},{\"attributes\":{\"data_source\":{\"id\":\"1150\"},\"glyph\":{\"id\":\"1151\"},\"hover_glyph\":null,\"muted_glyph\":null,\"nonselection_glyph\":{\"id\":\"1152\"},\"selection_glyph\":null,\"view\":{\"id\":\"1154\"}},\"id\":\"1153\",\"type\":\"GlyphRenderer\"},{\"attributes\":{},\"id\":\"1145\",\"type\":\"BasicTickFormatter\"},{\"attributes\":{},\"id\":\"1162\",\"type\":\"UnionRenderers\"},{\"attributes\":{\"data\":{\"x\":[\"1960\",\"1961\",\"1962\",\"1963\",\"1964\",\"1965\",\"1966\",\"1967\",\"1968\",\"1969\",\"1970\",\"1971\",\"1972\",\"1973\",\"1974\",\"1975\",\"1976\",\"1977\",\"1978\",\"1979\",\"1980\",\"1981\",\"1982\",\"1983\",\"1984\",\"1985\",\"1986\",\"1987\",\"1988\",\"1989\",\"1990\",\"1991\",\"1992\",\"1993\",\"1994\",\"1995\",\"1996\",\"1997\",\"1998\",\"1999\",\"2000\",\"2001\",\"2002\",\"2003\",\"2004\",\"2005\",\"2006\",\"2007\",\"2008\",\"2009\",\"2010\",\"2011\",\"2012\",\"2013\",\"2014\",\"2015\",\"2016\"],\"y\":[[\"NaN\"],[137.479609390812],[141.009284557782],[144.056036227484],[146.458915199352],[148.160089050799],[149.716707144303],[151.583308034811],[153.504199554746],[155.24152499494],[156.36705626391398],[157.189814814815],[158.392936652499],[159.566560412872],[160.42817749443398],[160.358024691358],[159.444039668083],[158.904422181745],[158.918690548472],[159.238134992916],[159.871685893544],[160.74868447682698],[161.690674964582],[162.385473588342],[162.96554428394302],[163.686533937109],[164.540565154697],[165.577322978067],[166.798704748413],[168.152799210706],[169.888411039996],[172.02504490374199],[173.932151078955],[175.523413190316],[176.928204609274],[178.11447291861697],[178.90735681036202],[179.34338553393903],[179.88162222334702],[180.746135357369],[181.76930472624198],[182.9277635807],[184.321466524973],[185.698767743731],[186.984438259109],[188.195632370059],[189.385176000202],[191.090115396295],[193.53363194655302],[195.966975402369],[198.01875189796502],[200.23276647433997],[202.370204474137],[204.71064885109797],[207.223630934305],[209.711914161352],[\"NaN\"]]},\"selected\":{\"id\":\"1197\"},\"selection_policy\":{\"id\":\"1198\"}},\"id\":\"1164\",\"type\":\"ColumnDataSource\"},{\"attributes\":{},\"id\":\"1161\",\"type\":\"Selection\"},{\"attributes\":{\"items\":[{\"id\":\"1149\"},{\"id\":\"1163\"}]},\"id\":\"1148\",\"type\":\"Legend\"},{\"attributes\":{\"line_alpha\":0.1,\"line_color\":\"#1f77b4\",\"line_width\":2,\"x\":{\"field\":\"x\"},\"y\":{\"field\":\"y\"}},\"id\":\"1139\",\"type\":\"Line\"},{\"attributes\":{\"label\":{\"value\":\"Germany\"},\"renderers\":[{\"id\":\"1140\"}]},\"id\":\"1149\",\"type\":\"LegendItem\"},{\"attributes\":{},\"id\":\"1177\",\"type\":\"Selection\"},{\"attributes\":{\"line_color\":\"orange\",\"line_width\":2,\"x\":{\"field\":\"x\"},\"y\":{\"field\":\"y\"}},\"id\":\"1151\",\"type\":\"Line\"},{\"attributes\":{\"fill_alpha\":{\"value\":0.1},\"fill_color\":{\"value\":\"white\"},\"line_alpha\":{\"value\":0.1},\"line_color\":{\"value\":\"orange\"},\"x\":{\"field\":\"x\"},\"y\":{\"field\":\"y\"}},\"id\":\"1166\",\"type\":\"Circle\"},{\"attributes\":{\"data_source\":{\"id\":\"1164\"},\"glyph\":{\"id\":\"1165\"},\"hover_glyph\":null,\"muted_glyph\":null,\"nonselection_glyph\":{\"id\":\"1166\"},\"selection_glyph\":null,\"view\":{\"id\":\"1168\"}},\"id\":\"1167\",\"type\":\"GlyphRenderer\"},{\"attributes\":{\"text\":\"Population Density of Germany and Switzerland\"},\"id\":\"1105\",\"type\":\"Title\"},{\"attributes\":{\"data\":{\"x\":[\"1960\",\"1961\",\"1962\",\"1963\",\"1964\",\"1965\",\"1966\",\"1967\",\"1968\",\"1969\",\"1970\",\"1971\",\"1972\",\"1973\",\"1974\",\"1975\",\"1976\",\"1977\",\"1978\",\"1979\",\"1980\",\"1981\",\"1982\",\"1983\",\"1984\",\"1985\",\"1986\",\"1987\",\"1988\",\"1989\",\"1990\",\"1991\",\"1992\",\"1993\",\"1994\",\"1995\",\"1996\",\"1997\",\"1998\",\"1999\",\"2000\",\"2001\",\"2002\",\"2003\",\"2004\",\"2005\",\"2006\",\"2007\",\"2008\",\"2009\",\"2010\",\"2011\",\"2012\",\"2013\",\"2014\",\"2015\",\"2016\"],\"y\":[[\"NaN\"],[210.172806690917],[212.02928422077701],[214.00152665196302],[215.731495431501],[217.579970211669],[219.40340560822602],[220.40883338584499],[221.391212442357],[223.15378798728298],[223.897370606937],[224.308544095323],[225.384389768854],[226.095339844757],[226.183464612036],[225.341717984705],[224.377595737977],[223.870231718844],[223.675479047919],[223.774382035345],[224.239039899178],[224.580835218973],[224.367330220835],[223.77991579067998],[223.00771918769502],[222.50987597742997],[222.61173774811698],[222.953971300089],[223.826709248704],[225.564354251998],[227.517053819494],[229.18080944061],[230.930020336264],[232.45979319431703],[233.27417719343498],[233.96749069034698],[234.65247070955897],[235.022979515829],[235.07877772047402],[235.25773110206902],[235.596813297034],[236.027300085985],[236.45157083070598],[236.61642728132801],[236.592195429653],[236.464680582636],[236.225197866483],[235.94336191814602],[235.522178240542],[234.93963741717099],[234.60690822503398],[234.673149529493],[230.750625466231],[235.647997360418],[232.347793653526],[233.583362024445],[\"NaN\"]]},\"selected\":{\"id\":\"1161\"},\"selection_policy\":{\"id\":\"1162\"}},\"id\":\"1137\",\"type\":\"ColumnDataSource\"},{\"attributes\":{\"fill_color\":{\"value\":\"white\"},\"line_color\":{\"value\":\"orange\"},\"x\":{\"field\":\"x\"},\"y\":{\"field\":\"y\"}},\"id\":\"1165\",\"type\":\"Circle\"},{\"attributes\":{},\"id\":\"1109\",\"type\":\"DataRange1d\"},{\"attributes\":{\"data\":{\"x\":[\"1960\",\"1961\",\"1962\",\"1963\",\"1964\",\"1965\",\"1966\",\"1967\",\"1968\",\"1969\",\"1970\",\"1971\",\"1972\",\"1973\",\"1974\",\"1975\",\"1976\",\"1977\",\"1978\",\"1979\",\"1980\",\"1981\",\"1982\",\"1983\",\"1984\",\"1985\",\"1986\",\"1987\",\"1988\",\"1989\",\"1990\",\"1991\",\"1992\",\"1993\",\"1994\",\"1995\",\"1996\",\"1997\",\"1998\",\"1999\",\"2000\",\"2001\",\"2002\",\"2003\",\"2004\",\"2005\",\"2006\",\"2007\",\"2008\",\"2009\",\"2010\",\"2011\",\"2012\",\"2013\",\"2014\",\"2015\",\"2016\"],\"y\":[[\"NaN\"],[137.479609390812],[141.009284557782],[144.056036227484],[146.458915199352],[148.160089050799],[149.716707144303],[151.583308034811],[153.504199554746],[155.24152499494],[156.36705626391398],[157.189814814815],[158.392936652499],[159.566560412872],[160.42817749443398],[160.358024691358],[159.444039668083],[158.904422181745],[158.918690548472],[159.238134992916],[159.871685893544],[160.74868447682698],[161.690674964582],[162.385473588342],[162.96554428394302],[163.686533937109],[164.540565154697],[165.577322978067],[166.798704748413],[168.152799210706],[169.888411039996],[172.02504490374199],[173.932151078955],[175.523413190316],[176.928204609274],[178.11447291861697],[178.90735681036202],[179.34338553393903],[179.88162222334702],[180.746135357369],[181.76930472624198],[182.9277635807],[184.321466524973],[185.698767743731],[186.984438259109],[188.195632370059],[189.385176000202],[191.090115396295],[193.53363194655302],[195.966975402369],[198.01875189796502],[200.23276647433997],[202.370204474137],[204.71064885109797],[207.223630934305],[209.711914161352],[\"NaN\"]]},\"selected\":{\"id\":\"1177\"},\"selection_policy\":{\"id\":\"1178\"}},\"id\":\"1150\",\"type\":\"ColumnDataSource\"},{\"attributes\":{\"line_color\":\"#1f77b4\",\"line_width\":2,\"x\":{\"field\":\"x\"},\"y\":{\"field\":\"y\"}},\"id\":\"1138\",\"type\":\"Line\"},{\"attributes\":{},\"id\":\"1123\",\"type\":\"PanTool\"},{\"attributes\":{\"source\":{\"id\":\"1164\"}},\"id\":\"1168\",\"type\":\"CDSView\"},{\"attributes\":{\"bottom_units\":\"screen\",\"fill_alpha\":0.5,\"fill_color\":\"lightgrey\",\"left_units\":\"screen\",\"level\":\"overlay\",\"line_alpha\":1.0,\"line_color\":\"black\",\"line_dash\":[4,4],\"line_width\":2,\"render_mode\":\"css\",\"right_units\":\"screen\",\"top_units\":\"screen\"},\"id\":\"1129\",\"type\":\"BoxAnnotation\"},{\"attributes\":{},\"id\":\"1107\",\"type\":\"DataRange1d\"},{\"attributes\":{},\"id\":\"1124\",\"type\":\"WheelZoomTool\"},{\"attributes\":{},\"id\":\"1178\",\"type\":\"UnionRenderers\"},{\"attributes\":{\"overlay\":{\"id\":\"1129\"}},\"id\":\"1125\",\"type\":\"BoxZoomTool\"},{\"attributes\":{},\"id\":\"1126\",\"type\":\"SaveTool\"},{\"attributes\":{},\"id\":\"1197\",\"type\":\"Selection\"},{\"attributes\":{\"active_drag\":\"auto\",\"active_inspect\":\"auto\",\"active_multi\":null,\"active_scroll\":\"auto\",\"active_tap\":\"auto\",\"tools\":[{\"id\":\"1123\"},{\"id\":\"1124\"},{\"id\":\"1125\"},{\"id\":\"1126\"},{\"id\":\"1127\"},{\"id\":\"1128\"}]},\"id\":\"1130\",\"type\":\"Toolbar\"},{\"attributes\":{},\"id\":\"1128\",\"type\":\"HelpTool\"},{\"attributes\":{\"axis_label\":\"Year\",\"formatter\":{\"id\":\"1145\"},\"ticker\":{\"id\":\"1116\"}},\"id\":\"1115\",\"type\":\"LinearAxis\"},{\"attributes\":{\"line_alpha\":0.1,\"line_color\":\"orange\",\"line_width\":2,\"x\":{\"field\":\"x\"},\"y\":{\"field\":\"y\"}},\"id\":\"1152\",\"type\":\"Line\"},{\"attributes\":{},\"id\":\"1198\",\"type\":\"UnionRenderers\"},{\"attributes\":{\"axis\":{\"id\":\"1115\"},\"ticker\":null},\"id\":\"1118\",\"type\":\"Grid\"},{\"attributes\":{},\"id\":\"1127\",\"type\":\"ResetTool\"},{\"attributes\":{},\"id\":\"1111\",\"type\":\"LinearScale\"},{\"attributes\":{},\"id\":\"1113\",\"type\":\"LinearScale\"},{\"attributes\":{\"source\":{\"id\":\"1150\"}},\"id\":\"1154\",\"type\":\"CDSView\"}],\"root_ids\":[\"1104\"]},\"title\":\"Bokeh Application\",\"version\":\"2.0.2\"}};\n",
       "  var render_items = [{\"docid\":\"6ea61f61-5fef-42bd-a6e2-6a8e09ced657\",\"root_ids\":[\"1104\"],\"roots\":{\"1104\":\"fd1e0e1b-98b3-414c-a096-225893e5c02d\"}}];\n",
       "  root.Bokeh.embed.embed_items_notebook(docs_json, render_items);\n",
       "\n",
       "  }\n",
       "  if (root.Bokeh !== undefined) {\n",
       "    embed_document(root);\n",
       "  } else {\n",
       "    var attempts = 0;\n",
       "    var timer = setInterval(function(root) {\n",
       "      if (root.Bokeh !== undefined) {\n",
       "        clearInterval(timer);\n",
       "        embed_document(root);\n",
       "      } else {\n",
       "        attempts++;\n",
       "        if (attempts > 100) {\n",
       "          clearInterval(timer);\n",
       "          console.log(\"Bokeh: ERROR: Unable to run BokehJS code because BokehJS library is missing\");\n",
       "        }\n",
       "      }\n",
       "    }, 10, root)\n",
       "  }\n",
       "})(window);"
      ],
      "application/vnd.bokehjs_exec.v0+json": ""
     },
     "metadata": {
      "application/vnd.bokehjs_exec.v0+json": {
       "id": "1104"
      }
     },
     "output_type": "display_data"
    }
   ],
   "source": [
    "# Add an orange line to the plot that displays the data from Switzerland\n",
    "plot = figure(title='Population Density of Germany and Switzerland',\n",
    "             x_axis_label='Year',\n",
    "             y_axis_label='Population Density')\n",
    "plot.line(years,\n",
    "          de_vals,\n",
    "          line_width=2,\n",
    "          legend_label='Germany')\n",
    "plot.line(years, ch_vals, line_width=2, color='orange', legend_label='Switzerland')\n",
    "plot.circle(years,\n",
    "            ch_vals,\n",
    "            size=4,\n",
    "            line_color='orange',\n",
    "            fill_color='white',\n",
    "            legend_label='Switzerland')\n",
    "show(plot)"
   ]
  },
  {
   "cell_type": "code",
   "execution_count": 8,
   "id": "municipal-request",
   "metadata": {},
   "outputs": [
    {
     "data": {
      "text/html": [
       "\n",
       "\n",
       "\n",
       "\n",
       "\n",
       "\n",
       "  <div class=\"bk-root\" id=\"b6a9cfcb-e90c-47d2-b852-76780d513254\" data-root-id=\"1366\"></div>\n"
      ]
     },
     "metadata": {},
     "output_type": "display_data"
    },
    {
     "data": {
      "application/javascript": [
       "(function(root) {\n",
       "  function embed_document(root) {\n",
       "    \n",
       "  var docs_json = {\"035e3928-15d8-4f5e-8a0d-dc726a48722f\":{\"roots\":{\"references\":[{\"attributes\":{\"children\":[{\"id\":\"1365\"},{\"id\":\"1363\"}]},\"id\":\"1366\",\"type\":\"Column\"},{\"attributes\":{\"axis\":{\"id\":\"1282\"},\"ticker\":null},\"id\":\"1285\",\"type\":\"Grid\"},{\"attributes\":{\"toolbars\":[{\"id\":\"1297\"},{\"id\":\"1328\"}],\"tools\":[{\"id\":\"1290\"},{\"id\":\"1291\"},{\"id\":\"1292\"},{\"id\":\"1293\"},{\"id\":\"1294\"},{\"id\":\"1295\"},{\"id\":\"1321\"},{\"id\":\"1322\"},{\"id\":\"1323\"},{\"id\":\"1324\"},{\"id\":\"1325\"},{\"id\":\"1326\"}]},\"id\":\"1364\",\"type\":\"ProxyToolbar\"},{\"attributes\":{\"active_drag\":\"auto\",\"active_inspect\":\"auto\",\"active_multi\":null,\"active_scroll\":\"auto\",\"active_tap\":\"auto\",\"tools\":[{\"id\":\"1290\"},{\"id\":\"1291\"},{\"id\":\"1292\"},{\"id\":\"1293\"},{\"id\":\"1294\"},{\"id\":\"1295\"}]},\"id\":\"1297\",\"type\":\"Toolbar\"},{\"attributes\":{},\"id\":\"1280\",\"type\":\"LinearScale\"},{\"attributes\":{\"below\":[{\"id\":\"1282\"}],\"center\":[{\"id\":\"1285\"},{\"id\":\"1289\"}],\"left\":[{\"id\":\"1286\"}],\"plot_height\":300,\"renderers\":[{\"id\":\"1338\"}],\"title\":{\"id\":\"1272\"},\"toolbar\":{\"id\":\"1297\"},\"toolbar_location\":null,\"x_range\":{\"id\":\"1274\"},\"x_scale\":{\"id\":\"1278\"},\"y_range\":{\"id\":\"1276\"},\"y_scale\":{\"id\":\"1280\"}},\"id\":\"1271\",\"subtype\":\"Figure\",\"type\":\"Plot\"},{\"attributes\":{},\"id\":\"1283\",\"type\":\"BasicTicker\"},{\"attributes\":{\"source\":{\"id\":\"1340\"}},\"id\":\"1344\",\"type\":\"CDSView\"},{\"attributes\":{\"children\":[[{\"id\":\"1271\"},0,0],[{\"id\":\"1304\"},0,1]]},\"id\":\"1363\",\"type\":\"GridBox\"},{\"attributes\":{},\"id\":\"1293\",\"type\":\"SaveTool\"},{\"attributes\":{},\"id\":\"1318\",\"type\":\"BasicTicker\"},{\"attributes\":{},\"id\":\"1351\",\"type\":\"Selection\"},{\"attributes\":{\"overlay\":{\"id\":\"1296\"}},\"id\":\"1292\",\"type\":\"BoxZoomTool\"},{\"attributes\":{},\"id\":\"1274\",\"type\":\"DataRange1d\"},{\"attributes\":{\"toolbar\":{\"id\":\"1364\"},\"toolbar_location\":\"above\"},\"id\":\"1365\",\"type\":\"ToolbarBox\"},{\"attributes\":{},\"id\":\"1291\",\"type\":\"WheelZoomTool\"},{\"attributes\":{\"axis_label\":\"Population Density\",\"formatter\":{\"id\":\"1355\"},\"ticker\":{\"id\":\"1318\"}},\"id\":\"1317\",\"type\":\"LinearAxis\"},{\"attributes\":{},\"id\":\"1355\",\"type\":\"BasicTickFormatter\"},{\"attributes\":{\"axis_label\":\"Population Density\",\"formatter\":{\"id\":\"1346\"},\"ticker\":{\"id\":\"1287\"}},\"id\":\"1286\",\"type\":\"LinearAxis\"},{\"attributes\":{},\"id\":\"1295\",\"type\":\"HelpTool\"},{\"attributes\":{\"axis\":{\"id\":\"1317\"},\"dimension\":1,\"ticker\":null},\"id\":\"1320\",\"type\":\"Grid\"},{\"attributes\":{},\"id\":\"1287\",\"type\":\"BasicTicker\"},{\"attributes\":{\"axis\":{\"id\":\"1286\"},\"dimension\":1,\"ticker\":null},\"id\":\"1289\",\"type\":\"Grid\"},{\"attributes\":{},\"id\":\"1348\",\"type\":\"BasicTickFormatter\"},{\"attributes\":{},\"id\":\"1361\",\"type\":\"UnionRenderers\"},{\"attributes\":{},\"id\":\"1294\",\"type\":\"ResetTool\"},{\"attributes\":{\"text\":\"Population Density of Germany\"},\"id\":\"1272\",\"type\":\"Title\"},{\"attributes\":{\"bottom_units\":\"screen\",\"fill_alpha\":0.5,\"fill_color\":\"lightgrey\",\"left_units\":\"screen\",\"level\":\"overlay\",\"line_alpha\":1.0,\"line_color\":\"black\",\"line_dash\":[4,4],\"line_width\":2,\"render_mode\":\"css\",\"right_units\":\"screen\",\"top_units\":\"screen\"},\"id\":\"1327\",\"type\":\"BoxAnnotation\"},{\"attributes\":{},\"id\":\"1352\",\"type\":\"UnionRenderers\"},{\"attributes\":{},\"id\":\"1346\",\"type\":\"BasicTickFormatter\"},{\"attributes\":{\"source\":{\"id\":\"1335\"}},\"id\":\"1339\",\"type\":\"CDSView\"},{\"attributes\":{\"line_alpha\":0.1,\"line_color\":\"#1f77b4\",\"line_width\":2,\"x\":{\"field\":\"x\"},\"y\":{\"field\":\"y\"}},\"id\":\"1337\",\"type\":\"Line\"},{\"attributes\":{\"line_color\":\"#1f77b4\",\"line_width\":2,\"x\":{\"field\":\"x\"},\"y\":{\"field\":\"y\"}},\"id\":\"1341\",\"type\":\"Line\"},{\"attributes\":{\"data\":{\"x\":[\"1960\",\"1961\",\"1962\",\"1963\",\"1964\",\"1965\",\"1966\",\"1967\",\"1968\",\"1969\",\"1970\",\"1971\",\"1972\",\"1973\",\"1974\",\"1975\",\"1976\",\"1977\",\"1978\",\"1979\",\"1980\",\"1981\",\"1982\",\"1983\",\"1984\",\"1985\",\"1986\",\"1987\",\"1988\",\"1989\",\"1990\",\"1991\",\"1992\",\"1993\",\"1994\",\"1995\",\"1996\",\"1997\",\"1998\",\"1999\",\"2000\",\"2001\",\"2002\",\"2003\",\"2004\",\"2005\",\"2006\",\"2007\",\"2008\",\"2009\",\"2010\",\"2011\",\"2012\",\"2013\",\"2014\",\"2015\",\"2016\"],\"y\":[[\"NaN\"],[137.479609390812],[141.009284557782],[144.056036227484],[146.458915199352],[148.160089050799],[149.716707144303],[151.583308034811],[153.504199554746],[155.24152499494],[156.36705626391398],[157.189814814815],[158.392936652499],[159.566560412872],[160.42817749443398],[160.358024691358],[159.444039668083],[158.904422181745],[158.918690548472],[159.238134992916],[159.871685893544],[160.74868447682698],[161.690674964582],[162.385473588342],[162.96554428394302],[163.686533937109],[164.540565154697],[165.577322978067],[166.798704748413],[168.152799210706],[169.888411039996],[172.02504490374199],[173.932151078955],[175.523413190316],[176.928204609274],[178.11447291861697],[178.90735681036202],[179.34338553393903],[179.88162222334702],[180.746135357369],[181.76930472624198],[182.9277635807],[184.321466524973],[185.698767743731],[186.984438259109],[188.195632370059],[189.385176000202],[191.090115396295],[193.53363194655302],[195.966975402369],[198.01875189796502],[200.23276647433997],[202.370204474137],[204.71064885109797],[207.223630934305],[209.711914161352],[\"NaN\"]]},\"selected\":{\"id\":\"1360\"},\"selection_policy\":{\"id\":\"1361\"}},\"id\":\"1340\",\"type\":\"ColumnDataSource\"},{\"attributes\":{\"data_source\":{\"id\":\"1335\"},\"glyph\":{\"id\":\"1336\"},\"hover_glyph\":null,\"muted_glyph\":null,\"nonselection_glyph\":{\"id\":\"1337\"},\"selection_glyph\":null,\"view\":{\"id\":\"1339\"}},\"id\":\"1338\",\"type\":\"GlyphRenderer\"},{\"attributes\":{},\"id\":\"1311\",\"type\":\"LinearScale\"},{\"attributes\":{\"line_color\":\"#1f77b4\",\"line_width\":2,\"x\":{\"field\":\"x\"},\"y\":{\"field\":\"y\"}},\"id\":\"1336\",\"type\":\"Line\"},{\"attributes\":{},\"id\":\"1360\",\"type\":\"Selection\"},{\"attributes\":{\"below\":[{\"id\":\"1313\"}],\"center\":[{\"id\":\"1316\"},{\"id\":\"1320\"}],\"left\":[{\"id\":\"1317\"}],\"plot_height\":300,\"renderers\":[{\"id\":\"1343\"}],\"title\":{\"id\":\"1305\"},\"toolbar\":{\"id\":\"1328\"},\"toolbar_location\":null,\"x_range\":{\"id\":\"1274\"},\"x_scale\":{\"id\":\"1309\"},\"y_range\":{\"id\":\"1276\"},\"y_scale\":{\"id\":\"1311\"}},\"id\":\"1304\",\"subtype\":\"Figure\",\"type\":\"Plot\"},{\"attributes\":{},\"id\":\"1276\",\"type\":\"DataRange1d\"},{\"attributes\":{},\"id\":\"1309\",\"type\":\"LinearScale\"},{\"attributes\":{\"text\":\"Population Density of Switzerland\"},\"id\":\"1305\",\"type\":\"Title\"},{\"attributes\":{\"data\":{\"x\":[\"1960\",\"1961\",\"1962\",\"1963\",\"1964\",\"1965\",\"1966\",\"1967\",\"1968\",\"1969\",\"1970\",\"1971\",\"1972\",\"1973\",\"1974\",\"1975\",\"1976\",\"1977\",\"1978\",\"1979\",\"1980\",\"1981\",\"1982\",\"1983\",\"1984\",\"1985\",\"1986\",\"1987\",\"1988\",\"1989\",\"1990\",\"1991\",\"1992\",\"1993\",\"1994\",\"1995\",\"1996\",\"1997\",\"1998\",\"1999\",\"2000\",\"2001\",\"2002\",\"2003\",\"2004\",\"2005\",\"2006\",\"2007\",\"2008\",\"2009\",\"2010\",\"2011\",\"2012\",\"2013\",\"2014\",\"2015\",\"2016\"],\"y\":[[\"NaN\"],[210.172806690917],[212.02928422077701],[214.00152665196302],[215.731495431501],[217.579970211669],[219.40340560822602],[220.40883338584499],[221.391212442357],[223.15378798728298],[223.897370606937],[224.308544095323],[225.384389768854],[226.095339844757],[226.183464612036],[225.341717984705],[224.377595737977],[223.870231718844],[223.675479047919],[223.774382035345],[224.239039899178],[224.580835218973],[224.367330220835],[223.77991579067998],[223.00771918769502],[222.50987597742997],[222.61173774811698],[222.953971300089],[223.826709248704],[225.564354251998],[227.517053819494],[229.18080944061],[230.930020336264],[232.45979319431703],[233.27417719343498],[233.96749069034698],[234.65247070955897],[235.022979515829],[235.07877772047402],[235.25773110206902],[235.596813297034],[236.027300085985],[236.45157083070598],[236.61642728132801],[236.592195429653],[236.464680582636],[236.225197866483],[235.94336191814602],[235.522178240542],[234.93963741717099],[234.60690822503398],[234.673149529493],[230.750625466231],[235.647997360418],[232.347793653526],[233.583362024445],[\"NaN\"]]},\"selected\":{\"id\":\"1351\"},\"selection_policy\":{\"id\":\"1352\"}},\"id\":\"1335\",\"type\":\"ColumnDataSource\"},{\"attributes\":{\"line_alpha\":0.1,\"line_color\":\"#1f77b4\",\"line_width\":2,\"x\":{\"field\":\"x\"},\"y\":{\"field\":\"y\"}},\"id\":\"1342\",\"type\":\"Line\"},{\"attributes\":{},\"id\":\"1278\",\"type\":\"LinearScale\"},{\"attributes\":{\"axis_label\":\"Year\",\"formatter\":{\"id\":\"1357\"},\"ticker\":{\"id\":\"1314\"}},\"id\":\"1313\",\"type\":\"LinearAxis\"},{\"attributes\":{},\"id\":\"1357\",\"type\":\"BasicTickFormatter\"},{\"attributes\":{},\"id\":\"1321\",\"type\":\"PanTool\"},{\"attributes\":{},\"id\":\"1322\",\"type\":\"WheelZoomTool\"},{\"attributes\":{\"overlay\":{\"id\":\"1327\"}},\"id\":\"1323\",\"type\":\"BoxZoomTool\"},{\"attributes\":{\"axis_label\":\"Year\",\"formatter\":{\"id\":\"1348\"},\"ticker\":{\"id\":\"1283\"}},\"id\":\"1282\",\"type\":\"LinearAxis\"},{\"attributes\":{\"data_source\":{\"id\":\"1340\"},\"glyph\":{\"id\":\"1341\"},\"hover_glyph\":null,\"muted_glyph\":null,\"nonselection_glyph\":{\"id\":\"1342\"},\"selection_glyph\":null,\"view\":{\"id\":\"1344\"}},\"id\":\"1343\",\"type\":\"GlyphRenderer\"},{\"attributes\":{},\"id\":\"1324\",\"type\":\"SaveTool\"},{\"attributes\":{\"axis\":{\"id\":\"1313\"},\"ticker\":null},\"id\":\"1316\",\"type\":\"Grid\"},{\"attributes\":{},\"id\":\"1326\",\"type\":\"HelpTool\"},{\"attributes\":{},\"id\":\"1314\",\"type\":\"BasicTicker\"},{\"attributes\":{},\"id\":\"1325\",\"type\":\"ResetTool\"},{\"attributes\":{\"bottom_units\":\"screen\",\"fill_alpha\":0.5,\"fill_color\":\"lightgrey\",\"left_units\":\"screen\",\"level\":\"overlay\",\"line_alpha\":1.0,\"line_color\":\"black\",\"line_dash\":[4,4],\"line_width\":2,\"render_mode\":\"css\",\"right_units\":\"screen\",\"top_units\":\"screen\"},\"id\":\"1296\",\"type\":\"BoxAnnotation\"},{\"attributes\":{\"active_drag\":\"auto\",\"active_inspect\":\"auto\",\"active_multi\":null,\"active_scroll\":\"auto\",\"active_tap\":\"auto\",\"tools\":[{\"id\":\"1321\"},{\"id\":\"1322\"},{\"id\":\"1323\"},{\"id\":\"1324\"},{\"id\":\"1325\"},{\"id\":\"1326\"}]},\"id\":\"1328\",\"type\":\"Toolbar\"},{\"attributes\":{},\"id\":\"1290\",\"type\":\"PanTool\"}],\"root_ids\":[\"1366\"]},\"title\":\"Bokeh Application\",\"version\":\"2.0.2\"}};\n",
       "  var render_items = [{\"docid\":\"035e3928-15d8-4f5e-8a0d-dc726a48722f\",\"root_ids\":[\"1366\"],\"roots\":{\"1366\":\"b6a9cfcb-e90c-47d2-b852-76780d513254\"}}];\n",
       "  root.Bokeh.embed.embed_items_notebook(docs_json, render_items);\n",
       "\n",
       "  }\n",
       "  if (root.Bokeh !== undefined) {\n",
       "    embed_document(root);\n",
       "  } else {\n",
       "    var attempts = 0;\n",
       "    var timer = setInterval(function(root) {\n",
       "      if (root.Bokeh !== undefined) {\n",
       "        clearInterval(timer);\n",
       "        embed_document(root);\n",
       "      } else {\n",
       "        attempts++;\n",
       "        if (attempts > 100) {\n",
       "          clearInterval(timer);\n",
       "          console.log(\"Bokeh: ERROR: Unable to run BokehJS code because BokehJS library is missing\");\n",
       "        }\n",
       "      }\n",
       "    }, 10, root)\n",
       "  }\n",
       "})(window);"
      ],
      "application/vnd.bokehjs_exec.v0+json": ""
     },
     "metadata": {
      "application/vnd.bokehjs_exec.v0+json": {
       "id": "1366"
      }
     },
     "output_type": "display_data"
    }
   ],
   "source": [
    "# plot data separately\n",
    "from bokeh.layouts import gridplot\n",
    "\n",
    "plot_de = figure(title='Population Density of Germany',\n",
    "                x_axis_label='Year',\n",
    "                y_axis_label='Population Density',\n",
    "                plot_height=300)\n",
    "plot_ch = figure(title='Population Density of Switzerland',\n",
    "                x_axis_label='Year',\n",
    "                y_axis_label='Population Density',\n",
    "                plot_height=300,\n",
    "                x_range=plot_de.x_range,\n",
    "                y_range=plot_de.y_range)\n",
    "plot_de.line(years, de_vals, line_width=2)\n",
    "plot_ch.line(years, ch_vals, line_width=2)\n",
    "plot = gridplot([[plot_de, plot_ch]])\n",
    "show(plot)"
   ]
  },
  {
   "cell_type": "code",
   "execution_count": 9,
   "id": "swedish-constitution",
   "metadata": {},
   "outputs": [
    {
     "data": {
      "text/html": [
       "\n",
       "\n",
       "\n",
       "\n",
       "\n",
       "\n",
       "  <div class=\"bk-root\" id=\"8cd8dfc0-95e0-4947-bd89-a240bf862fb2\" data-root-id=\"1520\"></div>\n"
      ]
     },
     "metadata": {},
     "output_type": "display_data"
    },
    {
     "data": {
      "application/javascript": [
       "(function(root) {\n",
       "  function embed_document(root) {\n",
       "    \n",
       "  var docs_json = {\"5d56027b-8a7b-4c01-9906-3ed245706041\":{\"roots\":{\"references\":[{\"attributes\":{\"children\":[{\"id\":\"1519\"},{\"id\":\"1517\"}]},\"id\":\"1520\",\"type\":\"Column\"},{\"attributes\":{\"axis\":{\"id\":\"1282\"},\"ticker\":null},\"id\":\"1285\",\"type\":\"Grid\"},{\"attributes\":{\"active_drag\":\"auto\",\"active_inspect\":\"auto\",\"active_multi\":null,\"active_scroll\":\"auto\",\"active_tap\":\"auto\",\"tools\":[{\"id\":\"1290\"},{\"id\":\"1291\"},{\"id\":\"1292\"},{\"id\":\"1293\"},{\"id\":\"1294\"},{\"id\":\"1295\"}]},\"id\":\"1297\",\"type\":\"Toolbar\"},{\"attributes\":{},\"id\":\"1280\",\"type\":\"LinearScale\"},{\"attributes\":{\"below\":[{\"id\":\"1282\"}],\"center\":[{\"id\":\"1285\"},{\"id\":\"1289\"}],\"left\":[{\"id\":\"1286\"}],\"plot_height\":300,\"renderers\":[{\"id\":\"1338\"}],\"title\":{\"id\":\"1272\"},\"toolbar\":{\"id\":\"1297\"},\"toolbar_location\":null,\"x_range\":{\"id\":\"1274\"},\"x_scale\":{\"id\":\"1278\"},\"y_range\":{\"id\":\"1276\"},\"y_scale\":{\"id\":\"1280\"}},\"id\":\"1271\",\"subtype\":\"Figure\",\"type\":\"Plot\"},{\"attributes\":{},\"id\":\"1283\",\"type\":\"BasicTicker\"},{\"attributes\":{\"source\":{\"id\":\"1340\"}},\"id\":\"1344\",\"type\":\"CDSView\"},{\"attributes\":{},\"id\":\"1293\",\"type\":\"SaveTool\"},{\"attributes\":{},\"id\":\"1318\",\"type\":\"BasicTicker\"},{\"attributes\":{},\"id\":\"1351\",\"type\":\"Selection\"},{\"attributes\":{\"overlay\":{\"id\":\"1296\"}},\"id\":\"1292\",\"type\":\"BoxZoomTool\"},{\"attributes\":{},\"id\":\"1274\",\"type\":\"DataRange1d\"},{\"attributes\":{},\"id\":\"1291\",\"type\":\"WheelZoomTool\"},{\"attributes\":{\"axis_label\":\"Population Density\",\"formatter\":{\"id\":\"1355\"},\"ticker\":{\"id\":\"1318\"}},\"id\":\"1317\",\"type\":\"LinearAxis\"},{\"attributes\":{},\"id\":\"1355\",\"type\":\"BasicTickFormatter\"},{\"attributes\":{\"toolbar\":{\"id\":\"1518\"},\"toolbar_location\":\"above\"},\"id\":\"1519\",\"type\":\"ToolbarBox\"},{\"attributes\":{\"axis_label\":\"Population Density\",\"formatter\":{\"id\":\"1346\"},\"ticker\":{\"id\":\"1287\"}},\"id\":\"1286\",\"type\":\"LinearAxis\"},{\"attributes\":{},\"id\":\"1295\",\"type\":\"HelpTool\"},{\"attributes\":{\"axis\":{\"id\":\"1317\"},\"dimension\":1,\"ticker\":null},\"id\":\"1320\",\"type\":\"Grid\"},{\"attributes\":{},\"id\":\"1287\",\"type\":\"BasicTicker\"},{\"attributes\":{},\"id\":\"1361\",\"type\":\"UnionRenderers\"},{\"attributes\":{\"axis\":{\"id\":\"1286\"},\"dimension\":1,\"ticker\":null},\"id\":\"1289\",\"type\":\"Grid\"},{\"attributes\":{},\"id\":\"1348\",\"type\":\"BasicTickFormatter\"},{\"attributes\":{},\"id\":\"1294\",\"type\":\"ResetTool\"},{\"attributes\":{\"text\":\"Population Density of Germany\"},\"id\":\"1272\",\"type\":\"Title\"},{\"attributes\":{\"bottom_units\":\"screen\",\"fill_alpha\":0.5,\"fill_color\":\"lightgrey\",\"left_units\":\"screen\",\"level\":\"overlay\",\"line_alpha\":1.0,\"line_color\":\"black\",\"line_dash\":[4,4],\"line_width\":2,\"render_mode\":\"css\",\"right_units\":\"screen\",\"top_units\":\"screen\"},\"id\":\"1327\",\"type\":\"BoxAnnotation\"},{\"attributes\":{},\"id\":\"1352\",\"type\":\"UnionRenderers\"},{\"attributes\":{},\"id\":\"1346\",\"type\":\"BasicTickFormatter\"},{\"attributes\":{\"source\":{\"id\":\"1335\"}},\"id\":\"1339\",\"type\":\"CDSView\"},{\"attributes\":{\"line_alpha\":0.1,\"line_color\":\"#1f77b4\",\"line_width\":2,\"x\":{\"field\":\"x\"},\"y\":{\"field\":\"y\"}},\"id\":\"1337\",\"type\":\"Line\"},{\"attributes\":{\"line_color\":\"#1f77b4\",\"line_width\":2,\"x\":{\"field\":\"x\"},\"y\":{\"field\":\"y\"}},\"id\":\"1341\",\"type\":\"Line\"},{\"attributes\":{\"toolbars\":[{\"id\":\"1297\"},{\"id\":\"1328\"}],\"tools\":[{\"id\":\"1290\"},{\"id\":\"1291\"},{\"id\":\"1292\"},{\"id\":\"1293\"},{\"id\":\"1294\"},{\"id\":\"1295\"},{\"id\":\"1321\"},{\"id\":\"1322\"},{\"id\":\"1323\"},{\"id\":\"1324\"},{\"id\":\"1325\"},{\"id\":\"1326\"}]},\"id\":\"1518\",\"type\":\"ProxyToolbar\"},{\"attributes\":{\"data\":{\"x\":[\"1960\",\"1961\",\"1962\",\"1963\",\"1964\",\"1965\",\"1966\",\"1967\",\"1968\",\"1969\",\"1970\",\"1971\",\"1972\",\"1973\",\"1974\",\"1975\",\"1976\",\"1977\",\"1978\",\"1979\",\"1980\",\"1981\",\"1982\",\"1983\",\"1984\",\"1985\",\"1986\",\"1987\",\"1988\",\"1989\",\"1990\",\"1991\",\"1992\",\"1993\",\"1994\",\"1995\",\"1996\",\"1997\",\"1998\",\"1999\",\"2000\",\"2001\",\"2002\",\"2003\",\"2004\",\"2005\",\"2006\",\"2007\",\"2008\",\"2009\",\"2010\",\"2011\",\"2012\",\"2013\",\"2014\",\"2015\",\"2016\"],\"y\":[[\"NaN\"],[137.479609390812],[141.009284557782],[144.056036227484],[146.458915199352],[148.160089050799],[149.716707144303],[151.583308034811],[153.504199554746],[155.24152499494],[156.36705626391398],[157.189814814815],[158.392936652499],[159.566560412872],[160.42817749443398],[160.358024691358],[159.444039668083],[158.904422181745],[158.918690548472],[159.238134992916],[159.871685893544],[160.74868447682698],[161.690674964582],[162.385473588342],[162.96554428394302],[163.686533937109],[164.540565154697],[165.577322978067],[166.798704748413],[168.152799210706],[169.888411039996],[172.02504490374199],[173.932151078955],[175.523413190316],[176.928204609274],[178.11447291861697],[178.90735681036202],[179.34338553393903],[179.88162222334702],[180.746135357369],[181.76930472624198],[182.9277635807],[184.321466524973],[185.698767743731],[186.984438259109],[188.195632370059],[189.385176000202],[191.090115396295],[193.53363194655302],[195.966975402369],[198.01875189796502],[200.23276647433997],[202.370204474137],[204.71064885109797],[207.223630934305],[209.711914161352],[\"NaN\"]]},\"selected\":{\"id\":\"1360\"},\"selection_policy\":{\"id\":\"1361\"}},\"id\":\"1340\",\"type\":\"ColumnDataSource\"},{\"attributes\":{\"data_source\":{\"id\":\"1335\"},\"glyph\":{\"id\":\"1336\"},\"hover_glyph\":null,\"muted_glyph\":null,\"nonselection_glyph\":{\"id\":\"1337\"},\"selection_glyph\":null,\"view\":{\"id\":\"1339\"}},\"id\":\"1338\",\"type\":\"GlyphRenderer\"},{\"attributes\":{},\"id\":\"1311\",\"type\":\"LinearScale\"},{\"attributes\":{\"line_color\":\"#1f77b4\",\"line_width\":2,\"x\":{\"field\":\"x\"},\"y\":{\"field\":\"y\"}},\"id\":\"1336\",\"type\":\"Line\"},{\"attributes\":{},\"id\":\"1360\",\"type\":\"Selection\"},{\"attributes\":{\"below\":[{\"id\":\"1313\"}],\"center\":[{\"id\":\"1316\"},{\"id\":\"1320\"}],\"left\":[{\"id\":\"1317\"}],\"plot_height\":300,\"renderers\":[{\"id\":\"1343\"}],\"title\":{\"id\":\"1305\"},\"toolbar\":{\"id\":\"1328\"},\"toolbar_location\":null,\"x_range\":{\"id\":\"1274\"},\"x_scale\":{\"id\":\"1309\"},\"y_range\":{\"id\":\"1276\"},\"y_scale\":{\"id\":\"1311\"}},\"id\":\"1304\",\"subtype\":\"Figure\",\"type\":\"Plot\"},{\"attributes\":{},\"id\":\"1276\",\"type\":\"DataRange1d\"},{\"attributes\":{},\"id\":\"1309\",\"type\":\"LinearScale\"},{\"attributes\":{\"text\":\"Population Density of Switzerland\"},\"id\":\"1305\",\"type\":\"Title\"},{\"attributes\":{\"data\":{\"x\":[\"1960\",\"1961\",\"1962\",\"1963\",\"1964\",\"1965\",\"1966\",\"1967\",\"1968\",\"1969\",\"1970\",\"1971\",\"1972\",\"1973\",\"1974\",\"1975\",\"1976\",\"1977\",\"1978\",\"1979\",\"1980\",\"1981\",\"1982\",\"1983\",\"1984\",\"1985\",\"1986\",\"1987\",\"1988\",\"1989\",\"1990\",\"1991\",\"1992\",\"1993\",\"1994\",\"1995\",\"1996\",\"1997\",\"1998\",\"1999\",\"2000\",\"2001\",\"2002\",\"2003\",\"2004\",\"2005\",\"2006\",\"2007\",\"2008\",\"2009\",\"2010\",\"2011\",\"2012\",\"2013\",\"2014\",\"2015\",\"2016\"],\"y\":[[\"NaN\"],[210.172806690917],[212.02928422077701],[214.00152665196302],[215.731495431501],[217.579970211669],[219.40340560822602],[220.40883338584499],[221.391212442357],[223.15378798728298],[223.897370606937],[224.308544095323],[225.384389768854],[226.095339844757],[226.183464612036],[225.341717984705],[224.377595737977],[223.870231718844],[223.675479047919],[223.774382035345],[224.239039899178],[224.580835218973],[224.367330220835],[223.77991579067998],[223.00771918769502],[222.50987597742997],[222.61173774811698],[222.953971300089],[223.826709248704],[225.564354251998],[227.517053819494],[229.18080944061],[230.930020336264],[232.45979319431703],[233.27417719343498],[233.96749069034698],[234.65247070955897],[235.022979515829],[235.07877772047402],[235.25773110206902],[235.596813297034],[236.027300085985],[236.45157083070598],[236.61642728132801],[236.592195429653],[236.464680582636],[236.225197866483],[235.94336191814602],[235.522178240542],[234.93963741717099],[234.60690822503398],[234.673149529493],[230.750625466231],[235.647997360418],[232.347793653526],[233.583362024445],[\"NaN\"]]},\"selected\":{\"id\":\"1351\"},\"selection_policy\":{\"id\":\"1352\"}},\"id\":\"1335\",\"type\":\"ColumnDataSource\"},{\"attributes\":{\"line_alpha\":0.1,\"line_color\":\"#1f77b4\",\"line_width\":2,\"x\":{\"field\":\"x\"},\"y\":{\"field\":\"y\"}},\"id\":\"1342\",\"type\":\"Line\"},{\"attributes\":{},\"id\":\"1278\",\"type\":\"LinearScale\"},{\"attributes\":{\"axis_label\":\"Year\",\"formatter\":{\"id\":\"1357\"},\"ticker\":{\"id\":\"1314\"}},\"id\":\"1313\",\"type\":\"LinearAxis\"},{\"attributes\":{},\"id\":\"1357\",\"type\":\"BasicTickFormatter\"},{\"attributes\":{},\"id\":\"1321\",\"type\":\"PanTool\"},{\"attributes\":{},\"id\":\"1322\",\"type\":\"WheelZoomTool\"},{\"attributes\":{\"overlay\":{\"id\":\"1327\"}},\"id\":\"1323\",\"type\":\"BoxZoomTool\"},{\"attributes\":{\"axis_label\":\"Year\",\"formatter\":{\"id\":\"1348\"},\"ticker\":{\"id\":\"1283\"}},\"id\":\"1282\",\"type\":\"LinearAxis\"},{\"attributes\":{\"data_source\":{\"id\":\"1340\"},\"glyph\":{\"id\":\"1341\"},\"hover_glyph\":null,\"muted_glyph\":null,\"nonselection_glyph\":{\"id\":\"1342\"},\"selection_glyph\":null,\"view\":{\"id\":\"1344\"}},\"id\":\"1343\",\"type\":\"GlyphRenderer\"},{\"attributes\":{\"children\":[[{\"id\":\"1271\"},0,0],[{\"id\":\"1304\"},1,0]]},\"id\":\"1517\",\"type\":\"GridBox\"},{\"attributes\":{},\"id\":\"1324\",\"type\":\"SaveTool\"},{\"attributes\":{\"axis\":{\"id\":\"1313\"},\"ticker\":null},\"id\":\"1316\",\"type\":\"Grid\"},{\"attributes\":{},\"id\":\"1326\",\"type\":\"HelpTool\"},{\"attributes\":{},\"id\":\"1314\",\"type\":\"BasicTicker\"},{\"attributes\":{},\"id\":\"1325\",\"type\":\"ResetTool\"},{\"attributes\":{\"bottom_units\":\"screen\",\"fill_alpha\":0.5,\"fill_color\":\"lightgrey\",\"left_units\":\"screen\",\"level\":\"overlay\",\"line_alpha\":1.0,\"line_color\":\"black\",\"line_dash\":[4,4],\"line_width\":2,\"render_mode\":\"css\",\"right_units\":\"screen\",\"top_units\":\"screen\"},\"id\":\"1296\",\"type\":\"BoxAnnotation\"},{\"attributes\":{\"active_drag\":\"auto\",\"active_inspect\":\"auto\",\"active_multi\":null,\"active_scroll\":\"auto\",\"active_tap\":\"auto\",\"tools\":[{\"id\":\"1321\"},{\"id\":\"1322\"},{\"id\":\"1323\"},{\"id\":\"1324\"},{\"id\":\"1325\"},{\"id\":\"1326\"}]},\"id\":\"1328\",\"type\":\"Toolbar\"},{\"attributes\":{},\"id\":\"1290\",\"type\":\"PanTool\"}],\"root_ids\":[\"1520\"]},\"title\":\"Bokeh Application\",\"version\":\"2.0.2\"}};\n",
       "  var render_items = [{\"docid\":\"5d56027b-8a7b-4c01-9906-3ed245706041\",\"root_ids\":[\"1520\"],\"roots\":{\"1520\":\"8cd8dfc0-95e0-4947-bd89-a240bf862fb2\"}}];\n",
       "  root.Bokeh.embed.embed_items_notebook(docs_json, render_items);\n",
       "\n",
       "  }\n",
       "  if (root.Bokeh !== undefined) {\n",
       "    embed_document(root);\n",
       "  } else {\n",
       "    var attempts = 0;\n",
       "    var timer = setInterval(function(root) {\n",
       "      if (root.Bokeh !== undefined) {\n",
       "        clearInterval(timer);\n",
       "        embed_document(root);\n",
       "      } else {\n",
       "        attempts++;\n",
       "        if (attempts > 100) {\n",
       "          clearInterval(timer);\n",
       "          console.log(\"Bokeh: ERROR: Unable to run BokehJS code because BokehJS library is missing\");\n",
       "        }\n",
       "      }\n",
       "    }, 10, root)\n",
       "  }\n",
       "})(window);"
      ],
      "application/vnd.bokehjs_exec.v0+json": ""
     },
     "metadata": {
      "application/vnd.bokehjs_exec.v0+json": {
       "id": "1520"
      }
     },
     "output_type": "display_data"
    }
   ],
   "source": [
    "# Realign the plots vertically\n",
    "plot_v = gridplot([[plot_de], [plot_ch]])\n",
    "show(plot_v)"
   ]
  },
  {
   "cell_type": "markdown",
   "id": "smaller-ministry",
   "metadata": {},
   "source": [
    "# Comparing the Plotting and Models Interfaces"
   ]
  },
  {
   "cell_type": "code",
   "execution_count": 10,
   "id": "fixed-diana",
   "metadata": {},
   "outputs": [],
   "source": [
    "# import packages\n",
    "import numpy as np"
   ]
  },
  {
   "cell_type": "code",
   "execution_count": 11,
   "id": "latin-clinic",
   "metadata": {},
   "outputs": [],
   "source": [
    "# Create three lists that have years present in the dataset,\n",
    "# the mean population density for the whole dataset for each year,\n",
    "# and the mean population density per year for Japan\n",
    "\n",
    "years = [year for year in dataset.columns if not year[0].isalpha()]\n",
    "mean_pop_vals = [np.mean(dataset[year]) for year in years]\n",
    "jp_vals = [dataset.loc[['Japan']][year] for year in years]"
   ]
  },
  {
   "cell_type": "code",
   "execution_count": 12,
   "id": "smooth-expansion",
   "metadata": {},
   "outputs": [
    {
     "data": {
      "text/html": [
       "\n",
       "\n",
       "\n",
       "\n",
       "\n",
       "\n",
       "  <div class=\"bk-root\" id=\"9c66f137-f763-4625-8588-762567b61538\" data-root-id=\"1669\"></div>\n"
      ]
     },
     "metadata": {},
     "output_type": "display_data"
    },
    {
     "data": {
      "application/javascript": [
       "(function(root) {\n",
       "  function embed_document(root) {\n",
       "    \n",
       "  var docs_json = {\"0d21a098-c531-44f9-89df-c03a925f3fd0\":{\"roots\":{\"references\":[{\"attributes\":{\"below\":[{\"id\":\"1680\"}],\"center\":[{\"id\":\"1683\"},{\"id\":\"1687\"},{\"id\":\"1713\"}],\"left\":[{\"id\":\"1684\"}],\"renderers\":[{\"id\":\"1705\"},{\"id\":\"1718\"}],\"title\":{\"id\":\"1670\"},\"toolbar\":{\"id\":\"1695\"},\"x_range\":{\"id\":\"1672\"},\"x_scale\":{\"id\":\"1676\"},\"y_range\":{\"id\":\"1674\"},\"y_scale\":{\"id\":\"1678\"}},\"id\":\"1669\",\"subtype\":\"Figure\",\"type\":\"Plot\"},{\"attributes\":{\"line_alpha\":0.1,\"line_color\":\"#1f77b4\",\"line_width\":2,\"x\":{\"field\":\"x\"},\"y\":{\"field\":\"y\"}},\"id\":\"1704\",\"type\":\"Line\"},{\"attributes\":{},\"id\":\"1790\",\"type\":\"UnionRenderers\"},{\"attributes\":{\"data_source\":{\"id\":\"1715\"},\"glyph\":{\"id\":\"1716\"},\"hover_glyph\":null,\"muted_glyph\":null,\"nonselection_glyph\":{\"id\":\"1717\"},\"selection_glyph\":null,\"view\":{\"id\":\"1719\"}},\"id\":\"1718\",\"type\":\"GlyphRenderer\"},{\"attributes\":{\"text\":\"Global Mean Population Density compared to Japan\"},\"id\":\"1670\",\"type\":\"Title\"},{\"attributes\":{\"source\":{\"id\":\"1702\"}},\"id\":\"1706\",\"type\":\"CDSView\"},{\"attributes\":{\"data_source\":{\"id\":\"1702\"},\"glyph\":{\"id\":\"1703\"},\"hover_glyph\":null,\"muted_glyph\":null,\"nonselection_glyph\":{\"id\":\"1704\"},\"selection_glyph\":null,\"view\":{\"id\":\"1706\"}},\"id\":\"1705\",\"type\":\"GlyphRenderer\"},{\"attributes\":{\"data\":{\"x\":[\"1960\",\"1961\",\"1962\",\"1963\",\"1964\",\"1965\",\"1966\",\"1967\",\"1968\",\"1969\",\"1970\",\"1971\",\"1972\",\"1973\",\"1974\",\"1975\",\"1976\",\"1977\",\"1978\",\"1979\",\"1980\",\"1981\",\"1982\",\"1983\",\"1984\",\"1985\",\"1986\",\"1987\",\"1988\",\"1989\",\"1990\",\"1991\",\"1992\",\"1993\",\"1994\",\"1995\",\"1996\",\"1997\",\"1998\",\"1999\",\"2000\",\"2001\",\"2002\",\"2003\",\"2004\",\"2005\",\"2006\",\"2007\",\"2008\",\"2009\",\"2010\",\"2011\",\"2012\",\"2013\",\"2014\",\"2015\",\"2016\"],\"y\":[[\"NaN\"],[258.911917098446],[261.336242159804],[264.008726479411],[266.77392964276004],[269.656394873193],[272.129806381238],[274.679574584129],[275.59585492227995],[281.352604308699],[284.55140441778],[288.238341968912],[292.384069830878],[294.81451172940496],[300.496453900709],[305.429740791269],[307.697135061392],[310.761462882096],[313.586244541485],[316.239082969432],[318.81517881517897],[321.091703056769],[323.454396504642],[325.666302566903],[329.086920756786],[331.19583104772397],[333.128598848369],[334.862863411958],[336.294569391114],[337.674163466813],[338.828853538124],[339.882062534284],[340.726823916621],[341.568842567197],[342.734503565551],[344.04552934723],[345.012345679012],[345.835390946502],[346.776406035665],[347.410150891632],[347.99176954732496],[348.831275720165],[349.643347050754],[350.39231824417],[350.51028806584395],[350.54320987654296],[350.765432098765],[351.168724279835],[351.338820301783],[351.29492455418404],[351.30983404196996],[350.611778743948],[349.90533519859594],[349.294000987492],[348.726684222076],[348.25123985077903],[\"NaN\"]]},\"selected\":{\"id\":\"1789\"},\"selection_policy\":{\"id\":\"1790\"}},\"id\":\"1715\",\"type\":\"ColumnDataSource\"},{\"attributes\":{},\"id\":\"1674\",\"type\":\"DataRange1d\"},{\"attributes\":{\"line_color\":\"#1f77b4\",\"line_width\":2,\"x\":{\"field\":\"x\"},\"y\":{\"field\":\"y\"}},\"id\":\"1703\",\"type\":\"Line\"},{\"attributes\":{},\"id\":\"1710\",\"type\":\"BasicTickFormatter\"},{\"attributes\":{\"fill_color\":{\"value\":\"#1f77b4\"},\"line_color\":{\"value\":\"red\"},\"x\":{\"field\":\"x\"},\"y\":{\"field\":\"y\"}},\"id\":\"1716\",\"type\":\"Cross\"},{\"attributes\":{},\"id\":\"1726\",\"type\":\"Selection\"},{\"attributes\":{},\"id\":\"1672\",\"type\":\"DataRange1d\"},{\"attributes\":{\"items\":[{\"id\":\"1714\"},{\"id\":\"1728\"}],\"location\":\"bottom_right\"},\"id\":\"1713\",\"type\":\"Legend\"},{\"attributes\":{},\"id\":\"1688\",\"type\":\"PanTool\"},{\"attributes\":{\"label\":{\"value\":\"Global Mean\"},\"renderers\":[{\"id\":\"1705\"}]},\"id\":\"1714\",\"type\":\"LegendItem\"},{\"attributes\":{},\"id\":\"1689\",\"type\":\"WheelZoomTool\"},{\"attributes\":{\"axis_label\":\"Year\",\"formatter\":{\"id\":\"1710\"},\"ticker\":{\"id\":\"1681\"}},\"id\":\"1680\",\"type\":\"LinearAxis\"},{\"attributes\":{\"overlay\":{\"id\":\"1694\"}},\"id\":\"1690\",\"type\":\"BoxZoomTool\"},{\"attributes\":{},\"id\":\"1691\",\"type\":\"SaveTool\"},{\"attributes\":{},\"id\":\"1676\",\"type\":\"LinearScale\"},{\"attributes\":{\"active_drag\":\"auto\",\"active_inspect\":\"auto\",\"active_multi\":null,\"active_scroll\":\"auto\",\"active_tap\":\"auto\",\"tools\":[{\"id\":\"1688\"},{\"id\":\"1689\"},{\"id\":\"1690\"},{\"id\":\"1691\"},{\"id\":\"1692\"},{\"id\":\"1693\"}]},\"id\":\"1695\",\"type\":\"Toolbar\"},{\"attributes\":{},\"id\":\"1693\",\"type\":\"HelpTool\"},{\"attributes\":{\"bottom_units\":\"screen\",\"fill_alpha\":0.5,\"fill_color\":\"lightgrey\",\"left_units\":\"screen\",\"level\":\"overlay\",\"line_alpha\":1.0,\"line_color\":\"black\",\"line_dash\":[4,4],\"line_width\":2,\"render_mode\":\"css\",\"right_units\":\"screen\",\"top_units\":\"screen\"},\"id\":\"1694\",\"type\":\"BoxAnnotation\"},{\"attributes\":{},\"id\":\"1678\",\"type\":\"LinearScale\"},{\"attributes\":{\"axis\":{\"id\":\"1680\"},\"ticker\":null},\"id\":\"1683\",\"type\":\"Grid\"},{\"attributes\":{},\"id\":\"1692\",\"type\":\"ResetTool\"},{\"attributes\":{\"source\":{\"id\":\"1715\"}},\"id\":\"1719\",\"type\":\"CDSView\"},{\"attributes\":{},\"id\":\"1681\",\"type\":\"BasicTicker\"},{\"attributes\":{\"data\":{\"x\":[\"1960\",\"1961\",\"1962\",\"1963\",\"1964\",\"1965\",\"1966\",\"1967\",\"1968\",\"1969\",\"1970\",\"1971\",\"1972\",\"1973\",\"1974\",\"1975\",\"1976\",\"1977\",\"1978\",\"1979\",\"1980\",\"1981\",\"1982\",\"1983\",\"1984\",\"1985\",\"1986\",\"1987\",\"1988\",\"1989\",\"1990\",\"1991\",\"1992\",\"1993\",\"1994\",\"1995\",\"1996\",\"1997\",\"1998\",\"1999\",\"2000\",\"2001\",\"2002\",\"2003\",\"2004\",\"2005\",\"2006\",\"2007\",\"2008\",\"2009\",\"2010\",\"2011\",\"2012\",\"2013\",\"2014\",\"2015\",\"2016\"],\"y\":[\"NaN\",176.91514132840538,180.70323050794593,184.57241256109344,188.46179693657592,192.41236330666325,196.1450416961425,200.11806255626678,203.87946438971804,207.33610181304104,210.60787064082177,213.48969393068052,215.99847537207978,218.43870788704376,220.62121004259265,223.04637519433024,224.96025763925198,227.00673421731884,229.1873062407636,232.51077226706067,236.18535672882632,240.78950804386412,246.17517809033163,251.3423894719884,256.6478215554073,261.6807506547611,266.6470381207154,271.7683000551185,276.8132590801086,281.8500544091742,286.0623871161408,288.2925657814559,293.30541582390026,297.7591598237129,302.2754632081671,304.53727599332007,309.71494823309297,313.8969349401545,320.40598102076814,324.0046693079564,327.27075970951086,312.25956971997635,313.2690425735656,315.8476133540732,317.7465585486514,322.6695344714618,326.9079713506048,331.99547408201454,338.68841727220155,343.6492057765068,347.96702857044494,351.94202734671825,357.78730527189884,360.98572564595446,364.8491936638938,368.7066010400187,\"NaN\"]},\"selected\":{\"id\":\"1726\"},\"selection_policy\":{\"id\":\"1727\"}},\"id\":\"1702\",\"type\":\"ColumnDataSource\"},{\"attributes\":{\"fill_alpha\":{\"value\":0.1},\"fill_color\":{\"value\":\"#1f77b4\"},\"line_alpha\":{\"value\":0.1},\"line_color\":{\"value\":\"red\"},\"x\":{\"field\":\"x\"},\"y\":{\"field\":\"y\"}},\"id\":\"1717\",\"type\":\"Cross\"},{\"attributes\":{},\"id\":\"1789\",\"type\":\"Selection\"},{\"attributes\":{},\"id\":\"1727\",\"type\":\"UnionRenderers\"},{\"attributes\":{\"label\":{\"value\":\"Japan\"},\"renderers\":[{\"id\":\"1718\"}]},\"id\":\"1728\",\"type\":\"LegendItem\"},{\"attributes\":{\"axis_label\":\"Population Density\",\"formatter\":{\"id\":\"1708\"},\"ticker\":{\"id\":\"1685\"}},\"id\":\"1684\",\"type\":\"LinearAxis\"},{\"attributes\":{},\"id\":\"1708\",\"type\":\"BasicTickFormatter\"},{\"attributes\":{},\"id\":\"1685\",\"type\":\"BasicTicker\"},{\"attributes\":{\"axis\":{\"id\":\"1684\"},\"dimension\":1,\"ticker\":null},\"id\":\"1687\",\"type\":\"Grid\"}],\"root_ids\":[\"1669\"]},\"title\":\"Bokeh Application\",\"version\":\"2.0.2\"}};\n",
       "  var render_items = [{\"docid\":\"0d21a098-c531-44f9-89df-c03a925f3fd0\",\"root_ids\":[\"1669\"],\"roots\":{\"1669\":\"9c66f137-f763-4625-8588-762567b61538\"}}];\n",
       "  root.Bokeh.embed.embed_items_notebook(docs_json, render_items);\n",
       "\n",
       "  }\n",
       "  if (root.Bokeh !== undefined) {\n",
       "    embed_document(root);\n",
       "  } else {\n",
       "    var attempts = 0;\n",
       "    var timer = setInterval(function(root) {\n",
       "      if (root.Bokeh !== undefined) {\n",
       "        clearInterval(timer);\n",
       "        embed_document(root);\n",
       "      } else {\n",
       "        attempts++;\n",
       "        if (attempts > 100) {\n",
       "          clearInterval(timer);\n",
       "          console.log(\"Bokeh: ERROR: Unable to run BokehJS code because BokehJS library is missing\");\n",
       "        }\n",
       "      }\n",
       "    }, 10, root)\n",
       "  }\n",
       "})(window);"
      ],
      "application/vnd.bokehjs_exec.v0+json": ""
     },
     "metadata": {
      "application/vnd.bokehjs_exec.v0+json": {
       "id": "1669"
      }
     },
     "output_type": "display_data"
    }
   ],
   "source": [
    "# Plot the global mean with a line and the mean of Japan with crosses\n",
    "plot = figure(title='Global Mean Population Density compared to Japan',\n",
    "             x_axis_label='Year',\n",
    "             y_axis_label='Population Density')\n",
    "plot.line(years, mean_pop_vals, line_width=2, legend_label='Global Mean')\n",
    "plot.cross(years, jp_vals, legend_label='Japan', line_color='red')\n",
    "plot.legend.location = 'bottom_right'\n",
    "show(plot)"
   ]
  },
  {
   "cell_type": "code",
   "execution_count": 13,
   "id": "handy-arrangement",
   "metadata": {},
   "outputs": [],
   "source": [
    "# import packages\n",
    "from bokeh.models.grids import Grid\n",
    "from bokeh.models.plots import Plot\n",
    "from bokeh.models.axes import LinearAxis\n",
    "from bokeh.models.ranges import Range1d\n",
    "from bokeh.models.glyphs import Line, Cross\n",
    "from bokeh.models.sources import ColumnDataSource\n",
    "from bokeh.models.tickers import SingleIntervalTicker, YearsTicker\n",
    "from bokeh.models.renderers import GlyphRenderer\n",
    "from bokeh.models.annotations import Title, Legend, LegendItem"
   ]
  },
  {
   "cell_type": "code",
   "execution_count": 14,
   "id": "fancy-praise",
   "metadata": {},
   "outputs": [],
   "source": [
    "# Get all the mean values for global and Japan without any invalid values\n",
    "extracted_mean_pop_vals = [val for i, val in enumerate(mean_pop_vals) if i not in [0, len(mean_pop_vals) - 1]]\n",
    "extracted_jp_vals = [jp_val['Japan'] for i, jp_val in enumerate(jp_vals) if i not in [0, len(jp_vals) - 1]]\n",
    "min_pop_density = min(extracted_mean_pop_vals)\n",
    "min_jp_densitiy = min(extracted_jp_vals)\n",
    "min_y = int(min(min_pop_density, min_jp_densitiy))\n",
    "max_pop_density = max(extracted_mean_pop_vals)\n",
    "max_jp_densitiy = max(extracted_jp_vals)\n",
    "max_y = int(max(max_jp_densitiy, max_pop_density))\n",
    "xdr = Range1d(int(years[0]), int(years[-1]))\n",
    "ydr = Range1d(min_y, max_y)"
   ]
  },
  {
   "cell_type": "code",
   "execution_count": 15,
   "id": "looking-replication",
   "metadata": {},
   "outputs": [],
   "source": [
    "# create two Axis objects\n",
    "axis_def = dict(axis_line_color='#222222',\n",
    "                axis_line_width=1,\n",
    "                major_tick_line_color='#222222',\n",
    "                major_label_text_color='#222222',\n",
    "                major_tick_line_width=1)\n",
    "x_axis = LinearAxis(ticker = SingleIntervalTicker(interval=10),\n",
    "                    axis_label = 'Year',\n",
    "                    **axis_def)\n",
    "y_axis = LinearAxis(ticker = SingleIntervalTicker(interval=50),\n",
    "                    axis_label = 'Population Density',\n",
    "                    **axis_def)"
   ]
  },
  {
   "cell_type": "code",
   "execution_count": 16,
   "id": "prepared-equivalent",
   "metadata": {},
   "outputs": [],
   "source": [
    "# Create the title\n",
    "title = Title(align = 'left',\n",
    "              text = 'Global Mean Population Density compared to Japan')\n",
    "\n",
    "plot = Plot(x_range=xdr,\n",
    "            y_range=ydr,\n",
    "            plot_width=650,\n",
    "            plot_height=600,\n",
    "            title=title)"
   ]
  },
  {
   "cell_type": "code",
   "execution_count": 17,
   "id": "detected-martial",
   "metadata": {},
   "outputs": [
    {
     "name": "stderr",
     "output_type": "stream",
     "text": [
      "WARNING:bokeh.core.validation.check:W-1000 (MISSING_RENDERERS): Plot has no renderers: Plot(id='1860', ...)\n"
     ]
    },
    {
     "data": {
      "text/html": [
       "\n",
       "\n",
       "\n",
       "\n",
       "\n",
       "\n",
       "  <div class=\"bk-root\" id=\"a9b163fe-4f96-42e4-b791-d5111bc53dd2\" data-root-id=\"1860\"></div>\n"
      ]
     },
     "metadata": {},
     "output_type": "display_data"
    },
    {
     "data": {
      "application/javascript": [
       "(function(root) {\n",
       "  function embed_document(root) {\n",
       "    \n",
       "  var docs_json = {\"c32b1625-6379-4d7b-a206-6cd1994401b4\":{\"roots\":{\"references\":[{\"attributes\":{\"plot_width\":650,\"title\":{\"id\":\"1859\"},\"toolbar\":{\"id\":\"1926\"},\"x_range\":{\"id\":\"1851\"},\"x_scale\":{\"id\":\"1928\"},\"y_range\":{\"id\":\"1852\"},\"y_scale\":{\"id\":\"1927\"}},\"id\":\"1860\",\"type\":\"Plot\"},{\"attributes\":{},\"id\":\"1928\",\"type\":\"LinearScale\"},{\"attributes\":{\"end\":2016,\"start\":1960},\"id\":\"1851\",\"type\":\"Range1d\"},{\"attributes\":{\"end\":368,\"start\":176},\"id\":\"1852\",\"type\":\"Range1d\"},{\"attributes\":{\"text\":\"Global Mean Population Density compared to Japan\"},\"id\":\"1859\",\"type\":\"Title\"},{\"attributes\":{},\"id\":\"1927\",\"type\":\"LinearScale\"},{\"attributes\":{\"active_drag\":\"auto\",\"active_inspect\":\"auto\",\"active_multi\":null,\"active_scroll\":\"auto\",\"active_tap\":\"auto\"},\"id\":\"1926\",\"type\":\"Toolbar\"}],\"root_ids\":[\"1860\"]},\"title\":\"Bokeh Application\",\"version\":\"2.0.2\"}};\n",
       "  var render_items = [{\"docid\":\"c32b1625-6379-4d7b-a206-6cd1994401b4\",\"root_ids\":[\"1860\"],\"roots\":{\"1860\":\"a9b163fe-4f96-42e4-b791-d5111bc53dd2\"}}];\n",
       "  root.Bokeh.embed.embed_items_notebook(docs_json, render_items);\n",
       "\n",
       "  }\n",
       "  if (root.Bokeh !== undefined) {\n",
       "    embed_document(root);\n",
       "  } else {\n",
       "    var attempts = 0;\n",
       "    var timer = setInterval(function(root) {\n",
       "      if (root.Bokeh !== undefined) {\n",
       "        clearInterval(timer);\n",
       "        embed_document(root);\n",
       "      } else {\n",
       "        attempts++;\n",
       "        if (attempts > 100) {\n",
       "          clearInterval(timer);\n",
       "          console.log(\"Bokeh: ERROR: Unable to run BokehJS code because BokehJS library is missing\");\n",
       "        }\n",
       "      }\n",
       "    }, 10, root)\n",
       "  }\n",
       "})(window);"
      ],
      "application/vnd.bokehjs_exec.v0+json": ""
     },
     "metadata": {
      "application/vnd.bokehjs_exec.v0+json": {
       "id": "1860"
      }
     },
     "output_type": "display_data"
    }
   ],
   "source": [
    "# display the plot\n",
    "show(plot)"
   ]
  },
  {
   "cell_type": "code",
   "execution_count": 18,
   "id": "indonesian-karaoke",
   "metadata": {},
   "outputs": [],
   "source": [
    "# Insert the data into a DataSource object\n",
    "line_source = ColumnDataSource(dict(x=years, y=mean_pop_vals))\n",
    "line_glyph = Line(x='x', y='y', line_color='#2678b2', line_width=2)\n",
    "cross_source = ColumnDataSource(dict(x=years, y=jp_vals))\n",
    "cross_glyph = Cross(x='x', y='y', line_color='#fc1d26')"
   ]
  },
  {
   "cell_type": "code",
   "execution_count": 19,
   "id": "atomic-communications",
   "metadata": {},
   "outputs": [
    {
     "data": {
      "text/html": [
       "\n",
       "\n",
       "\n",
       "\n",
       "\n",
       "\n",
       "  <div class=\"bk-root\" id=\"48fe28f0-bc5e-46da-8571-1d21d1c99a7e\" data-root-id=\"1860\"></div>\n"
      ]
     },
     "metadata": {},
     "output_type": "display_data"
    },
    {
     "data": {
      "application/javascript": [
       "(function(root) {\n",
       "  function embed_document(root) {\n",
       "    \n",
       "  var docs_json = {\"efc47622-a985-49f5-8c68-30a12976f485\":{\"roots\":{\"references\":[{\"attributes\":{\"below\":[{\"id\":\"1854\"}],\"left\":[{\"id\":\"1857\"}],\"plot_width\":650,\"renderers\":[{\"id\":\"2092\"},{\"id\":\"2163\"}],\"title\":{\"id\":\"1859\"},\"toolbar\":{\"id\":\"1926\"},\"x_range\":{\"id\":\"1851\"},\"x_scale\":{\"id\":\"1928\"},\"y_range\":{\"id\":\"1852\"},\"y_scale\":{\"id\":\"1927\"}},\"id\":\"1860\",\"type\":\"Plot\"},{\"attributes\":{},\"id\":\"2235\",\"type\":\"UnionRenderers\"},{\"attributes\":{\"line_color\":{\"value\":\"#fc1d26\"},\"x\":{\"field\":\"x\"},\"y\":{\"field\":\"y\"}},\"id\":\"1958\",\"type\":\"Cross\"},{\"attributes\":{\"data_source\":{\"id\":\"1957\"},\"glyph\":{\"id\":\"1958\"},\"hover_glyph\":null,\"muted_glyph\":null,\"view\":{\"id\":\"2164\"}},\"id\":\"2163\",\"type\":\"GlyphRenderer\"},{\"attributes\":{\"interval\":50},\"id\":\"1856\",\"type\":\"SingleIntervalTicker\"},{\"attributes\":{},\"id\":\"2234\",\"type\":\"Selection\"},{\"attributes\":{\"interval\":10},\"id\":\"1853\",\"type\":\"SingleIntervalTicker\"},{\"attributes\":{\"axis_label\":\"Year\",\"axis_line_color\":\"#222222\",\"formatter\":{\"id\":\"2024\"},\"major_label_text_color\":\"#222222\",\"major_tick_line_color\":\"#222222\",\"ticker\":{\"id\":\"1853\"}},\"id\":\"1854\",\"type\":\"LinearAxis\"},{\"attributes\":{\"source\":{\"id\":\"1955\"}},\"id\":\"2093\",\"type\":\"CDSView\"},{\"attributes\":{\"data\":{\"x\":[\"1960\",\"1961\",\"1962\",\"1963\",\"1964\",\"1965\",\"1966\",\"1967\",\"1968\",\"1969\",\"1970\",\"1971\",\"1972\",\"1973\",\"1974\",\"1975\",\"1976\",\"1977\",\"1978\",\"1979\",\"1980\",\"1981\",\"1982\",\"1983\",\"1984\",\"1985\",\"1986\",\"1987\",\"1988\",\"1989\",\"1990\",\"1991\",\"1992\",\"1993\",\"1994\",\"1995\",\"1996\",\"1997\",\"1998\",\"1999\",\"2000\",\"2001\",\"2002\",\"2003\",\"2004\",\"2005\",\"2006\",\"2007\",\"2008\",\"2009\",\"2010\",\"2011\",\"2012\",\"2013\",\"2014\",\"2015\",\"2016\"],\"y\":[[\"NaN\"],[258.911917098446],[261.336242159804],[264.008726479411],[266.77392964276004],[269.656394873193],[272.129806381238],[274.679574584129],[275.59585492227995],[281.352604308699],[284.55140441778],[288.238341968912],[292.384069830878],[294.81451172940496],[300.496453900709],[305.429740791269],[307.697135061392],[310.761462882096],[313.586244541485],[316.239082969432],[318.81517881517897],[321.091703056769],[323.454396504642],[325.666302566903],[329.086920756786],[331.19583104772397],[333.128598848369],[334.862863411958],[336.294569391114],[337.674163466813],[338.828853538124],[339.882062534284],[340.726823916621],[341.568842567197],[342.734503565551],[344.04552934723],[345.012345679012],[345.835390946502],[346.776406035665],[347.410150891632],[347.99176954732496],[348.831275720165],[349.643347050754],[350.39231824417],[350.51028806584395],[350.54320987654296],[350.765432098765],[351.168724279835],[351.338820301783],[351.29492455418404],[351.30983404196996],[350.611778743948],[349.90533519859594],[349.294000987492],[348.726684222076],[348.25123985077903],[\"NaN\"]]},\"selected\":{\"id\":\"2234\"},\"selection_policy\":{\"id\":\"2235\"}},\"id\":\"1957\",\"type\":\"ColumnDataSource\"},{\"attributes\":{},\"id\":\"2024\",\"type\":\"BasicTickFormatter\"},{\"attributes\":{\"axis_label\":\"Population Density\",\"axis_line_color\":\"#222222\",\"formatter\":{\"id\":\"2090\"},\"major_label_text_color\":\"#222222\",\"major_tick_line_color\":\"#222222\",\"ticker\":{\"id\":\"1856\"}},\"id\":\"1857\",\"type\":\"LinearAxis\"},{\"attributes\":{\"data_source\":{\"id\":\"1955\"},\"glyph\":{\"id\":\"1956\"},\"hover_glyph\":null,\"muted_glyph\":null,\"view\":{\"id\":\"2093\"}},\"id\":\"2092\",\"type\":\"GlyphRenderer\"},{\"attributes\":{},\"id\":\"1928\",\"type\":\"LinearScale\"},{\"attributes\":{},\"id\":\"2090\",\"type\":\"BasicTickFormatter\"},{\"attributes\":{\"text\":\"Global Mean Population Density compared to Japan\"},\"id\":\"1859\",\"type\":\"Title\"},{\"attributes\":{},\"id\":\"2161\",\"type\":\"Selection\"},{\"attributes\":{},\"id\":\"1927\",\"type\":\"LinearScale\"},{\"attributes\":{\"source\":{\"id\":\"1957\"}},\"id\":\"2164\",\"type\":\"CDSView\"},{\"attributes\":{\"end\":2016,\"start\":1960},\"id\":\"1851\",\"type\":\"Range1d\"},{\"attributes\":{},\"id\":\"2162\",\"type\":\"UnionRenderers\"},{\"attributes\":{\"end\":368,\"start\":176},\"id\":\"1852\",\"type\":\"Range1d\"},{\"attributes\":{\"data\":{\"x\":[\"1960\",\"1961\",\"1962\",\"1963\",\"1964\",\"1965\",\"1966\",\"1967\",\"1968\",\"1969\",\"1970\",\"1971\",\"1972\",\"1973\",\"1974\",\"1975\",\"1976\",\"1977\",\"1978\",\"1979\",\"1980\",\"1981\",\"1982\",\"1983\",\"1984\",\"1985\",\"1986\",\"1987\",\"1988\",\"1989\",\"1990\",\"1991\",\"1992\",\"1993\",\"1994\",\"1995\",\"1996\",\"1997\",\"1998\",\"1999\",\"2000\",\"2001\",\"2002\",\"2003\",\"2004\",\"2005\",\"2006\",\"2007\",\"2008\",\"2009\",\"2010\",\"2011\",\"2012\",\"2013\",\"2014\",\"2015\",\"2016\"],\"y\":[\"NaN\",176.91514132840538,180.70323050794593,184.57241256109344,188.46179693657592,192.41236330666325,196.1450416961425,200.11806255626678,203.87946438971804,207.33610181304104,210.60787064082177,213.48969393068052,215.99847537207978,218.43870788704376,220.62121004259265,223.04637519433024,224.96025763925198,227.00673421731884,229.1873062407636,232.51077226706067,236.18535672882632,240.78950804386412,246.17517809033163,251.3423894719884,256.6478215554073,261.6807506547611,266.6470381207154,271.7683000551185,276.8132590801086,281.8500544091742,286.0623871161408,288.2925657814559,293.30541582390026,297.7591598237129,302.2754632081671,304.53727599332007,309.71494823309297,313.8969349401545,320.40598102076814,324.0046693079564,327.27075970951086,312.25956971997635,313.2690425735656,315.8476133540732,317.7465585486514,322.6695344714618,326.9079713506048,331.99547408201454,338.68841727220155,343.6492057765068,347.96702857044494,351.94202734671825,357.78730527189884,360.98572564595446,364.8491936638938,368.7066010400187,\"NaN\"]},\"selected\":{\"id\":\"2161\"},\"selection_policy\":{\"id\":\"2162\"}},\"id\":\"1955\",\"type\":\"ColumnDataSource\"},{\"attributes\":{\"line_color\":\"#2678b2\",\"line_width\":2,\"x\":{\"field\":\"x\"},\"y\":{\"field\":\"y\"}},\"id\":\"1956\",\"type\":\"Line\"},{\"attributes\":{\"active_drag\":\"auto\",\"active_inspect\":\"auto\",\"active_multi\":null,\"active_scroll\":\"auto\",\"active_tap\":\"auto\"},\"id\":\"1926\",\"type\":\"Toolbar\"}],\"root_ids\":[\"1860\"]},\"title\":\"Bokeh Application\",\"version\":\"2.0.2\"}};\n",
       "  var render_items = [{\"docid\":\"efc47622-a985-49f5-8c68-30a12976f485\",\"root_ids\":[\"1860\"],\"roots\":{\"1860\":\"48fe28f0-bc5e-46da-8571-1d21d1c99a7e\"}}];\n",
       "  root.Bokeh.embed.embed_items_notebook(docs_json, render_items);\n",
       "\n",
       "  }\n",
       "  if (root.Bokeh !== undefined) {\n",
       "    embed_document(root);\n",
       "  } else {\n",
       "    var attempts = 0;\n",
       "    var timer = setInterval(function(root) {\n",
       "      if (root.Bokeh !== undefined) {\n",
       "        clearInterval(timer);\n",
       "        embed_document(root);\n",
       "      } else {\n",
       "        attempts++;\n",
       "        if (attempts > 100) {\n",
       "          clearInterval(timer);\n",
       "          console.log(\"Bokeh: ERROR: Unable to run BokehJS code because BokehJS library is missing\");\n",
       "        }\n",
       "      }\n",
       "    }, 10, root)\n",
       "  }\n",
       "})(window);"
      ],
      "application/vnd.bokehjs_exec.v0+json": ""
     },
     "metadata": {
      "application/vnd.bokehjs_exec.v0+json": {
       "id": "1860"
      }
     },
     "output_type": "display_data"
    }
   ],
   "source": [
    "# add objects to the plot\n",
    "plot.add_layout(x_axis, 'below')\n",
    "plot.add_layout(y_axis, 'left')\n",
    "line_renderer = plot.add_glyph(line_source, line_glyph)\n",
    "cross_renderer = plot.add_glyph(cross_source, cross_glyph)\n",
    "show(plot)"
   ]
  },
  {
   "cell_type": "code",
   "execution_count": 20,
   "id": "funky-vegetarian",
   "metadata": {},
   "outputs": [],
   "source": [
    "# add a legend to the plot\n",
    "legend_items= [LegendItem(label='Global Mean', renderers=[line_renderer]),\n",
    "               LegendItem(label='Japan', renderers=[cross_renderer])]\n",
    "legend = Legend(items=legend_items, location='bottom_right')"
   ]
  },
  {
   "cell_type": "code",
   "execution_count": 21,
   "id": "essential-anxiety",
   "metadata": {},
   "outputs": [],
   "source": [
    "# Create the grid\n",
    "x_grid = Grid(dimension=0, ticker=x_axis.ticker)\n",
    "y_grid = Grid(dimension=1, ticker=y_axis.ticker)"
   ]
  },
  {
   "cell_type": "code",
   "execution_count": 22,
   "id": "internal-radical",
   "metadata": {},
   "outputs": [
    {
     "data": {
      "text/html": [
       "\n",
       "\n",
       "\n",
       "\n",
       "\n",
       "\n",
       "  <div class=\"bk-root\" id=\"49db9f34-48b4-474b-822c-dfe60cbab591\" data-root-id=\"1860\"></div>\n"
      ]
     },
     "metadata": {},
     "output_type": "display_data"
    },
    {
     "data": {
      "application/javascript": [
       "(function(root) {\n",
       "  function embed_document(root) {\n",
       "    \n",
       "  var docs_json = {\"8580ae8b-c48d-4c2d-8bf2-65943e80ca1e\":{\"roots\":{\"references\":[{\"attributes\":{\"below\":[{\"id\":\"1854\"}],\"center\":[{\"id\":\"2300\"},{\"id\":\"2301\"},{\"id\":\"2302\"}],\"left\":[{\"id\":\"1857\"}],\"plot_width\":650,\"renderers\":[{\"id\":\"2092\"},{\"id\":\"2163\"}],\"title\":{\"id\":\"1859\"},\"toolbar\":{\"id\":\"1926\"},\"x_range\":{\"id\":\"1851\"},\"x_scale\":{\"id\":\"1928\"},\"y_range\":{\"id\":\"1852\"},\"y_scale\":{\"id\":\"1927\"}},\"id\":\"1860\",\"type\":\"Plot\"},{\"attributes\":{},\"id\":\"2235\",\"type\":\"UnionRenderers\"},{\"attributes\":{\"line_color\":{\"value\":\"#fc1d26\"},\"x\":{\"field\":\"x\"},\"y\":{\"field\":\"y\"}},\"id\":\"1958\",\"type\":\"Cross\"},{\"attributes\":{\"data_source\":{\"id\":\"1957\"},\"glyph\":{\"id\":\"1958\"},\"hover_glyph\":null,\"muted_glyph\":null,\"view\":{\"id\":\"2164\"}},\"id\":\"2163\",\"type\":\"GlyphRenderer\"},{\"attributes\":{\"axis\":null,\"ticker\":{\"id\":\"1853\"}},\"id\":\"2301\",\"type\":\"Grid\"},{\"attributes\":{\"axis\":null,\"dimension\":1,\"ticker\":{\"id\":\"1856\"}},\"id\":\"2302\",\"type\":\"Grid\"},{\"attributes\":{\"interval\":50},\"id\":\"1856\",\"type\":\"SingleIntervalTicker\"},{\"attributes\":{},\"id\":\"2234\",\"type\":\"Selection\"},{\"attributes\":{\"items\":[{\"id\":\"2298\"},{\"id\":\"2299\"}],\"location\":\"bottom_right\"},\"id\":\"2300\",\"type\":\"Legend\"},{\"attributes\":{\"interval\":10},\"id\":\"1853\",\"type\":\"SingleIntervalTicker\"},{\"attributes\":{\"label\":{\"value\":\"Global Mean\"},\"renderers\":[{\"id\":\"2092\"}]},\"id\":\"2298\",\"type\":\"LegendItem\"},{\"attributes\":{\"label\":{\"value\":\"Japan\"},\"renderers\":[{\"id\":\"2163\"}]},\"id\":\"2299\",\"type\":\"LegendItem\"},{\"attributes\":{\"axis_label\":\"Year\",\"axis_line_color\":\"#222222\",\"formatter\":{\"id\":\"2024\"},\"major_label_text_color\":\"#222222\",\"major_tick_line_color\":\"#222222\",\"ticker\":{\"id\":\"1853\"}},\"id\":\"1854\",\"type\":\"LinearAxis\"},{\"attributes\":{\"source\":{\"id\":\"1955\"}},\"id\":\"2093\",\"type\":\"CDSView\"},{\"attributes\":{\"data\":{\"x\":[\"1960\",\"1961\",\"1962\",\"1963\",\"1964\",\"1965\",\"1966\",\"1967\",\"1968\",\"1969\",\"1970\",\"1971\",\"1972\",\"1973\",\"1974\",\"1975\",\"1976\",\"1977\",\"1978\",\"1979\",\"1980\",\"1981\",\"1982\",\"1983\",\"1984\",\"1985\",\"1986\",\"1987\",\"1988\",\"1989\",\"1990\",\"1991\",\"1992\",\"1993\",\"1994\",\"1995\",\"1996\",\"1997\",\"1998\",\"1999\",\"2000\",\"2001\",\"2002\",\"2003\",\"2004\",\"2005\",\"2006\",\"2007\",\"2008\",\"2009\",\"2010\",\"2011\",\"2012\",\"2013\",\"2014\",\"2015\",\"2016\"],\"y\":[[\"NaN\"],[258.911917098446],[261.336242159804],[264.008726479411],[266.77392964276004],[269.656394873193],[272.129806381238],[274.679574584129],[275.59585492227995],[281.352604308699],[284.55140441778],[288.238341968912],[292.384069830878],[294.81451172940496],[300.496453900709],[305.429740791269],[307.697135061392],[310.761462882096],[313.586244541485],[316.239082969432],[318.81517881517897],[321.091703056769],[323.454396504642],[325.666302566903],[329.086920756786],[331.19583104772397],[333.128598848369],[334.862863411958],[336.294569391114],[337.674163466813],[338.828853538124],[339.882062534284],[340.726823916621],[341.568842567197],[342.734503565551],[344.04552934723],[345.012345679012],[345.835390946502],[346.776406035665],[347.410150891632],[347.99176954732496],[348.831275720165],[349.643347050754],[350.39231824417],[350.51028806584395],[350.54320987654296],[350.765432098765],[351.168724279835],[351.338820301783],[351.29492455418404],[351.30983404196996],[350.611778743948],[349.90533519859594],[349.294000987492],[348.726684222076],[348.25123985077903],[\"NaN\"]]},\"selected\":{\"id\":\"2234\"},\"selection_policy\":{\"id\":\"2235\"}},\"id\":\"1957\",\"type\":\"ColumnDataSource\"},{\"attributes\":{},\"id\":\"2024\",\"type\":\"BasicTickFormatter\"},{\"attributes\":{\"axis_label\":\"Population Density\",\"axis_line_color\":\"#222222\",\"formatter\":{\"id\":\"2090\"},\"major_label_text_color\":\"#222222\",\"major_tick_line_color\":\"#222222\",\"ticker\":{\"id\":\"1856\"}},\"id\":\"1857\",\"type\":\"LinearAxis\"},{\"attributes\":{\"data_source\":{\"id\":\"1955\"},\"glyph\":{\"id\":\"1956\"},\"hover_glyph\":null,\"muted_glyph\":null,\"view\":{\"id\":\"2093\"}},\"id\":\"2092\",\"type\":\"GlyphRenderer\"},{\"attributes\":{},\"id\":\"1928\",\"type\":\"LinearScale\"},{\"attributes\":{},\"id\":\"2090\",\"type\":\"BasicTickFormatter\"},{\"attributes\":{\"text\":\"Global Mean Population Density compared to Japan\"},\"id\":\"1859\",\"type\":\"Title\"},{\"attributes\":{},\"id\":\"2161\",\"type\":\"Selection\"},{\"attributes\":{},\"id\":\"1927\",\"type\":\"LinearScale\"},{\"attributes\":{\"source\":{\"id\":\"1957\"}},\"id\":\"2164\",\"type\":\"CDSView\"},{\"attributes\":{\"end\":2016,\"start\":1960},\"id\":\"1851\",\"type\":\"Range1d\"},{\"attributes\":{},\"id\":\"2162\",\"type\":\"UnionRenderers\"},{\"attributes\":{\"end\":368,\"start\":176},\"id\":\"1852\",\"type\":\"Range1d\"},{\"attributes\":{\"data\":{\"x\":[\"1960\",\"1961\",\"1962\",\"1963\",\"1964\",\"1965\",\"1966\",\"1967\",\"1968\",\"1969\",\"1970\",\"1971\",\"1972\",\"1973\",\"1974\",\"1975\",\"1976\",\"1977\",\"1978\",\"1979\",\"1980\",\"1981\",\"1982\",\"1983\",\"1984\",\"1985\",\"1986\",\"1987\",\"1988\",\"1989\",\"1990\",\"1991\",\"1992\",\"1993\",\"1994\",\"1995\",\"1996\",\"1997\",\"1998\",\"1999\",\"2000\",\"2001\",\"2002\",\"2003\",\"2004\",\"2005\",\"2006\",\"2007\",\"2008\",\"2009\",\"2010\",\"2011\",\"2012\",\"2013\",\"2014\",\"2015\",\"2016\"],\"y\":[\"NaN\",176.91514132840538,180.70323050794593,184.57241256109344,188.46179693657592,192.41236330666325,196.1450416961425,200.11806255626678,203.87946438971804,207.33610181304104,210.60787064082177,213.48969393068052,215.99847537207978,218.43870788704376,220.62121004259265,223.04637519433024,224.96025763925198,227.00673421731884,229.1873062407636,232.51077226706067,236.18535672882632,240.78950804386412,246.17517809033163,251.3423894719884,256.6478215554073,261.6807506547611,266.6470381207154,271.7683000551185,276.8132590801086,281.8500544091742,286.0623871161408,288.2925657814559,293.30541582390026,297.7591598237129,302.2754632081671,304.53727599332007,309.71494823309297,313.8969349401545,320.40598102076814,324.0046693079564,327.27075970951086,312.25956971997635,313.2690425735656,315.8476133540732,317.7465585486514,322.6695344714618,326.9079713506048,331.99547408201454,338.68841727220155,343.6492057765068,347.96702857044494,351.94202734671825,357.78730527189884,360.98572564595446,364.8491936638938,368.7066010400187,\"NaN\"]},\"selected\":{\"id\":\"2161\"},\"selection_policy\":{\"id\":\"2162\"}},\"id\":\"1955\",\"type\":\"ColumnDataSource\"},{\"attributes\":{\"line_color\":\"#2678b2\",\"line_width\":2,\"x\":{\"field\":\"x\"},\"y\":{\"field\":\"y\"}},\"id\":\"1956\",\"type\":\"Line\"},{\"attributes\":{\"active_drag\":\"auto\",\"active_inspect\":\"auto\",\"active_multi\":null,\"active_scroll\":\"auto\",\"active_tap\":\"auto\"},\"id\":\"1926\",\"type\":\"Toolbar\"}],\"root_ids\":[\"1860\"]},\"title\":\"Bokeh Application\",\"version\":\"2.0.2\"}};\n",
       "  var render_items = [{\"docid\":\"8580ae8b-c48d-4c2d-8bf2-65943e80ca1e\",\"root_ids\":[\"1860\"],\"roots\":{\"1860\":\"49db9f34-48b4-474b-822c-dfe60cbab591\"}}];\n",
       "  root.Bokeh.embed.embed_items_notebook(docs_json, render_items);\n",
       "\n",
       "  }\n",
       "  if (root.Bokeh !== undefined) {\n",
       "    embed_document(root);\n",
       "  } else {\n",
       "    var attempts = 0;\n",
       "    var timer = setInterval(function(root) {\n",
       "      if (root.Bokeh !== undefined) {\n",
       "        clearInterval(timer);\n",
       "        embed_document(root);\n",
       "      } else {\n",
       "        attempts++;\n",
       "        if (attempts > 100) {\n",
       "          clearInterval(timer);\n",
       "          console.log(\"Bokeh: ERROR: Unable to run BokehJS code because BokehJS library is missing\");\n",
       "        }\n",
       "      }\n",
       "    }, 10, root)\n",
       "  }\n",
       "})(window);"
      ],
      "application/vnd.bokehjs_exec.v0+json": ""
     },
     "metadata": {
      "application/vnd.bokehjs_exec.v0+json": {
       "id": "1860"
      }
     },
     "output_type": "display_data"
    }
   ],
   "source": [
    "# add objects to the plot\n",
    "plot.add_layout(legend)\n",
    "plot.add_layout(x_grid)\n",
    "plot.add_layout(y_grid)\n",
    "show(plot)"
   ]
  },
  {
   "cell_type": "markdown",
   "id": "domestic-champion",
   "metadata": {},
   "source": [
    "# Building a Simple Plot Using Basic Interactivity Widgets"
   ]
  },
  {
   "cell_type": "code",
   "execution_count": 23,
   "id": "representative-textbook",
   "metadata": {},
   "outputs": [],
   "source": [
    "# add interactive widgets\n",
    "from ipywidgets import interact, interact_manual"
   ]
  },
  {
   "cell_type": "code",
   "execution_count": 24,
   "id": "complimentary-jenny",
   "metadata": {},
   "outputs": [
    {
     "data": {
      "application/vnd.jupyter.widget-view+json": {
       "model_id": "5d7edae5fac14c18a2ec147fb489675b",
       "version_major": 2,
       "version_minor": 0
      },
      "text/plain": [
       "interactive(children=(Checkbox(value=False, description='Value'), Output()), _dom_classes=('widget-interact',)…"
      ]
     },
     "metadata": {},
     "output_type": "display_data"
    }
   ],
   "source": [
    "# Create a checkbox widget\n",
    "@interact(Value=False)\n",
    "def checkbox(Value=False):\n",
    "    print(Value)"
   ]
  },
  {
   "cell_type": "code",
   "execution_count": 25,
   "id": "integral-colombia",
   "metadata": {},
   "outputs": [
    {
     "data": {
      "application/vnd.jupyter.widget-view+json": {
       "model_id": "dac522aa5a074ecd9097f96f72b2f2df",
       "version_major": 2,
       "version_minor": 0
      },
      "text/plain": [
       "interactive(children=(Dropdown(description='Value', options=('Option1', 'Option2', 'Option3', 'Option4'), valu…"
      ]
     },
     "metadata": {},
     "output_type": "display_data"
    }
   ],
   "source": [
    "# create a dropdown using a list of options\n",
    "# creating a dropdown\n",
    "options=['Option1', 'Option2', 'Option3', 'Option4']\n",
    "@interact(Value=options)\n",
    "def dropdown(Value=options[0]):\n",
    "    print(Value)"
   ]
  },
  {
   "cell_type": "code",
   "execution_count": 26,
   "id": "dense-shore",
   "metadata": {},
   "outputs": [
    {
     "data": {
      "application/vnd.jupyter.widget-view+json": {
       "model_id": "c638355076e84abd84588ca7cca33d2e",
       "version_major": 2,
       "version_minor": 0
      },
      "text/plain": [
       "interactive(children=(Text(value='Input Text', description='Value'), Output()), _dom_classes=('widget-interact…"
      ]
     },
     "metadata": {},
     "output_type": "display_data"
    }
   ],
   "source": [
    "# Create a text input\n",
    "@interact(Value='Input Text')\n",
    "def text_input(Value):\n",
    "    print(Value)"
   ]
  },
  {
   "cell_type": "code",
   "execution_count": 27,
   "id": "global-colombia",
   "metadata": {},
   "outputs": [
    {
     "data": {
      "application/vnd.jupyter.widget-view+json": {
       "model_id": "3a5e38172fce4423aac9f57aa6ab043b",
       "version_major": 2,
       "version_minor": 0
      },
      "text/plain": [
       "interactive(children=(Dropdown(description='Select', options=('Option1', 'Option2', 'Option3', 'Option4'), val…"
      ]
     },
     "metadata": {},
     "output_type": "display_data"
    }
   ],
   "source": [
    "# Create two widgets, a dropdown and a checkbox with the same value\n",
    "options=['Option1', 'Option2', 'Option3', 'Option4']\n",
    "@interact(Select=options, Display=False)\n",
    "def uif(Select, Display):\n",
    "    print(Select, Display)"
   ]
  },
  {
   "cell_type": "code",
   "execution_count": 28,
   "id": "optical-natural",
   "metadata": {},
   "outputs": [
    {
     "data": {
      "application/vnd.jupyter.widget-view+json": {
       "model_id": "7c8a41466c594cb0b96ff9372dc3d465",
       "version_major": 2,
       "version_minor": 0
      },
      "text/plain": [
       "interactive(children=(IntSlider(value=0, description='Value'), Output()), _dom_classes=('widget-interact',))"
      ]
     },
     "metadata": {},
     "output_type": "display_data"
    }
   ],
   "source": [
    "# Create an int slider using a range value of (0,100) as the @interact decorator value\n",
    "@interact(Value=(0, 100))\n",
    "def slider(Value=0):\n",
    "    print(Value)"
   ]
  },
  {
   "cell_type": "code",
   "execution_count": 29,
   "id": "prospective-shadow",
   "metadata": {},
   "outputs": [
    {
     "data": {
      "application/vnd.jupyter.widget-view+json": {
       "model_id": "6c9f5ffb03c54b7394660954ba4ced5b",
       "version_major": 2,
       "version_minor": 0
      },
      "text/plain": [
       "interactive(children=(IntSlider(value=0, continuous_update=False, description='Value'), Output()), _dom_classe…"
      ]
     },
     "metadata": {},
     "output_type": "display_data"
    }
   ],
   "source": [
    "# Create an int slider using values of 0 and 100 as the @interact decorator min and max values\n",
    "from ipywidgets import IntSlider\n",
    "slider=IntSlider(min=0, max=100, continuous_update=False)\n",
    "@interact(Value=slider)\n",
    "def slider(Value=0.0):\n",
    "    print(Value)"
   ]
  },
  {
   "cell_type": "code",
   "execution_count": 30,
   "id": "protected-winning",
   "metadata": {},
   "outputs": [
    {
     "data": {
      "application/vnd.jupyter.widget-view+json": {
       "model_id": "fe749939569d401b85f2ddc6472b1df3",
       "version_major": 2,
       "version_minor": 0
      },
      "text/plain": [
       "interactive(children=(FloatSlider(value=0.0, description='Value', step=0.5), Button(description='Run Interact'…"
      ]
     },
     "metadata": {},
     "output_type": "display_data"
    }
   ],
   "source": [
    "# Use the @interact_manual decorator\n",
    "@interact_manual(Value=(0.0, 100.0, 0.5))\n",
    "def slider(Value=0.0):\n",
    "    print(Value)"
   ]
  },
  {
   "cell_type": "markdown",
   "id": "positive-blank",
   "metadata": {},
   "source": [
    "# Plotting Stock Price Data in Tabs"
   ]
  },
  {
   "cell_type": "code",
   "execution_count": 31,
   "id": "assisted-values",
   "metadata": {},
   "outputs": [
    {
     "data": {
      "text/html": [
       "<div>\n",
       "<style scoped>\n",
       "    .dataframe tbody tr th:only-of-type {\n",
       "        vertical-align: middle;\n",
       "    }\n",
       "\n",
       "    .dataframe tbody tr th {\n",
       "        vertical-align: top;\n",
       "    }\n",
       "\n",
       "    .dataframe thead th {\n",
       "        text-align: right;\n",
       "    }\n",
       "</style>\n",
       "<table border=\"1\" class=\"dataframe\">\n",
       "  <thead>\n",
       "    <tr style=\"text-align: right;\">\n",
       "      <th></th>\n",
       "      <th>date</th>\n",
       "      <th>symbol</th>\n",
       "      <th>open</th>\n",
       "      <th>close</th>\n",
       "      <th>low</th>\n",
       "      <th>high</th>\n",
       "      <th>volume</th>\n",
       "    </tr>\n",
       "  </thead>\n",
       "  <tbody>\n",
       "    <tr>\n",
       "      <th>0</th>\n",
       "      <td>2016-01-05 00:00:00</td>\n",
       "      <td>WLTW</td>\n",
       "      <td>123.430000</td>\n",
       "      <td>125.839996</td>\n",
       "      <td>122.309998</td>\n",
       "      <td>126.250000</td>\n",
       "      <td>2163600.0</td>\n",
       "    </tr>\n",
       "    <tr>\n",
       "      <th>1</th>\n",
       "      <td>2016-01-06 00:00:00</td>\n",
       "      <td>WLTW</td>\n",
       "      <td>125.239998</td>\n",
       "      <td>119.980003</td>\n",
       "      <td>119.940002</td>\n",
       "      <td>125.540001</td>\n",
       "      <td>2386400.0</td>\n",
       "    </tr>\n",
       "    <tr>\n",
       "      <th>2</th>\n",
       "      <td>2016-01-07 00:00:00</td>\n",
       "      <td>WLTW</td>\n",
       "      <td>116.379997</td>\n",
       "      <td>114.949997</td>\n",
       "      <td>114.930000</td>\n",
       "      <td>119.739998</td>\n",
       "      <td>2489500.0</td>\n",
       "    </tr>\n",
       "    <tr>\n",
       "      <th>3</th>\n",
       "      <td>2016-01-08 00:00:00</td>\n",
       "      <td>WLTW</td>\n",
       "      <td>115.480003</td>\n",
       "      <td>116.620003</td>\n",
       "      <td>113.500000</td>\n",
       "      <td>117.440002</td>\n",
       "      <td>2006300.0</td>\n",
       "    </tr>\n",
       "    <tr>\n",
       "      <th>4</th>\n",
       "      <td>2016-01-11 00:00:00</td>\n",
       "      <td>WLTW</td>\n",
       "      <td>117.010002</td>\n",
       "      <td>114.970001</td>\n",
       "      <td>114.089996</td>\n",
       "      <td>117.330002</td>\n",
       "      <td>1408600.0</td>\n",
       "    </tr>\n",
       "  </tbody>\n",
       "</table>\n",
       "</div>"
      ],
      "text/plain": [
       "                  date symbol        open       close         low        high  \\\n",
       "0  2016-01-05 00:00:00   WLTW  123.430000  125.839996  122.309998  126.250000   \n",
       "1  2016-01-06 00:00:00   WLTW  125.239998  119.980003  119.940002  125.540001   \n",
       "2  2016-01-07 00:00:00   WLTW  116.379997  114.949997  114.930000  119.739998   \n",
       "3  2016-01-08 00:00:00   WLTW  115.480003  116.620003  113.500000  117.440002   \n",
       "4  2016-01-11 00:00:00   WLTW  117.010002  114.970001  114.089996  117.330002   \n",
       "\n",
       "      volume  \n",
       "0  2163600.0  \n",
       "1  2386400.0  \n",
       "2  2489500.0  \n",
       "3  2006300.0  \n",
       "4  1408600.0  "
      ]
     },
     "execution_count": 31,
     "metadata": {},
     "output_type": "execute_result"
    }
   ],
   "source": [
    "# load the data\n",
    "df = pd.read_csv('Datasets/stock_prices.csv')\n",
    "df.head()"
   ]
  },
  {
   "cell_type": "code",
   "execution_count": 32,
   "id": "charitable-lesbian",
   "metadata": {},
   "outputs": [
    {
     "data": {
      "text/html": [
       "<div>\n",
       "<style scoped>\n",
       "    .dataframe tbody tr th:only-of-type {\n",
       "        vertical-align: middle;\n",
       "    }\n",
       "\n",
       "    .dataframe tbody tr th {\n",
       "        vertical-align: top;\n",
       "    }\n",
       "\n",
       "    .dataframe thead th {\n",
       "        text-align: right;\n",
       "    }\n",
       "</style>\n",
       "<table border=\"1\" class=\"dataframe\">\n",
       "  <thead>\n",
       "    <tr style=\"text-align: right;\">\n",
       "      <th></th>\n",
       "      <th>date</th>\n",
       "      <th>symbol</th>\n",
       "      <th>open</th>\n",
       "      <th>close</th>\n",
       "      <th>low</th>\n",
       "      <th>high</th>\n",
       "      <th>volume</th>\n",
       "      <th>short_date</th>\n",
       "    </tr>\n",
       "  </thead>\n",
       "  <tbody>\n",
       "    <tr>\n",
       "      <th>0</th>\n",
       "      <td>2016-01-05 00:00:00</td>\n",
       "      <td>WLTW</td>\n",
       "      <td>123.430000</td>\n",
       "      <td>125.839996</td>\n",
       "      <td>122.309998</td>\n",
       "      <td>126.250000</td>\n",
       "      <td>2163600.0</td>\n",
       "      <td>2016-01-05</td>\n",
       "    </tr>\n",
       "    <tr>\n",
       "      <th>1</th>\n",
       "      <td>2016-01-06 00:00:00</td>\n",
       "      <td>WLTW</td>\n",
       "      <td>125.239998</td>\n",
       "      <td>119.980003</td>\n",
       "      <td>119.940002</td>\n",
       "      <td>125.540001</td>\n",
       "      <td>2386400.0</td>\n",
       "      <td>2016-01-06</td>\n",
       "    </tr>\n",
       "    <tr>\n",
       "      <th>2</th>\n",
       "      <td>2016-01-07 00:00:00</td>\n",
       "      <td>WLTW</td>\n",
       "      <td>116.379997</td>\n",
       "      <td>114.949997</td>\n",
       "      <td>114.930000</td>\n",
       "      <td>119.739998</td>\n",
       "      <td>2489500.0</td>\n",
       "      <td>2016-01-07</td>\n",
       "    </tr>\n",
       "    <tr>\n",
       "      <th>3</th>\n",
       "      <td>2016-01-08 00:00:00</td>\n",
       "      <td>WLTW</td>\n",
       "      <td>115.480003</td>\n",
       "      <td>116.620003</td>\n",
       "      <td>113.500000</td>\n",
       "      <td>117.440002</td>\n",
       "      <td>2006300.0</td>\n",
       "      <td>2016-01-08</td>\n",
       "    </tr>\n",
       "    <tr>\n",
       "      <th>4</th>\n",
       "      <td>2016-01-11 00:00:00</td>\n",
       "      <td>WLTW</td>\n",
       "      <td>117.010002</td>\n",
       "      <td>114.970001</td>\n",
       "      <td>114.089996</td>\n",
       "      <td>117.330002</td>\n",
       "      <td>1408600.0</td>\n",
       "      <td>2016-01-11</td>\n",
       "    </tr>\n",
       "  </tbody>\n",
       "</table>\n",
       "</div>"
      ],
      "text/plain": [
       "                  date symbol        open       close         low        high  \\\n",
       "0  2016-01-05 00:00:00   WLTW  123.430000  125.839996  122.309998  126.250000   \n",
       "1  2016-01-06 00:00:00   WLTW  125.239998  119.980003  119.940002  125.540001   \n",
       "2  2016-01-07 00:00:00   WLTW  116.379997  114.949997  114.930000  119.739998   \n",
       "3  2016-01-08 00:00:00   WLTW  115.480003  116.620003  113.500000  117.440002   \n",
       "4  2016-01-11 00:00:00   WLTW  117.010002  114.970001  114.089996  117.330002   \n",
       "\n",
       "      volume  short_date  \n",
       "0  2163600.0  2016-01-05  \n",
       "1  2386400.0  2016-01-06  \n",
       "2  2489500.0  2016-01-07  \n",
       "3  2006300.0  2016-01-08  \n",
       "4  1408600.0  2016-01-11  "
      ]
     },
     "execution_count": 32,
     "metadata": {},
     "output_type": "execute_result"
    }
   ],
   "source": [
    "# Create a new column that holds the formatted short version of the date value\n",
    "from datetime import datetime\n",
    "def shorten_time_stamp(timestamp):\n",
    "    shortened = timestamp[0]\n",
    "    if len(shortened) > 10:\n",
    "        parsed_date = datetime.strptime(shortened, '%Y-%m-%d %H:%M:%S')\n",
    "        shortened = datetime.strftime(parsed_date, '%Y-%m-%d')\n",
    "    return shortened\n",
    "df['short_date'] = df.apply(lambda x: shorten_time_stamp(x), axis=1)\n",
    "df.head()"
   ]
  },
  {
   "cell_type": "code",
   "execution_count": 33,
   "id": "developmental-causing",
   "metadata": {},
   "outputs": [],
   "source": [
    "# Import the already-familiar figure and show methods from the plotting interface\n",
    "from ipywidgets import interact\n",
    "from bokeh.models.widgets import Panel, Tabs\n",
    "from bokeh.plotting import figure, show"
   ]
  },
  {
   "cell_type": "code",
   "execution_count": 34,
   "id": "educated-difficulty",
   "metadata": {},
   "outputs": [],
   "source": [
    "# Create two tabs. The first tab will contain a line plot of the given data,\n",
    "# while the second will contain a circle-based representation of the same data\n",
    "\n",
    "def get_plot(stock):\n",
    "    stock_name = stock['symbol'].unique()[0]\n",
    "    line_plot = figure(title='Stock prices',\n",
    "                        x_axis_label='Date',\n",
    "                        x_range=stock['short_date'],\n",
    "                        y_axis_label='Price in $USD')\n",
    "    line_plot.line(stock['short_date'], stock['high'], legend_label=stock_name)\n",
    "    line_plot.xaxis.major_label_orientation = 1\n",
    "    circle_plot = figure(title='Stock prices',\n",
    "                        x_axis_label='Date',\n",
    "                        x_range=stock['short_date'],\n",
    "                        y_axis_label='Price in $USD')\n",
    "    circle_plot.circle(stock['short_date'], stock['high'], legend_label=stock_name)\n",
    "    circle_plot.xaxis.major_label_orientation = 1\n",
    "   \n",
    "    line_tab = Panel(child=line_plot, title='Line')\n",
    "    circle_tab = Panel(child=circle_plot, title='Circles')\n",
    "    tabs = Tabs(tabs=[ line_tab, circle_tab ])\n",
    "    return tabs"
   ]
  },
  {
   "cell_type": "code",
   "execution_count": 35,
   "id": "elect-glenn",
   "metadata": {},
   "outputs": [],
   "source": [
    "# Get a list of all the stock names\n",
    "stock_names = df['symbol'].unique()"
   ]
  },
  {
   "cell_type": "code",
   "execution_count": 36,
   "id": "european-senior",
   "metadata": {},
   "outputs": [
    {
     "data": {
      "application/vnd.jupyter.widget-view+json": {
       "model_id": "2b8e8f7c0d344b908a266eea0b4496e2",
       "version_major": 2,
       "version_minor": 0
      },
      "text/plain": [
       "interactive(children=(Dropdown(description='Stock', index=4, options=('WLTW', 'A', 'AAL', 'AAP', 'AAPL', 'ABC'…"
      ]
     },
     "metadata": {},
     "output_type": "display_data"
    }
   ],
   "source": [
    "# Add the drop-down widget in the decorator\n",
    "@interact(Stock=stock_names)\n",
    "def get_stock_for(Stock='AAPL'):\n",
    "    stock = df[df['symbol'] == Stock][:25]\n",
    "    show(get_plot(stock))"
   ]
  }
 ],
 "metadata": {
  "kernelspec": {
   "display_name": "Python 3",
   "language": "python",
   "name": "python3"
  },
  "language_info": {
   "codemirror_mode": {
    "name": "ipython",
    "version": 3
   },
   "file_extension": ".py",
   "mimetype": "text/x-python",
   "name": "python",
   "nbconvert_exporter": "python",
   "pygments_lexer": "ipython3",
   "version": "3.7.7"
  }
 },
 "nbformat": 4,
 "nbformat_minor": 5
}
